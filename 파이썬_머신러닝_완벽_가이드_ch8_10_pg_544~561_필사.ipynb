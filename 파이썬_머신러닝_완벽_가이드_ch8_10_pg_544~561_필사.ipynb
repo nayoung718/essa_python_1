{
  "nbformat": 4,
  "nbformat_minor": 0,
  "metadata": {
    "colab": {
      "provenance": [],
      "authorship_tag": "ABX9TyMlSU0p5cExeSXB/UKvYGlU",
      "include_colab_link": true
    },
    "kernelspec": {
      "name": "python3",
      "display_name": "Python 3"
    },
    "language_info": {
      "name": "python"
    }
  },
  "cells": [
    {
      "cell_type": "markdown",
      "metadata": {
        "id": "view-in-github",
        "colab_type": "text"
      },
      "source": [
        "<a href=\"https://colab.research.google.com/github/nayoung718/essa_python_1/blob/main/%ED%8C%8C%EC%9D%B4%EC%8D%AC_%EB%A8%B8%EC%8B%A0%EB%9F%AC%EB%8B%9D_%EC%99%84%EB%B2%BD_%EA%B0%80%EC%9D%B4%EB%93%9C_ch8_10_pg_544~561_%ED%95%84%EC%82%AC.ipynb\" target=\"_parent\"><img src=\"https://colab.research.google.com/assets/colab-badge.svg\" alt=\"Open In Colab\"/></a>"
      ]
    },
    {
      "cell_type": "markdown",
      "source": [
        "# 파이썬 머신러닝 완벽 가이드 ch8.10 pg. 544 ~ 561 필사"
      ],
      "metadata": {
        "id": "MH60UvMC-gKX"
      }
    },
    {
      "cell_type": "markdown",
      "source": [
        "## 10. 텍스트 분석 실습 - 캐글 Mercari Price Suggestion Challenge\n",
        "\n",
        "- 일본 대형 온라인 쇼핑몰 Mercari사의 제품에 대해 가격 예측하는 과제 -> 제품 속성, 설명 등의 텍스트 데이터로 구성됨\n",
        "\n",
        "데이터 세트 속성 : train_id, name, item_condition_id, category_name, brand_name, price, shipping, item_description\n",
        "\n",
        "-> price : 예측해야할 타깃 값\n",
        "\n",
        "- 데이터 전처리"
      ],
      "metadata": {
        "id": "Ml-2uzwB_F1g"
      }
    },
    {
      "cell_type": "code",
      "execution_count": 25,
      "metadata": {
        "colab": {
          "base_uri": "https://localhost:8080/",
          "height": 494
        },
        "id": "X4M5E91J-emD",
        "outputId": "4376f133-5119-4bca-f9f3-7ae99051d508"
      },
      "outputs": [
        {
          "output_type": "stream",
          "name": "stdout",
          "text": [
            "(1482535, 8)\n"
          ]
        },
        {
          "output_type": "execute_result",
          "data": {
            "text/plain": [
              "   train_id                                 name  item_condition_id  \\\n",
              "0         0  MLB Cincinnati Reds T Shirt Size XL                  3   \n",
              "1         1     Razer BlackWidow Chroma Keyboard                  3   \n",
              "2         2                       AVA-VIV Blouse                  1   \n",
              "\n",
              "                                        category_name brand_name  price  \\\n",
              "0                                   Men/Tops/T-shirts        NaN   10.0   \n",
              "1  Electronics/Computers & Tablets/Components & Parts      Razer   52.0   \n",
              "2                         Women/Tops & Blouses/Blouse     Target   10.0   \n",
              "\n",
              "   shipping  \\\n",
              "0         1   \n",
              "1         0   \n",
              "2         1   \n",
              "\n",
              "                                                                                                                                                                               item_description  \n",
              "0                                                                                                                                                                            No description yet  \n",
              "1  This keyboard is in great condition and works like it came out of the box. All of the ports are tested and work perfectly. The lights are customizable via the Razer Synapse app on your PC.  \n",
              "2                                                                  Adorable top with a hint of lace and a key hole in the back! The pale pink is a 1X, and I also have a 3X available in white!  "
            ],
            "text/html": [
              "\n",
              "  <div id=\"df-9dce3bdf-d7cf-443a-bcbb-9c53aaf2d20f\" class=\"colab-df-container\">\n",
              "    <div>\n",
              "<style scoped>\n",
              "    .dataframe tbody tr th:only-of-type {\n",
              "        vertical-align: middle;\n",
              "    }\n",
              "\n",
              "    .dataframe tbody tr th {\n",
              "        vertical-align: top;\n",
              "    }\n",
              "\n",
              "    .dataframe thead th {\n",
              "        text-align: right;\n",
              "    }\n",
              "</style>\n",
              "<table border=\"1\" class=\"dataframe\">\n",
              "  <thead>\n",
              "    <tr style=\"text-align: right;\">\n",
              "      <th></th>\n",
              "      <th>train_id</th>\n",
              "      <th>name</th>\n",
              "      <th>item_condition_id</th>\n",
              "      <th>category_name</th>\n",
              "      <th>brand_name</th>\n",
              "      <th>price</th>\n",
              "      <th>shipping</th>\n",
              "      <th>item_description</th>\n",
              "    </tr>\n",
              "  </thead>\n",
              "  <tbody>\n",
              "    <tr>\n",
              "      <th>0</th>\n",
              "      <td>0</td>\n",
              "      <td>MLB Cincinnati Reds T Shirt Size XL</td>\n",
              "      <td>3</td>\n",
              "      <td>Men/Tops/T-shirts</td>\n",
              "      <td>NaN</td>\n",
              "      <td>10.0</td>\n",
              "      <td>1</td>\n",
              "      <td>No description yet</td>\n",
              "    </tr>\n",
              "    <tr>\n",
              "      <th>1</th>\n",
              "      <td>1</td>\n",
              "      <td>Razer BlackWidow Chroma Keyboard</td>\n",
              "      <td>3</td>\n",
              "      <td>Electronics/Computers &amp; Tablets/Components &amp; Parts</td>\n",
              "      <td>Razer</td>\n",
              "      <td>52.0</td>\n",
              "      <td>0</td>\n",
              "      <td>This keyboard is in great condition and works like it came out of the box. All of the ports are tested and work perfectly. The lights are customizable via the Razer Synapse app on your PC.</td>\n",
              "    </tr>\n",
              "    <tr>\n",
              "      <th>2</th>\n",
              "      <td>2</td>\n",
              "      <td>AVA-VIV Blouse</td>\n",
              "      <td>1</td>\n",
              "      <td>Women/Tops &amp; Blouses/Blouse</td>\n",
              "      <td>Target</td>\n",
              "      <td>10.0</td>\n",
              "      <td>1</td>\n",
              "      <td>Adorable top with a hint of lace and a key hole in the back! The pale pink is a 1X, and I also have a 3X available in white!</td>\n",
              "    </tr>\n",
              "  </tbody>\n",
              "</table>\n",
              "</div>\n",
              "    <div class=\"colab-df-buttons\">\n",
              "\n",
              "  <div class=\"colab-df-container\">\n",
              "    <button class=\"colab-df-convert\" onclick=\"convertToInteractive('df-9dce3bdf-d7cf-443a-bcbb-9c53aaf2d20f')\"\n",
              "            title=\"Convert this dataframe to an interactive table.\"\n",
              "            style=\"display:none;\">\n",
              "\n",
              "  <svg xmlns=\"http://www.w3.org/2000/svg\" height=\"24px\" viewBox=\"0 -960 960 960\">\n",
              "    <path d=\"M120-120v-720h720v720H120Zm60-500h600v-160H180v160Zm220 220h160v-160H400v160Zm0 220h160v-160H400v160ZM180-400h160v-160H180v160Zm440 0h160v-160H620v160ZM180-180h160v-160H180v160Zm440 0h160v-160H620v160Z\"/>\n",
              "  </svg>\n",
              "    </button>\n",
              "\n",
              "  <style>\n",
              "    .colab-df-container {\n",
              "      display:flex;\n",
              "      gap: 12px;\n",
              "    }\n",
              "\n",
              "    .colab-df-convert {\n",
              "      background-color: #E8F0FE;\n",
              "      border: none;\n",
              "      border-radius: 50%;\n",
              "      cursor: pointer;\n",
              "      display: none;\n",
              "      fill: #1967D2;\n",
              "      height: 32px;\n",
              "      padding: 0 0 0 0;\n",
              "      width: 32px;\n",
              "    }\n",
              "\n",
              "    .colab-df-convert:hover {\n",
              "      background-color: #E2EBFA;\n",
              "      box-shadow: 0px 1px 2px rgba(60, 64, 67, 0.3), 0px 1px 3px 1px rgba(60, 64, 67, 0.15);\n",
              "      fill: #174EA6;\n",
              "    }\n",
              "\n",
              "    .colab-df-buttons div {\n",
              "      margin-bottom: 4px;\n",
              "    }\n",
              "\n",
              "    [theme=dark] .colab-df-convert {\n",
              "      background-color: #3B4455;\n",
              "      fill: #D2E3FC;\n",
              "    }\n",
              "\n",
              "    [theme=dark] .colab-df-convert:hover {\n",
              "      background-color: #434B5C;\n",
              "      box-shadow: 0px 1px 3px 1px rgba(0, 0, 0, 0.15);\n",
              "      filter: drop-shadow(0px 1px 2px rgba(0, 0, 0, 0.3));\n",
              "      fill: #FFFFFF;\n",
              "    }\n",
              "  </style>\n",
              "\n",
              "    <script>\n",
              "      const buttonEl =\n",
              "        document.querySelector('#df-9dce3bdf-d7cf-443a-bcbb-9c53aaf2d20f button.colab-df-convert');\n",
              "      buttonEl.style.display =\n",
              "        google.colab.kernel.accessAllowed ? 'block' : 'none';\n",
              "\n",
              "      async function convertToInteractive(key) {\n",
              "        const element = document.querySelector('#df-9dce3bdf-d7cf-443a-bcbb-9c53aaf2d20f');\n",
              "        const dataTable =\n",
              "          await google.colab.kernel.invokeFunction('convertToInteractive',\n",
              "                                                    [key], {});\n",
              "        if (!dataTable) return;\n",
              "\n",
              "        const docLinkHtml = 'Like what you see? Visit the ' +\n",
              "          '<a target=\"_blank\" href=https://colab.research.google.com/notebooks/data_table.ipynb>data table notebook</a>'\n",
              "          + ' to learn more about interactive tables.';\n",
              "        element.innerHTML = '';\n",
              "        dataTable['output_type'] = 'display_data';\n",
              "        await google.colab.output.renderOutput(dataTable, element);\n",
              "        const docLink = document.createElement('div');\n",
              "        docLink.innerHTML = docLinkHtml;\n",
              "        element.appendChild(docLink);\n",
              "      }\n",
              "    </script>\n",
              "  </div>\n",
              "\n",
              "\n",
              "<div id=\"df-c82837ff-5261-49bb-980f-dfcfb5a5ba6a\">\n",
              "  <button class=\"colab-df-quickchart\" onclick=\"quickchart('df-c82837ff-5261-49bb-980f-dfcfb5a5ba6a')\"\n",
              "            title=\"Suggest charts\"\n",
              "            style=\"display:none;\">\n",
              "\n",
              "<svg xmlns=\"http://www.w3.org/2000/svg\" height=\"24px\"viewBox=\"0 0 24 24\"\n",
              "     width=\"24px\">\n",
              "    <g>\n",
              "        <path d=\"M19 3H5c-1.1 0-2 .9-2 2v14c0 1.1.9 2 2 2h14c1.1 0 2-.9 2-2V5c0-1.1-.9-2-2-2zM9 17H7v-7h2v7zm4 0h-2V7h2v10zm4 0h-2v-4h2v4z\"/>\n",
              "    </g>\n",
              "</svg>\n",
              "  </button>\n",
              "\n",
              "<style>\n",
              "  .colab-df-quickchart {\n",
              "      --bg-color: #E8F0FE;\n",
              "      --fill-color: #1967D2;\n",
              "      --hover-bg-color: #E2EBFA;\n",
              "      --hover-fill-color: #174EA6;\n",
              "      --disabled-fill-color: #AAA;\n",
              "      --disabled-bg-color: #DDD;\n",
              "  }\n",
              "\n",
              "  [theme=dark] .colab-df-quickchart {\n",
              "      --bg-color: #3B4455;\n",
              "      --fill-color: #D2E3FC;\n",
              "      --hover-bg-color: #434B5C;\n",
              "      --hover-fill-color: #FFFFFF;\n",
              "      --disabled-bg-color: #3B4455;\n",
              "      --disabled-fill-color: #666;\n",
              "  }\n",
              "\n",
              "  .colab-df-quickchart {\n",
              "    background-color: var(--bg-color);\n",
              "    border: none;\n",
              "    border-radius: 50%;\n",
              "    cursor: pointer;\n",
              "    display: none;\n",
              "    fill: var(--fill-color);\n",
              "    height: 32px;\n",
              "    padding: 0;\n",
              "    width: 32px;\n",
              "  }\n",
              "\n",
              "  .colab-df-quickchart:hover {\n",
              "    background-color: var(--hover-bg-color);\n",
              "    box-shadow: 0 1px 2px rgba(60, 64, 67, 0.3), 0 1px 3px 1px rgba(60, 64, 67, 0.15);\n",
              "    fill: var(--button-hover-fill-color);\n",
              "  }\n",
              "\n",
              "  .colab-df-quickchart-complete:disabled,\n",
              "  .colab-df-quickchart-complete:disabled:hover {\n",
              "    background-color: var(--disabled-bg-color);\n",
              "    fill: var(--disabled-fill-color);\n",
              "    box-shadow: none;\n",
              "  }\n",
              "\n",
              "  .colab-df-spinner {\n",
              "    border: 2px solid var(--fill-color);\n",
              "    border-color: transparent;\n",
              "    border-bottom-color: var(--fill-color);\n",
              "    animation:\n",
              "      spin 1s steps(1) infinite;\n",
              "  }\n",
              "\n",
              "  @keyframes spin {\n",
              "    0% {\n",
              "      border-color: transparent;\n",
              "      border-bottom-color: var(--fill-color);\n",
              "      border-left-color: var(--fill-color);\n",
              "    }\n",
              "    20% {\n",
              "      border-color: transparent;\n",
              "      border-left-color: var(--fill-color);\n",
              "      border-top-color: var(--fill-color);\n",
              "    }\n",
              "    30% {\n",
              "      border-color: transparent;\n",
              "      border-left-color: var(--fill-color);\n",
              "      border-top-color: var(--fill-color);\n",
              "      border-right-color: var(--fill-color);\n",
              "    }\n",
              "    40% {\n",
              "      border-color: transparent;\n",
              "      border-right-color: var(--fill-color);\n",
              "      border-top-color: var(--fill-color);\n",
              "    }\n",
              "    60% {\n",
              "      border-color: transparent;\n",
              "      border-right-color: var(--fill-color);\n",
              "    }\n",
              "    80% {\n",
              "      border-color: transparent;\n",
              "      border-right-color: var(--fill-color);\n",
              "      border-bottom-color: var(--fill-color);\n",
              "    }\n",
              "    90% {\n",
              "      border-color: transparent;\n",
              "      border-bottom-color: var(--fill-color);\n",
              "    }\n",
              "  }\n",
              "</style>\n",
              "\n",
              "  <script>\n",
              "    async function quickchart(key) {\n",
              "      const quickchartButtonEl =\n",
              "        document.querySelector('#' + key + ' button');\n",
              "      quickchartButtonEl.disabled = true;  // To prevent multiple clicks.\n",
              "      quickchartButtonEl.classList.add('colab-df-spinner');\n",
              "      try {\n",
              "        const charts = await google.colab.kernel.invokeFunction(\n",
              "            'suggestCharts', [key], {});\n",
              "      } catch (error) {\n",
              "        console.error('Error during call to suggestCharts:', error);\n",
              "      }\n",
              "      quickchartButtonEl.classList.remove('colab-df-spinner');\n",
              "      quickchartButtonEl.classList.add('colab-df-quickchart-complete');\n",
              "    }\n",
              "    (() => {\n",
              "      let quickchartButtonEl =\n",
              "        document.querySelector('#df-c82837ff-5261-49bb-980f-dfcfb5a5ba6a button');\n",
              "      quickchartButtonEl.style.display =\n",
              "        google.colab.kernel.accessAllowed ? 'block' : 'none';\n",
              "    })();\n",
              "  </script>\n",
              "</div>\n",
              "\n",
              "    </div>\n",
              "  </div>\n"
            ],
            "application/vnd.google.colaboratory.intrinsic+json": {
              "type": "dataframe",
              "variable_name": "mercari_df"
            }
          },
          "metadata": {},
          "execution_count": 25
        }
      ],
      "source": [
        "from sklearn.linear_model import Ridge, LogisticRegression\n",
        "from sklearn.model_selection import train_test_split, cross_val_score\n",
        "from sklearn.feature_extraction.text import CountVectorizer, TfidfVectorizer\n",
        "import pandas as pd\n",
        "\n",
        "mercari_df=pd.read_csv('/train.tsv', sep='\\t')\n",
        "print(mercari_df.shape)\n",
        "mercari_df.head(3)"
      ]
    },
    {
      "cell_type": "code",
      "source": [
        "#피처 타입과 null 여부 확인\n",
        "print(mercari_df.info())"
      ],
      "metadata": {
        "colab": {
          "base_uri": "https://localhost:8080/"
        },
        "id": "7lujK7cG-woc",
        "outputId": "a78227d3-dee6-47c3-c6ae-29fe87a7b03d"
      },
      "execution_count": 26,
      "outputs": [
        {
          "output_type": "stream",
          "name": "stdout",
          "text": [
            "<class 'pandas.core.frame.DataFrame'>\n",
            "RangeIndex: 1482535 entries, 0 to 1482534\n",
            "Data columns (total 8 columns):\n",
            " #   Column             Non-Null Count    Dtype  \n",
            "---  ------             --------------    -----  \n",
            " 0   train_id           1482535 non-null  int64  \n",
            " 1   name               1482535 non-null  object \n",
            " 2   item_condition_id  1482535 non-null  int64  \n",
            " 3   category_name      1476208 non-null  object \n",
            " 4   brand_name         849853 non-null   object \n",
            " 5   price              1482535 non-null  float64\n",
            " 6   shipping           1482535 non-null  int64  \n",
            " 7   item_description   1482529 non-null  object \n",
            "dtypes: float64(1), int64(3), object(4)\n",
            "memory usage: 90.5+ MB\n",
            "None\n"
          ]
        }
      ]
    },
    {
      "cell_type": "code",
      "source": [
        "#brand_name 칼럼 많은 null값 -> 가격에 영향을 미치는 중요 요인으로 판단되지만 null이 많음-> null 적절한 문자열로 치환\n",
        "#target 값인 price 칼럼 데이터 분포도 보기 ->왜곡돼있을 경우 로그 변환\n",
        "\n",
        "import matplotlib.pyplot as plt\n",
        "import seaborn as sns\n",
        "%matplotlib inline\n",
        "\n",
        "y_train_df=mercari_df['price']\n",
        "plt.figure(figsize=(6,4))\n",
        "sns.displot(y_train_df, kde=False)"
      ],
      "metadata": {
        "colab": {
          "base_uri": "https://localhost:8080/",
          "height": 544
        },
        "id": "FIR9szI2-wlo",
        "outputId": "df23bce4-2894-4d6b-84f7-7b6a08f3ea0d"
      },
      "execution_count": 27,
      "outputs": [
        {
          "output_type": "execute_result",
          "data": {
            "text/plain": [
              "<seaborn.axisgrid.FacetGrid at 0x7f7816f3bdf0>"
            ]
          },
          "metadata": {},
          "execution_count": 27
        },
        {
          "output_type": "display_data",
          "data": {
            "text/plain": [
              "<Figure size 600x400 with 0 Axes>"
            ]
          },
          "metadata": {}
        },
        {
          "output_type": "display_data",
          "data": {
            "text/plain": [
              "<Figure size 500x500 with 1 Axes>"
            ],
            "image/png": "[encoded data removed]"
          },
          "metadata": {}
        }
      ]
    },
    {
      "cell_type": "code",
      "source": [
        "#적은 가격을 가진 데이터 값에 왜곡돼 분포 -> 로그 변환\n",
        "import numpy as np\n",
        "\n",
        "y_train_df = np.log1p(y_train_df)\n",
        "sns.displot(y_train_df, kde=False)"
      ],
      "metadata": {
        "colab": {
          "base_uri": "https://localhost:8080/",
          "height": 525
        },
        "id": "XjNyLmvH-wjU",
        "outputId": "0e0529c8-91e4-4a19-eb61-9c6eb77c56a1"
      },
      "execution_count": 28,
      "outputs": [
        {
          "output_type": "execute_result",
          "data": {
            "text/plain": [
              "<seaborn.axisgrid.FacetGrid at 0x7f7812244910>"
            ]
          },
          "metadata": {},
          "execution_count": 28
        },
        {
          "output_type": "display_data",
          "data": {
            "text/plain": [
              "<Figure size 500x500 with 1 Axes>"
            ],
            "image/png": "[encoded data removed]"
          },
          "metadata": {}
        }
      ]
    },
    {
      "cell_type": "code",
      "source": [
        "#비교적 정규분포에 가까워짐-> 로그 변환으로 변경\n",
        "mercari_df['price'] = np.log1p(mercari_df['price'])\n",
        "mercari_df['price'].head(3)"
      ],
      "metadata": {
        "colab": {
          "base_uri": "https://localhost:8080/"
        },
        "id": "X-B3baBm-we0",
        "outputId": "f6e06c8b-f1ac-4321-e02f-fed809ef38a0"
      },
      "execution_count": 29,
      "outputs": [
        {
          "output_type": "execute_result",
          "data": {
            "text/plain": [
              "0    2.397895\n",
              "1    3.970292\n",
              "2    2.397895\n",
              "Name: price, dtype: float64"
            ]
          },
          "metadata": {},
          "execution_count": 29
        }
      ]
    },
    {
      "cell_type": "code",
      "source": [
        "# shipping, item_condition_id\n",
        "print('Shopping 값 유형: \\n', mercari_df['shipping'].value_counts())\n",
        "print('item_condition_id 값 유형: \\n', mercari_df['item_condition_id'].value_counts())"
      ],
      "metadata": {
        "colab": {
          "base_uri": "https://localhost:8080/"
        },
        "id": "LfpPG3N6-wcu",
        "outputId": "fe6bca1d-30d2-409b-fbdf-be157367eb23"
      },
      "execution_count": 30,
      "outputs": [
        {
          "output_type": "stream",
          "name": "stdout",
          "text": [
            "Shopping 값 유형: \n",
            " shipping\n",
            "0    819435\n",
            "1    663100\n",
            "Name: count, dtype: int64\n",
            "item_condition_id 값 유형: \n",
            " item_condition_id\n",
            "1    640549\n",
            "3    432161\n",
            "2    375479\n",
            "4     31962\n",
            "5      2384\n",
            "Name: count, dtype: int64\n"
          ]
        }
      ]
    },
    {
      "cell_type": "code",
      "source": [
        "#shipping 배송비 유무, 균일 / item_condition_id 제품상태(1,2,3..) null값 별로 없지만 별도 설명 없을 경우 no description yet\n",
        "# 얼마나 있는지 확인\n",
        "boolean_cond = mercari_df['item_description'] == 'No description yet'\n",
        "mercari_df[boolean_cond]['item_description'].count()\n",
        "## No description yet : null같이 의미있는 속성값으로 사용 불가하니 적절한 값으로 변경"
      ],
      "metadata": {
        "colab": {
          "base_uri": "https://localhost:8080/"
        },
        "id": "enjW1OoG-wad",
        "outputId": "7357cccc-b9e1-4572-8304-f41fe1ae71c3"
      },
      "execution_count": 31,
      "outputs": [
        {
          "output_type": "execute_result",
          "data": {
            "text/plain": [
              "82489"
            ]
          },
          "metadata": {},
          "execution_count": 31
        }
      ]
    },
    {
      "cell_type": "code",
      "source": [
        "#category_name : /로 분리된 카테고리를 하나의 문자열로 -> /기준 단어 토큰화후 별도 피처로 저장해 알고리즘 학습\n",
        "#split_cat() 이용 / error except catch 하여 대, 중, 소 분류 모두 other null 부여\n",
        "\n",
        "#apply lambda에서 호출되는 대, 중, 소 분할 함수 생성, 대, 중, 소 값을 리스트로 변환\n",
        "def split_cat(category_name):\n",
        "  try:\n",
        "    return category_name.split('/')\n",
        "  except:\n",
        "    return ['Other_Null', 'Other_Null', 'Other_Null']\n",
        "\n",
        "#위의 split_cat()을 apply lambda에서 호출해 대, 중, 소 칼럼을 mercari_df 에 생성.\n",
        "mercari_df[\"cat_dae\"], mercari_df[\"cat_jung\"], mercari_df[\"cat_so\"] = \\\n",
        "                      zip(*mercari_df[\"category_name\"].apply(lambda x: split_cat(x)))\n",
        "\n",
        "#대분류만 값의 유형과 건수를 살펴보고, 중분류, 소분류는 값의 유형이 많으므로 분류 개수만 추출\n",
        "print('대분류 유형: \\n', mercari_df['cat_dae'].value_counts())\n",
        "print('중분류 개수:', mercari_df['cat_jung'].nunique())\n",
        "print('소분류 개수:', mercari_df['cat_so'].nunique())"
      ],
      "metadata": {
        "colab": {
          "base_uri": "https://localhost:8080/"
        },
        "id": "Lwxf2-KHAMSo",
        "outputId": "0e2f9e7a-f020-4321-f1f8-150d96120baa"
      },
      "execution_count": 32,
      "outputs": [
        {
          "output_type": "stream",
          "name": "stdout",
          "text": [
            "대분류 유형: \n",
            " cat_dae\n",
            "Women                     664385\n",
            "Beauty                    207828\n",
            "Kids                      171689\n",
            "Electronics               122690\n",
            "Men                        93680\n",
            "Home                       67871\n",
            "Vintage & Collectibles     46530\n",
            "Other                      45351\n",
            "Handmade                   30842\n",
            "Sports & Outdoors          25342\n",
            "Other_Null                  6327\n",
            "Name: count, dtype: int64\n",
            "중분류 개수: 114\n",
            "소분류 개수: 871\n"
          ]
        }
      ]
    },
    {
      "cell_type": "code",
      "source": [
        "#brand_name, category_name, item_description 칼럼의 null 값은 일괄적으로 other null로 동일하게 변경\n",
        "#brand_name null 값 다른 값으로 변경하는 것은 적절하지 않으므로 other_null로 변경\n",
        "mercari_df['brand_name'] = mercari_df['brand_name'].fillna(value='Other_Null')\n",
        "mercari_df['category_name'] = mercari_df['category_name'].fillna(value='Other_Null')\n",
        "mercari_df['item_description'] = mercari_df['item_description'].fillna(value='Other_Null')\n",
        "\n",
        "#각 칼럼별로 Null 값 건수 확인. 모두 0이 나와야 합니다.\n",
        "mercari_df.isnull().sum()"
      ],
      "metadata": {
        "colab": {
          "base_uri": "https://localhost:8080/"
        },
        "id": "0qKBm0VVAOuG",
        "outputId": "fe06d433-f170-4c82-c6f6-2b962d312d0b"
      },
      "execution_count": 33,
      "outputs": [
        {
          "output_type": "execute_result",
          "data": {
            "text/plain": [
              "train_id             0\n",
              "name                 0\n",
              "item_condition_id    0\n",
              "category_name        0\n",
              "brand_name           0\n",
              "price                0\n",
              "shipping             0\n",
              "item_description     0\n",
              "cat_dae              0\n",
              "cat_jung             0\n",
              "cat_so               0\n",
              "dtype: int64"
            ]
          },
          "metadata": {},
          "execution_count": 33
        }
      ]
    },
    {
      "cell_type": "markdown",
      "source": [
        "- 피처 인코딩과 피처 벡터화\n",
        "\n",
        "문자열 칼럼 중 레이블/원-핫 인코딩 수행하거나 피처 벡터화로 변환할 칼럼 선별\n",
        "\n",
        "상품 가격 예측 -> 회귀 모델 기반\n",
        "\n",
        "-> 선형 회귀 모델, 회귀 트리 모델 적용 예정 -> 원핫 인코딩 적용 선호\n",
        "\n",
        "피처 벡터화 : 짧은 텍스트 = count 기반 벡터화, 긴 텍스트 = td-idf 기반 벡터화 적용"
      ],
      "metadata": {
        "id": "kdfReY8VUjtB"
      }
    },
    {
      "cell_type": "code",
      "source": [
        "#brand_name 어떤 유형, 유형 건수와 대표 브랜드명 보기\n",
        "\n",
        "print('brand name의 유형 건수:', mercari_df['brand_name'].nunique())\n",
        "print('brand name sample 5건: \\n', mercari_df['brand_name'].value_counts()[:5])\n",
        "\n",
        "#brand_name 대부분 명료한 문자열 -> 별도 피처 벡터화 형태로 만들 필요 없이 원핫인코딩"
      ],
      "metadata": {
        "colab": {
          "base_uri": "https://localhost:8080/"
        },
        "id": "XVdZs4t6AQOV",
        "outputId": "4275ea79-0d8a-40d6-a011-302bb3554830"
      },
      "execution_count": 34,
      "outputs": [
        {
          "output_type": "stream",
          "name": "stdout",
          "text": [
            "brand name의 유형 건수: 4810\n",
            "brand name sample 5건: \n",
            " brand_name\n",
            "Other_Null           632682\n",
            "PINK                  54088\n",
            "Nike                  54043\n",
            "Victoria's Secret     48036\n",
            "LuLaRoe               31024\n",
            "Name: count, dtype: int64\n"
          ]
        }
      ]
    },
    {
      "cell_type": "code",
      "source": [
        "#name 유형건수, 상품명 보기\n",
        "print('name의 종류 개수:', mercari_df['name'].nunique())\n",
        "print('name sample 7건: \\n', mercari_df['name'][:7])\n",
        "##name 유형 매우 많고 적은 단어 위주의 텍스트 형태-> count기반 피처 벡터화, 원핫 인코딩"
      ],
      "metadata": {
        "colab": {
          "base_uri": "https://localhost:8080/"
        },
        "id": "FU8ECkZVAUaX",
        "outputId": "6307534e-11c3-4893-ef8d-46ff590be07c"
      },
      "execution_count": 35,
      "outputs": [
        {
          "output_type": "stream",
          "name": "stdout",
          "text": [
            "name의 종류 개수: 1225273\n",
            "name sample 7건: \n",
            " 0    MLB Cincinnati Reds T Shirt Size XL\n",
            "1       Razer BlackWidow Chroma Keyboard\n",
            "2                         AVA-VIV Blouse\n",
            "3                  Leather Horse Statues\n",
            "4                   24K GOLD plated rose\n",
            "5       Bundled items requested for Ruie\n",
            "6     Acacia pacific tides santorini top\n",
            "Name: name, dtype: object\n"
          ]
        }
      ]
    },
    {
      "cell_type": "code",
      "source": [
        "# item_description\n",
        "\n",
        "pd.set_option('max_colwidth', 200)\n",
        "\n",
        "#item_description의 평균 문자열 크기\n",
        "print('item_description 평균 문자열 크기:', mercari_df['item_description'].str.len().mean())\n",
        "\n",
        "mercari_df['item_description'][:2]\n",
        "\n",
        "## 문자열이 비교적 크므로 TF-IDF 변환"
      ],
      "metadata": {
        "colab": {
          "base_uri": "https://localhost:8080/"
        },
        "id": "V1JAL6fGAVmk",
        "outputId": "f44142c8-1691-483c-b37e-1e2752e3f737"
      },
      "execution_count": 36,
      "outputs": [
        {
          "output_type": "stream",
          "name": "stdout",
          "text": [
            "item_description 평균 문자열 크기: 145.71139703278507\n"
          ]
        },
        {
          "output_type": "execute_result",
          "data": {
            "text/plain": [
              "0                                                                                                                                                                              No description yet\n",
              "1    This keyboard is in great condition and works like it came out of the box. All of the ports are tested and work perfectly. The lights are customizable via the Razer Synapse app on your PC.\n",
              "Name: item_description, dtype: object"
            ]
          },
          "metadata": {},
          "execution_count": 36
        }
      ]
    },
    {
      "cell_type": "code",
      "source": [
        "#주요 칼럼 인코딩 및 피처 벡터화 변환\n",
        "\n",
        "#name 속성에 대한 피처 벡터화 변환\n",
        "cnt_vec = CountVectorizer()\n",
        "X_name = cnt_vec.fit_transform(mercari_df.name)\n",
        "\n",
        "\n",
        "#item_description에 대한 피처 벡터화 변환\n",
        "tfidf_descp = TfidfVectorizer(max_features=50000, ngram_range=(1,3), stop_words=\"english\")\n",
        "X_descp = tfidf_descp.fit_transform(mercari_df[\"item_description\"])\n",
        "\n",
        "print(\"name vectorization shape:\", X_name.shape)\n",
        "print(\"item_description vectorization shape:\", X_descp.shape)"
      ],
      "metadata": {
        "colab": {
          "base_uri": "https://localhost:8080/"
        },
        "id": "UF58Dyf4AUXQ",
        "outputId": "60031f83-0ca6-4f30-c2ea-98d3afbac706"
      },
      "execution_count": 37,
      "outputs": [
        {
          "output_type": "stream",
          "name": "stdout",
          "text": [
            "name vectorization shape: (1482535, 105757)\n",
            "item_description vectorization shape: (1482535, 50000)\n"
          ]
        }
      ]
    },
    {
      "cell_type": "markdown",
      "source": [
        "인코딩 대상 칼럼도 희소 행렬 형태로 인코딩 적용 후 결합\n",
        "\n",
        "-> LabelBinarizer 이용해 희소 행렬 형태로 인코딩 -> sparse모듈의 hstack() 이용해 결합"
      ],
      "metadata": {
        "id": "rGaTc8eNVrxH"
      }
    },
    {
      "cell_type": "code",
      "source": [
        "#LabelBinarizer 로 원핫 인코딩 변환\n",
        "from sklearn.preprocessing import LabelBinarizer\n",
        "\n",
        "#brand_name, item_condition_id, shipping 각 피처들을 희소 행렬 원-핫 인코딩 변환\n",
        "\n",
        "lb_brand_name = LabelBinarizer(sparse_output=True)\n",
        "X_brand = lb_brand_name.fit_transform(mercari_df[\"brand_name\"])\n",
        "lb_item_cond_id = LabelBinarizer(sparse_output=True)\n",
        "X_item_cond_id = lb_item_cond_id.fit_transform(mercari_df[\"item_condition_id\"])\n",
        "lb_shipping= LabelBinarizer(sparse_output=True)\n",
        "X_shipping = lb_shipping.fit_transform(mercari_df[\"shipping\"])\n",
        "\n",
        "# cat_dae, cat_jung, cat_so 각 피처들을 희소 행렬 원-핫 인코딩 변환\n",
        "lb_cat_dae = LabelBinarizer(sparse_output=True)\n",
        "X_cat_dae = lb_cat_dae.fit_transform(mercari_df[\"cat_dae\"])\n",
        "lb_cat_jung = LabelBinarizer(sparse_output=True)\n",
        "X_cat_jung = lb_cat_jung.fit_transform(mercari_df[\"cat_jung\"])\n",
        "lb_cat_so = LabelBinarizer(sparse_output=True)\n",
        "X_cat_so = lb_cat_so.fit_transform(mercari_df[\"cat_so\"])\n",
        "\n",
        "#제대로 변환됐는지 생성된 인코딩 데이터셋의 타입과 shape 보기\n",
        "print(type(X_brand), type(X_item_cond_id), type(X_shipping))\n",
        "print(\"X_brand shape: {0}, X_item_cond_id shape: {1}\".format(X_brand.shape, X_item_cond_id.shape))\n",
        "print(\"X_shipping shape : {0}, X_cat_dae shape: {1}\".format(X_shipping.shape, X_cat_dae.shape))\n",
        "print(\"X_cat_jung shape: {0}, X_cat_so shape: {1}\".format(X_cat_jung.shape, X_cat_so.shape))"
      ],
      "metadata": {
        "colab": {
          "base_uri": "https://localhost:8080/"
        },
        "id": "dxxVrgWJAUUL",
        "outputId": "e88e24d0-dfcb-4e4b-cb45-e6a63762988a"
      },
      "execution_count": 38,
      "outputs": [
        {
          "output_type": "stream",
          "name": "stdout",
          "text": [
            "<class 'scipy.sparse._csr.csr_matrix'> <class 'scipy.sparse._csr.csr_matrix'> <class 'scipy.sparse._csr.csr_matrix'>\n",
            "X_brand shape: (1482535, 4810), X_item_cond_id shape: (1482535, 5)\n",
            "X_shipping shape : (1482535, 1), X_cat_dae shape: (1482535, 11)\n",
            "X_cat_jung shape: (1482535, 114), X_cat_so shape: (1482535, 871)\n"
          ]
        }
      ]
    },
    {
      "cell_type": "markdown",
      "source": [
        "인코딩 변환된 데이터 셋이 CSR 형태로 변환된 csr_matrix 타입\n",
        "brand_name 유형 4810개 -> 원핫 인코딩 후 4810개의 인코딩 칼럼\n",
        "\n",
        "-> 인코딩 칼럼 많이 생겼지만 피처 벡터화로 텍스트 형태의 문자열이 가지는 벡터 형태의 매우 많은 칼럼과 함께 결합되므로 문제 없음\n",
        "\n",
        "-> 희소 인코딩 변환된 데이터셋, 피처벡터화 변환한 데이터 셋 hstack()으로 결합\n",
        "\n",
        "- 메모리 많이 사용하니 삭제하며 사용"
      ],
      "metadata": {
        "id": "G23SQRQjWUgi"
      }
    },
    {
      "cell_type": "code",
      "source": [
        "from scipy.sparse import hstack\n",
        "import gc\n",
        "\n",
        "sparse_matrix_list = (X_name, X_descp, X_brand, X_item_cond_id,\\\n",
        "                     X_shipping, X_cat_dae, X_cat_jung, X_cat_so)\n",
        "\n",
        "#hstack 함수를 이용해 인코딩과 벡터화를 수행한 데이터 세트를 모두 결합.\n",
        "X_features_sparse = hstack(sparse_matrix_list).tocsr()\n",
        "print(type(X_features_sparse), X_features_sparse.shape)\n",
        "\n",
        "#데이터 세트가 메모리를 많이 차지하므로 사용 목적이 끝났으면 바로 메모리에서 삭제.\n",
        "del X_features_sparse\n",
        "gc.collect()"
      ],
      "metadata": {
        "colab": {
          "base_uri": "https://localhost:8080/"
        },
        "id": "C2P0u4r7Ab6E",
        "outputId": "4f9da628-8195-483b-e899-aec0108da080"
      },
      "execution_count": 39,
      "outputs": [
        {
          "output_type": "stream",
          "name": "stdout",
          "text": [
            "<class 'scipy.sparse._csr.csr_matrix'> (1482535, 161569)\n"
          ]
        },
        {
          "output_type": "execute_result",
          "data": {
            "text/plain": [
              "0"
            ]
          },
          "metadata": {},
          "execution_count": 39
        }
      ]
    },
    {
      "cell_type": "markdown",
      "source": [
        "- 릿지 회귀 모델 구축 및 평가\n",
        "\n",
        "모델 평가하는 평가 로직 함수화 : RSMLE 방식 이용\n",
        "\n",
        "학습 모델이 사용할 price값은 로그변환된 값이므로 예측도 로그변환된 값으로 예측 -> 다시 로그 역변환인 지수 변환 수행해야함"
      ],
      "metadata": {
        "id": "MJPmqNi7WzRe"
      }
    },
    {
      "cell_type": "code",
      "source": [
        "def rmsle(y, y_pred):\n",
        "  #underflow, overflow를 막기 위해 log가 아닌 log1p로 rmsle 계산\n",
        "  return np.sqrt(np.mean(np.power(np.log1p(y)- np.log1p(y_pred), 2)))\n",
        "\n",
        "def evaluate_org_price(y_test, preds):\n",
        "\n",
        "    #원본 데이터는 log1p로 변환되었으므로 exmpm1로 원복 필요.\n",
        "    preds_exmpm = np.expm1(preds)\n",
        "    y_test_exmpm = np.expm1(y_test)\n",
        "\n",
        "    #rmsle로 RMSLE 값 추출\n",
        "    rmsle_result = rmsle(y_test_exmpm, preds_exmpm)\n",
        "    return rmsle_result"
      ],
      "metadata": {
        "id": "aaVIgf5YAdSG"
      },
      "execution_count": 40,
      "outputs": []
    },
    {
      "cell_type": "code",
      "source": [
        "# 학습용 데이터 생성, 모델 학습/예측 로직 별도의 함수로 만들기\n",
        "\n",
        "import gc\n",
        "from scipy.sparse import hstack\n",
        "\n",
        "def model_train_predict(model, matrix_list):\n",
        "    #scipy.sparse 모듈의 hstack을 이용해 희소행렬 결합\n",
        "    X = hstack(matrix_list).tocsr()\n",
        "    X_train, X_test, y_train, y_test = train_test_split(X, mercari_df[\"price\"],\n",
        "                                                      test_size=0.2, random_state=156)\n",
        "    #모델 학습 및 예측\n",
        "    model.fit(X_train, y_train)\n",
        "    preds = model.predict(X_test)\n",
        "\n",
        "    del X, X_train, X_test, y_train\n",
        "    gc.collect()\n",
        "\n",
        "    return preds, y_test"
      ],
      "metadata": {
        "id": "fC8CnnS2AewQ"
      },
      "execution_count": 41,
      "outputs": []
    },
    {
      "cell_type": "code",
      "source": [
        "# Ridge 이용해 mercari price 회귀 예측 수행\n",
        "#가격 예측에 item_description같은 텍스트 형태 속성 얼마나 영향 미치는지 알아보기 (포함된경우와 안된경우 예측성능 비교)\n",
        "\n",
        "linear_model = Ridge(solver=\"lsqr\", fit_intercept=False)\n",
        "\n",
        "sparse_matrix_list = (X_name, X_brand, X_item_cond_id,\\\n",
        "                     X_shipping, X_cat_dae, X_cat_jung, X_cat_so)\n",
        "\n",
        "linear_preds, y_test = model_train_predict(model=linear_model, matrix_list=sparse_matrix_list)\n",
        "print(\"Item Description을 제외했을 때 rmsle 값:\", evaluate_org_price(y_test, linear_preds))\n",
        "\n",
        "sparse_matrix_list = ( X_descp, X_brand, X_item_cond_id,\\\n",
        "                     X_shipping, X_cat_dae, X_cat_jung, X_cat_so)\n",
        "linear_preds, y_test = model_train_predict(model=linear_model, matrix_list=sparse_matrix_list)\n",
        "print(\"Item Description을 포함했을 때 rmsle 값:\", evaluate_org_price(y_test, linear_preds))"
      ],
      "metadata": {
        "colab": {
          "base_uri": "https://localhost:8080/"
        },
        "id": "FFQFb_d6AgLs",
        "outputId": "2d678d9a-1530-4988-9198-b6595307e622"
      },
      "execution_count": 42,
      "outputs": [
        {
          "output_type": "stream",
          "name": "stdout",
          "text": [
            "Item Description을 제외했을 때 rmsle 값: 0.4983990938999374\n",
            "Item Description을 포함했을 때 rmsle 값: 0.5109118267040581\n"
          ]
        }
      ]
    },
    {
      "cell_type": "markdown",
      "source": [
        "- LightGMB 회귀 모델 구축과 앙상블을 이용한 최종 예측 평가"
      ],
      "metadata": {
        "id": "an26dQdqYYSo"
      }
    },
    {
      "cell_type": "code",
      "source": [
        "from lightgbm import LGBMRegressor\n",
        "\n",
        "sparse_matrix_list = ( X_descp, X_brand, X_item_cond_id,\n",
        "                     X_shipping, X_cat_dae, X_cat_jung, X_cat_so)\n",
        "\n",
        "lgbm_model = LGBMRegressor(n_estimators=200, learning_rate=0.5, num_leaves=125, random_state=156)\n",
        "lgbm_preds, y_test = model_train_predict(model=lgbm_model, matrix_list=sparse_matrix_list)\n",
        "print(\"LightGBM rmsle 값:\", evaluate_org_price(y_test, lgbm_preds))"
      ],
      "metadata": {
        "id": "rQs-OdgUAiIs"
      },
      "execution_count": null,
      "outputs": []
    },
    {
      "cell_type": "code",
      "source": [
        "## Ridge보다 예측 성능이 더 나아짐. 여기에 ridge 예측 결과값 앙상블해 최종 예측 결괏값 도출\n",
        "\n",
        "preds = lgbm_preds*0.45 + linear_preds*0.55\n",
        "print(\"LightGBM과 Ridge를 ensemble한 최종 rmsle 값:\", evaluate_org_predict(y_test,preds))"
      ],
      "metadata": {
        "id": "XvRAZW81Yjx1"
      },
      "execution_count": null,
      "outputs": []
    },
    {
      "cell_type": "markdown",
      "source": [
        "앙상블 방식으로 예측 성능 개선\n",
        "\n",
        "- 정리\n",
        "\n",
        "- 텍스트 분석을 위한 기반 프로세스 : 텍스트 분류, 감성분석, 토픽 모델링, 텍스트 군집화 및 유사도 측정\n",
        "\n",
        "텍스트 정규화 -> 피처 벡터화로 변환 -> ml 모델 학습, 예측, 평가\n",
        "\n",
        "텍스트 분류, 감성 분석 : 지도학습 방식 기반\n",
        "\n",
        "텍스트 군집화 : k평균 군집화 이용, 코사인 유사도 이용\n",
        "\n",
        "mercari price challenge -> 정형 피처들과 비정형 피처 결합해 회귀 예측 모델 구현"
      ],
      "metadata": {
        "id": "fV2Ee3F4Yy4E"
      }
    }
  ]
}