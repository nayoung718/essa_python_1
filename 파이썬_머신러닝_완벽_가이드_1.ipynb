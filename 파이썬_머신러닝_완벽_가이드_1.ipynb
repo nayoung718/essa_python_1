{
  "nbformat": 4,
  "nbformat_minor": 0,
  "metadata": {
    "colab": {
      "provenance": [],
      "authorship_tag": "ABX9TyNHBzWceJ4CPg+K/G+OWEfy",
      "include_colab_link": true
    },
    "kernelspec": {
      "name": "python3",
      "display_name": "Python 3"
    },
    "language_info": {
      "name": "python"
    }
  },
  "cells": [
    {
      "cell_type": "markdown",
      "metadata": {
        "id": "view-in-github",
        "colab_type": "text"
      },
      "source": [
        "<a href=\"https://colab.research.google.com/github/nayoung718/essa_python_1/blob/main/%ED%8C%8C%EC%9D%B4%EC%8D%AC_%EB%A8%B8%EC%8B%A0%EB%9F%AC%EB%8B%9D_%EC%99%84%EB%B2%BD_%EA%B0%80%EC%9D%B4%EB%93%9C_1.ipynb\" target=\"_parent\"><img src=\"https://colab.research.google.com/assets/colab-badge.svg\" alt=\"Open In Colab\"/></a>"
      ]
    },
    {
      "cell_type": "markdown",
      "source": [
        "#파이썬 머신러닝 완벽 가이드 개념 정리 1차시 1~38 pg"
      ],
      "metadata": {
        "id": "PB_5pD_uE5MT"
      }
    },
    {
      "cell_type": "markdown",
      "source": [
        "##1. 머신러닝이란?\n",
        "\n",
        "\n",
        "애플리케이션을 수정하지 않고도 데이터를 기반으로 패턴을 학습하고 결과를 예측하는 알고리즘 기법\n",
        "\n",
        "\n",
        "지도학습, 비지도학습, 강화학습으로 나뉨\n",
        "-> 지도학습: 분류와 회귀\n",
        "-> 비지도학습: 클러스터링, 차원축소, 강화학습\n",
        "\n",
        "\n",
        "-단점: 데이터에 의존적"
      ],
      "metadata": {
        "id": "IcDZsUZ6E95b"
      }
    },
    {
      "cell_type": "markdown",
      "source": [
        "##2. 파이썬 머신러닝 생태계를 구성하는 주요 패키지\n",
        "-머신러닝 패키지, 행렬/선형대수/통계 패키지, 데이터 핸들링, 시각화\n"
      ],
      "metadata": {
        "id": "-F54dzpvHXGL"
      }
    },
    {
      "cell_type": "markdown",
      "source": [
        "##3. 넘파이\n",
        "\n",
        "\n",
        "-np.array() : 배열 생성\n",
        "-array.shape: array의 차원과 크기\n",
        "-array.ndim: array의 차원\n",
        "-array.dtype: array의 데이터 타입\n",
        "-array.astype(): array 내 데이터값의 타입 변경\n",
        "\n",
        "\n",
        "\n",
        "\n",
        "\n",
        "-np.arange(a): 0 부터 a-1까지의 값을 순차적으로 ndarray 데이터 값으로 변환\n",
        "-np.zeros(): 튜플 형태의 shape 값 입력시 모든 값을 0으로 채운 해당 shape을 가진 ndarray 반환\n",
        "-np.ones(): 튜플 형태의 shape 값 입력시 모든 값을 1로 채운 해당 shape을 가진 ndarray 반환 : dtype default = float64\n",
        "\n",
        "\n",
        "\n",
        "\n",
        "\n",
        "-array.reshape(): array를 특정 차원 및 크기로 변환 -> -1을 인자로 적용 시 원래 array와 호환되는 새로운 shape로 변환\n",
        "\n",
        "\n",
        "\n",
        "\n",
        "\n",
        "-인덱싱: 특정 데이터만 추출([]), 슬라이싱(:), 팬시 인덱싱(ndarray로 인덱스 집합 지정시 해당 위치의 인덱스에 해당하는 ndarray를 반환), 불린 인덱싱(조건 필터링+검색: 조건에 따른 불린 값에서 true 값 가진 인덱스 저장해 이를 이용해 조회)\n",
        "\n",
        "\n",
        "\n",
        "\n",
        "\n",
        "-행렬의 정렬: sort(), argsort()\n",
        "-np.sort(): 원 행렬 그대로 유지한 채 원 행렬의 정렬된 행렬 반환\n",
        "-ndarray.sort(): 원 행렬 자체를 정렬한 형태로 변환하며 반환 값은 None\n",
        "-> 행렬 2차원 이상일 경우 axis 축 값 설정 통해 로우, 칼럼 방향으로 정렬 수행 가능\n",
        "-np.argsort(): 원본 행렬이 정렬되었을 때 기존 원본 행렬의 원소에 대한 인덱스 필요시 이용, 정렬 행렬의 원본 행렬 인덱스를 ndarray 형으로 반환\n",
        "-> default 는 오름차순, 내림 차순([::-1])\n",
        "\n",
        "\n",
        "\n",
        "\n",
        "\n",
        "-선형대수 연산: 행렬 내적(np.dot(a,b)). 전치 행렬(np.transpose(A))\n",
        "\n",
        "\n"
      ],
      "metadata": {
        "id": "GD1xZymYHq8n"
      }
    },
    {
      "cell_type": "markdown",
      "source": [
        "#파이썬 머신러닝 완벽 가이드 필사 1차시 1~38 pg"
      ],
      "metadata": {
        "id": "gl40uu1pxymU"
      }
    },
    {
      "cell_type": "code",
      "execution_count": null,
      "metadata": {
        "id": "4Zv-Kb3txTJt"
      },
      "outputs": [],
      "source": [
        "import numpy\n",
        "import pandas\n",
        "import matplotlib.pyplot\n",
        "import seaborn\n",
        "from sklearn.model_selection import train_test_split"
      ]
    },
    {
      "cell_type": "markdown",
      "source": [
        "넘파이 ndarray 개요"
      ],
      "metadata": {
        "id": "W7pKhXUEzW58"
      }
    },
    {
      "cell_type": "code",
      "source": [
        "import numpy as np"
      ],
      "metadata": {
        "id": "6hD0VL_5yVkz"
      },
      "execution_count": null,
      "outputs": []
    },
    {
      "cell_type": "code",
      "source": [
        "array1=np.array([1,2,3])\n",
        "print('array1 type:', type(array1))\n",
        "print('array1 array 형태:', array1.shape)\n",
        "\n",
        "array2=np.array([[1,2,3],\n",
        "                 [2,3,4]])\n",
        "print('array2 type:', type(array2))\n",
        "print('array2 array 형태:', array2.shape)\n",
        "array3=np.array([[1,2,3]])\n",
        "print('array3 type:', type(array3))\n",
        "print('array3 array 형태:', array3.shape)"
      ],
      "metadata": {
        "colab": {
          "base_uri": "https://localhost:8080/"
        },
        "id": "7OE62ImkyaTK",
        "outputId": "62328017-ce92-46bf-8de3-174d7a750a1c"
      },
      "execution_count": null,
      "outputs": [
        {
          "output_type": "stream",
          "name": "stdout",
          "text": [
            "array1 type: <class 'numpy.ndarray'>\n",
            "array1 array 형태: (3,)\n",
            "array2 type: <class 'numpy.ndarray'>\n",
            "array2 array 형태: (2, 3)\n",
            "array3 type: <class 'numpy.ndarray'>\n",
            "array3 array 형태: (1, 3)\n"
          ]
        }
      ]
    },
    {
      "cell_type": "code",
      "source": [
        "print('array1: {:0}차원, array2: {:1}차원, array3: {:2}차원'.format(array1.ndim,\n",
        "                                                                    array2.ndim, array3.ndim))"
      ],
      "metadata": {
        "colab": {
          "base_uri": "https://localhost:8080/"
        },
        "id": "Vdvh9nvJzEaS",
        "outputId": "05c54701-b98d-4048-c6f2-667815d83243"
      },
      "execution_count": null,
      "outputs": [
        {
          "output_type": "stream",
          "name": "stdout",
          "text": [
            "array1: 1차원, array2: 2차원, array3:  2차원\n"
          ]
        }
      ]
    },
    {
      "cell_type": "markdown",
      "source": [
        "ndarray의 데이터 타입"
      ],
      "metadata": {
        "id": "VqnuCFBgzfB4"
      }
    },
    {
      "cell_type": "code",
      "source": [
        "list1=[1, 2, 3]\n",
        "print(type(list1))\n",
        "array1=np.array(list1)\n",
        "print(type(array1))\n",
        "print(array1, array1.dtype)"
      ],
      "metadata": {
        "colab": {
          "base_uri": "https://localhost:8080/"
        },
        "id": "gE-2IOXtzTmZ",
        "outputId": "5d3b34fa-71a1-40fa-e7fc-7a5dd9407ea0"
      },
      "execution_count": null,
      "outputs": [
        {
          "output_type": "stream",
          "name": "stdout",
          "text": [
            "<class 'list'>\n",
            "<class 'numpy.ndarray'>\n",
            "[1 2 3] int64\n"
          ]
        }
      ]
    },
    {
      "cell_type": "code",
      "source": [
        "list2=[1, 2, 'test']\n",
        "array2=np.array(list2)\n",
        "print(array2,array2.dtype)\n",
        "\n",
        "list3=[1, 2, 3.0]\n",
        "array3=np.array(list3)\n",
        "print(array3, array3.dtype)"
      ],
      "metadata": {
        "colab": {
          "base_uri": "https://localhost:8080/"
        },
        "id": "SINf3j3g0Ace",
        "outputId": "d06232d0-5657-493e-e0c5-23f403a66998"
      },
      "execution_count": null,
      "outputs": [
        {
          "output_type": "stream",
          "name": "stdout",
          "text": [
            "['1' '2' 'test'] <U21\n",
            "[1. 2. 3.] float64\n"
          ]
        }
      ]
    },
    {
      "cell_type": "code",
      "source": [
        "array_int=np.array([1,2,3])\n",
        "array_float=array_int.astype('float64')\n",
        "print(array_float, array_float.dtype)\n",
        "\n",
        "array_int1=array_float.astype('int32')\n",
        "print(array_int1, array_int1.dtype)\n",
        "\n",
        "array_float1=np.array([1.1, 2.1, 3.1])\n",
        "array_int2=array_float1.astype('int32')\n",
        "print(array_int2, array_int2.dtype)"
      ],
      "metadata": {
        "colab": {
          "base_uri": "https://localhost:8080/"
        },
        "id": "vJyAryYa0gxE",
        "outputId": "cf46c584-42da-4941-a04f-07ded9c10e04"
      },
      "execution_count": null,
      "outputs": [
        {
          "output_type": "stream",
          "name": "stdout",
          "text": [
            "[1. 2. 3.] float64\n",
            "[1 2 3] int32\n",
            "[1 2 3] int32\n"
          ]
        }
      ]
    },
    {
      "cell_type": "markdown",
      "source": [
        "ndarray를 편리하게 생성하기 - arange, weros, ones"
      ],
      "metadata": {
        "id": "iYmQEQgI09og"
      }
    },
    {
      "cell_type": "code",
      "source": [
        "sequence_array=np.arange(10)\n",
        "print(sequence_array)\n",
        "print(sequence_array.dtype, sequence_array.shape)"
      ],
      "metadata": {
        "colab": {
          "base_uri": "https://localhost:8080/"
        },
        "id": "iSl3S1k4034J",
        "outputId": "a6b0e978-2c1a-43f6-b7d4-a9a7c7d717bb"
      },
      "execution_count": null,
      "outputs": [
        {
          "output_type": "stream",
          "name": "stdout",
          "text": [
            "[0 1 2 3 4 5 6 7 8 9]\n",
            "int64 (10,)\n"
          ]
        }
      ]
    },
    {
      "cell_type": "code",
      "source": [
        "zero_array=np.zeros((3,2),dtype='int32')\n",
        "print(zero_array)\n",
        "print(zero_array.dtype, zero_array.shape)\n",
        "\n",
        "one_array=np.ones((3,2))\n",
        "print(one_array)\n",
        "print(one_array.dtype, one_array.shape)"
      ],
      "metadata": {
        "colab": {
          "base_uri": "https://localhost:8080/"
        },
        "id": "qfo13X6Q1HDE",
        "outputId": "b0d73c82-ecb5-411b-c14c-6ea382e33ae8"
      },
      "execution_count": null,
      "outputs": [
        {
          "output_type": "stream",
          "name": "stdout",
          "text": [
            "[[0 0]\n",
            " [0 0]\n",
            " [0 0]]\n",
            "int32 (3, 2)\n",
            "[[1. 1.]\n",
            " [1. 1.]\n",
            " [1. 1.]]\n",
            "float64 (3, 2)\n"
          ]
        }
      ]
    },
    {
      "cell_type": "markdown",
      "source": [
        "ndarray의 차원과 크기를 변경하는 reshape()"
      ],
      "metadata": {
        "id": "5gDwpwQr1rtr"
      }
    },
    {
      "cell_type": "code",
      "source": [
        "array1=np.arange(10)\n",
        "print('array1:\\n', array1)\n",
        "\n",
        "array2=array1.reshape(2, 5)\n",
        "print('array2:\\n', array2)\n",
        "\n",
        "array3=array1.reshape(5, 2)\n",
        "print('array3:\\n', array3)"
      ],
      "metadata": {
        "colab": {
          "base_uri": "https://localhost:8080/"
        },
        "id": "XcxsBupC1uKZ",
        "outputId": "dabb9e16-d5c2-4578-ef68-18508949b828"
      },
      "execution_count": null,
      "outputs": [
        {
          "output_type": "stream",
          "name": "stdout",
          "text": [
            "array1:\n",
            " [0 1 2 3 4 5 6 7 8 9]\n",
            "array2:\n",
            " [[0 1 2 3 4]\n",
            " [5 6 7 8 9]]\n",
            "array3:\n",
            " [[0 1]\n",
            " [2 3]\n",
            " [4 5]\n",
            " [6 7]\n",
            " [8 9]]\n"
          ]
        }
      ]
    },
    {
      "cell_type": "code",
      "source": [
        "array1.reshape(4,3)"
      ],
      "metadata": {
        "colab": {
          "base_uri": "https://localhost:8080/",
          "height": 184
        },
        "id": "VKWbrHa_2BkI",
        "outputId": "8dde20e9-ac3b-4f67-f213-e564a1e2bfc9"
      },
      "execution_count": null,
      "outputs": [
        {
          "output_type": "error",
          "ename": "ValueError",
          "evalue": "ignored",
          "traceback": [
            "\u001b[0;31m---------------------------------------------------------------------------\u001b[0m",
            "\u001b[0;31mValueError\u001b[0m                                Traceback (most recent call last)",
            "\u001b[0;32m<ipython-input-15-a40469ec5825>\u001b[0m in \u001b[0;36m<cell line: 1>\u001b[0;34m()\u001b[0m\n\u001b[0;32m----> 1\u001b[0;31m \u001b[0marray1\u001b[0m\u001b[0;34m.\u001b[0m\u001b[0mreshape\u001b[0m\u001b[0;34m(\u001b[0m\u001b[0;36m4\u001b[0m\u001b[0;34m,\u001b[0m\u001b[0;36m3\u001b[0m\u001b[0;34m)\u001b[0m\u001b[0;34m\u001b[0m\u001b[0;34m\u001b[0m\u001b[0m\n\u001b[0m",
            "\u001b[0;31mValueError\u001b[0m: cannot reshape array of size 10 into shape (4,3)"
          ]
        }
      ]
    },
    {
      "cell_type": "code",
      "source": [
        "array1=np.arange(10)\n",
        "print(array1)\n",
        "\n",
        "array2=array1.reshape(-1, 5)\n",
        "print('array2 shape:', array2.shape)\n",
        "\n",
        "array3=array1.reshape(5, -1)\n",
        "print('array3 shape:', array3.shape)"
      ],
      "metadata": {
        "colab": {
          "base_uri": "https://localhost:8080/"
        },
        "id": "suFPrFwm2Gdf",
        "outputId": "f1b077bc-8278-4fe0-f0ef-bc04aefab3c4"
      },
      "execution_count": null,
      "outputs": [
        {
          "output_type": "stream",
          "name": "stdout",
          "text": [
            "[0 1 2 3 4 5 6 7 8 9]\n",
            "array2 shape: (2, 5)\n",
            "array3 shape: (5, 2)\n"
          ]
        }
      ]
    },
    {
      "cell_type": "code",
      "source": [
        "array1=np.arange(10)\n",
        "array4=array1.reshape(-1,4)"
      ],
      "metadata": {
        "colab": {
          "base_uri": "https://localhost:8080/",
          "height": 203
        },
        "id": "YAWUwrXO2VV-",
        "outputId": "b3ac5cdf-d773-42b0-b184-2c58b253292f"
      },
      "execution_count": null,
      "outputs": [
        {
          "output_type": "error",
          "ename": "ValueError",
          "evalue": "ignored",
          "traceback": [
            "\u001b[0;31m---------------------------------------------------------------------------\u001b[0m",
            "\u001b[0;31mValueError\u001b[0m                                Traceback (most recent call last)",
            "\u001b[0;32m<ipython-input-18-7f01f0f59baa>\u001b[0m in \u001b[0;36m<cell line: 2>\u001b[0;34m()\u001b[0m\n\u001b[1;32m      1\u001b[0m \u001b[0marray1\u001b[0m\u001b[0;34m=\u001b[0m\u001b[0mnp\u001b[0m\u001b[0;34m.\u001b[0m\u001b[0marange\u001b[0m\u001b[0;34m(\u001b[0m\u001b[0;36m10\u001b[0m\u001b[0;34m)\u001b[0m\u001b[0;34m\u001b[0m\u001b[0;34m\u001b[0m\u001b[0m\n\u001b[0;32m----> 2\u001b[0;31m \u001b[0marray4\u001b[0m\u001b[0;34m=\u001b[0m\u001b[0marray1\u001b[0m\u001b[0;34m.\u001b[0m\u001b[0mreshape\u001b[0m\u001b[0;34m(\u001b[0m\u001b[0;34m-\u001b[0m\u001b[0;36m1\u001b[0m\u001b[0;34m,\u001b[0m\u001b[0;36m4\u001b[0m\u001b[0;34m)\u001b[0m\u001b[0;34m\u001b[0m\u001b[0;34m\u001b[0m\u001b[0m\n\u001b[0m",
            "\u001b[0;31mValueError\u001b[0m: cannot reshape array of size 10 into shape (4)"
          ]
        }
      ]
    },
    {
      "cell_type": "code",
      "source": [
        "array1=np.arange(8)\n",
        "array3d=array1.reshape((2,2,2))\n",
        "print('array3d:\\n', array3d.tolist())\n",
        "\n",
        "array5=array3d.reshape(-1,1)\n",
        "print('array5:\\n', array5.tolist())\n",
        "print('array5 shape:', array5.shape)\n",
        "\n",
        "array6=array1.reshape(-1,1)\n",
        "print('arry6: \\n', array6.tolist())\n",
        "print('array6 shape:',array6.shape)"
      ],
      "metadata": {
        "colab": {
          "base_uri": "https://localhost:8080/"
        },
        "id": "iTWQJS6m2isI",
        "outputId": "01ce2f5c-3a72-4a48-fd36-9b1391f68bfa"
      },
      "execution_count": null,
      "outputs": [
        {
          "output_type": "stream",
          "name": "stdout",
          "text": [
            "array3d:\n",
            " [[[0, 1], [2, 3]], [[4, 5], [6, 7]]]\n",
            "array5:\n",
            " [[0], [1], [2], [3], [4], [5], [6], [7]]\n",
            "array5 shape: (8, 1)\n",
            "arry6: \n",
            " [[0], [1], [2], [3], [4], [5], [6], [7]]\n",
            "array6 shape: (8, 1)\n"
          ]
        }
      ]
    },
    {
      "cell_type": "markdown",
      "source": [
        "넘파이의 ndarray의 데이터 세트 선택하기 - 인덱싱(Indexing)"
      ],
      "metadata": {
        "id": "c9Bgbu4X9OXM"
      }
    },
    {
      "cell_type": "code",
      "source": [
        "#1부터 9까지의 1차원 ndarray 생성\n",
        "array1=np.arange(start=1, stop=10)\n",
        "print('array1:',array1)\n",
        "#index는 0부터 시작하므로 array1[2]는 3번째 index 위치의 데이터값을 의미\n",
        "value=array1[2]\n",
        "print('value:',value)\n",
        "print(type(value))"
      ],
      "metadata": {
        "colab": {
          "base_uri": "https://localhost:8080/"
        },
        "id": "fhx3g9xc9Tdy",
        "outputId": "4244380d-5788-4c86-e0b9-36ed694b1418"
      },
      "execution_count": null,
      "outputs": [
        {
          "output_type": "stream",
          "name": "stdout",
          "text": [
            "array1: [1 2 3 4 5 6 7 8 9]\n",
            "value: 3\n",
            "<class 'numpy.int64'>\n"
          ]
        }
      ]
    },
    {
      "cell_type": "code",
      "source": [
        "print('맨 뒤의 값:',array1[-1],' 맨 뒤에서 두 번째 값:',array1[-2])"
      ],
      "metadata": {
        "colab": {
          "base_uri": "https://localhost:8080/"
        },
        "id": "qdgsGsz898IK",
        "outputId": "e8181024-6bf4-420a-d044-44e8805dca61"
      },
      "execution_count": null,
      "outputs": [
        {
          "output_type": "stream",
          "name": "stdout",
          "text": [
            "맨 뒤의 값: 9  맨 뒤에서 두 번째 값: 8\n"
          ]
        }
      ]
    },
    {
      "cell_type": "code",
      "source": [
        "array1[0]=9\n",
        "array1[8]=0\n",
        "print('array1:',array1)"
      ],
      "metadata": {
        "colab": {
          "base_uri": "https://localhost:8080/"
        },
        "id": "LtZbodim-HaP",
        "outputId": "1d65c15f-ee94-4ba6-cded-013dc8cd34ae"
      },
      "execution_count": null,
      "outputs": [
        {
          "output_type": "stream",
          "name": "stdout",
          "text": [
            "array1: [9 2 3 4 5 6 7 8 0]\n"
          ]
        }
      ]
    },
    {
      "cell_type": "code",
      "source": [
        "array1d=np.arange(start=1,stop=10)\n",
        "array2d=array1d.reshape(3,3)\n",
        "print(array2d)\n",
        "\n",
        "print('(row=0, col=0) index 가리키는 값:', array2d[0,0])\n",
        "print('(row=0, col=1) index 가리키는 값:', array2d[0,1])\n",
        "print('(row=1, col=0) index 가리키는 값:', array2d[1,0])\n",
        "print('(row=2, col=2) index 가리키는 값:', array2d[2,2])"
      ],
      "metadata": {
        "colab": {
          "base_uri": "https://localhost:8080/"
        },
        "id": "ozBHyyPd-On_",
        "outputId": "6b492b82-89dd-4c99-f8de-3462df40472a"
      },
      "execution_count": null,
      "outputs": [
        {
          "output_type": "stream",
          "name": "stdout",
          "text": [
            "[[1 2 3]\n",
            " [4 5 6]\n",
            " [7 8 9]]\n",
            "(row=0, col=0) index 가리키는 값: 1\n",
            "(row=0, col=1) index 가리키는 값: 2\n",
            "(row=1, col=0) index 가리키는 값: 4\n",
            "(row=2, col=2) index 가리키는 값: 9\n"
          ]
        }
      ]
    },
    {
      "cell_type": "markdown",
      "source": [
        "슬라이싱"
      ],
      "metadata": {
        "id": "d_I6O7C4AHbw"
      }
    },
    {
      "cell_type": "code",
      "source": [
        "array1=np.arange(start=1,stop=10)\n",
        "array3=array1[0:3]\n",
        "print(array3)\n",
        "print(type(array3))"
      ],
      "metadata": {
        "colab": {
          "base_uri": "https://localhost:8080/"
        },
        "id": "4PIU2wlN-jjv",
        "outputId": "20bf70d7-84ef-4b59-b005-992f14dc0653"
      },
      "execution_count": null,
      "outputs": [
        {
          "output_type": "stream",
          "name": "stdout",
          "text": [
            "[1 2 3]\n",
            "<class 'numpy.ndarray'>\n"
          ]
        }
      ]
    },
    {
      "cell_type": "code",
      "source": [
        "from numpy.core.multiarray import array\n",
        "array1=np.arange(start=1,stop=10)\n",
        "array4=array1[:3]\n",
        "print(array4)\n",
        "\n",
        "array5=array1[3:]\n",
        "print(array5)\n",
        "\n",
        "array6=array1[:]\n",
        "print(array6)"
      ],
      "metadata": {
        "colab": {
          "base_uri": "https://localhost:8080/"
        },
        "id": "S9vBNTCi-qzG",
        "outputId": "e6a0aa84-d926-4e81-b126-8ce14eb0dc77"
      },
      "execution_count": null,
      "outputs": [
        {
          "output_type": "stream",
          "name": "stdout",
          "text": [
            "[1 2 3]\n",
            "[4 5 6 7 8 9]\n",
            "[1 2 3 4 5 6 7 8 9]\n"
          ]
        }
      ]
    },
    {
      "cell_type": "code",
      "source": [
        "array1d=np.arange(start=1,stop=10)\n",
        "array2d=array1d.reshape(3,3)\n",
        "print('array2d:\\n',array2d)\n",
        "\n",
        "print('array2d[0:2, 0:2]\\n', array2d[0:2, 0:2])\n",
        "print('array2d[1:3, 0:3]\\n', array2d[1:3, 0:3])\n",
        "print('array2d[1:3, :]\\n', array2d[1:3, :])\n",
        "print('array2d[:2, 1:]\\n', array2d[:2, 1:])\n",
        "print('array2d[:2, 0]\\n', array2d[:2, 0])"
      ],
      "metadata": {
        "colab": {
          "base_uri": "https://localhost:8080/"
        },
        "id": "bYE1uEV7-5vB",
        "outputId": "02a18308-e483-4f9d-b2ce-655713125a5a"
      },
      "execution_count": null,
      "outputs": [
        {
          "output_type": "stream",
          "name": "stdout",
          "text": [
            "array2d:\n",
            " [[1 2 3]\n",
            " [4 5 6]\n",
            " [7 8 9]]\n",
            "array2d[0:2, 0:2]\n",
            " [[1 2]\n",
            " [4 5]]\n",
            "array2d[1:3, 0:3]\n",
            " [[4 5 6]\n",
            " [7 8 9]]\n",
            "array2d[1:3, :]\n",
            " [[4 5 6]\n",
            " [7 8 9]]\n",
            "array2d[:2, 1:]\n",
            " [[2 3]\n",
            " [5 6]]\n",
            "array2d[:2, 0]\n",
            " [1 4]\n"
          ]
        }
      ]
    },
    {
      "cell_type": "code",
      "source": [
        "print(array2d[0])\n",
        "print(array2d[1])\n",
        "print('array2d[0] shape:', array2d[0].shape, 'array2d[1] shape:', array2d[1].shape)"
      ],
      "metadata": {
        "colab": {
          "base_uri": "https://localhost:8080/"
        },
        "id": "hXjMLUsC_chg",
        "outputId": "fcfddfcc-a31d-40a0-e604-ffe15f74f521"
      },
      "execution_count": null,
      "outputs": [
        {
          "output_type": "stream",
          "name": "stdout",
          "text": [
            "[1 2 3]\n",
            "[4 5 6]\n",
            "array2d[0] shape: (3,) array2d[1] shape: (3,)\n"
          ]
        }
      ]
    },
    {
      "cell_type": "markdown",
      "source": [
        "팬시 인덱싱"
      ],
      "metadata": {
        "id": "kt3-z0SxASFu"
      }
    },
    {
      "cell_type": "code",
      "source": [
        "array1d=np.arange(start=1,stop=10)\n",
        "array2d=array1d.reshape(3,3)\n",
        "\n",
        "array3=array2d[[0,1],2]\n",
        "print('array2d[[0,1],2]=>',array3.tolist())\n",
        "\n",
        "array4=array2d[[0,1],0:2]\n",
        "print('array2d[[0,1],0:2]=>',array4.tolist())\n",
        "\n",
        "array5=array2d[[0,1]]\n",
        "print('array2d[[0,1]]=>',array5.tolist())"
      ],
      "metadata": {
        "colab": {
          "base_uri": "https://localhost:8080/"
        },
        "id": "8yeFW0Fz_pi5",
        "outputId": "a74dbbb1-28d1-4bd3-b2de-d396df17712f"
      },
      "execution_count": null,
      "outputs": [
        {
          "output_type": "stream",
          "name": "stdout",
          "text": [
            "array2d[[0,1],2]=> [3, 6]\n",
            "array2d[[0,1],0:2]=> [[1, 2], [4, 5]]\n",
            "array2d[[0,1]]=> [[1, 2, 3], [4, 5, 6]]\n"
          ]
        }
      ]
    },
    {
      "cell_type": "markdown",
      "source": [
        "불린 인덱싱"
      ],
      "metadata": {
        "id": "2Bgf4eNEAUQW"
      }
    },
    {
      "cell_type": "code",
      "source": [
        "array1d=np.arange(start=1,stop=10)\n",
        "#[]안에 array1d > 5 Boolean indexing을 적용\n",
        "array3=array1d[array1d>5]\n",
        "print('array1d > 5 불린 인덱싱 결과 값:',array3)"
      ],
      "metadata": {
        "colab": {
          "base_uri": "https://localhost:8080/"
        },
        "id": "Al7eYctRABI7",
        "outputId": "570a301f-7d30-489f-a294-1fe9dee44915"
      },
      "execution_count": null,
      "outputs": [
        {
          "output_type": "stream",
          "name": "stdout",
          "text": [
            "array1d > 5 불린 인덱싱 결과 값: [6 7 8 9]\n"
          ]
        }
      ]
    },
    {
      "cell_type": "code",
      "source": [
        "array1d > 5"
      ],
      "metadata": {
        "colab": {
          "base_uri": "https://localhost:8080/"
        },
        "id": "oj_7j5OFAje_",
        "outputId": "e955f217-5992-4293-d3f3-8f3bcbb9bd88"
      },
      "execution_count": null,
      "outputs": [
        {
          "output_type": "execute_result",
          "data": {
            "text/plain": [
              "array([False, False, False, False, False,  True,  True,  True,  True])"
            ]
          },
          "metadata": {},
          "execution_count": 34
        }
      ]
    },
    {
      "cell_type": "code",
      "source": [
        "boolean_indexes=np.array([False, False, False, False, False, True, True, True, True])\n",
        "array3=array1d[boolean_indexes]\n",
        "print('불린 인덱스로 필터링 결과:',array3)"
      ],
      "metadata": {
        "colab": {
          "base_uri": "https://localhost:8080/"
        },
        "id": "6CSZ8oI9Ap5W",
        "outputId": "9eb427ef-ce4c-4b5e-d696-499432c68f9a"
      },
      "execution_count": null,
      "outputs": [
        {
          "output_type": "stream",
          "name": "stdout",
          "text": [
            "불린 인덱스로 필터링 결과: [6 7 8 9]\n"
          ]
        }
      ]
    },
    {
      "cell_type": "code",
      "source": [
        "indexes=np.array([5,6,7,8])\n",
        "array4=array1d[indexes]\n",
        "print('일반 인덱스로 필터링 결과:',array4)"
      ],
      "metadata": {
        "colab": {
          "base_uri": "https://localhost:8080/"
        },
        "id": "eSauk2O0A22A",
        "outputId": "89444f20-1310-4e3e-c35d-d376d3f306a6"
      },
      "execution_count": null,
      "outputs": [
        {
          "output_type": "stream",
          "name": "stdout",
          "text": [
            "일반 인덱스로 필터링 결과: [6 7 8 9]\n"
          ]
        }
      ]
    },
    {
      "cell_type": "markdown",
      "source": [
        "행렬의 정렬 - sort() 와 argsort()"
      ],
      "metadata": {
        "id": "5DlYGMW-BHD_"
      }
    },
    {
      "cell_type": "code",
      "source": [
        "org_array=np.array([3,1,9,5])\n",
        "print('원본 행렬:',org_array)\n",
        "#np.sort()로 정렬\n",
        "sort_array1=np.sort(org_array)\n",
        "print('np.sort() 호출 후 반환된 정렬 행렬:', sort_array1)\n",
        "print('np.sort() 호출 후 원본 행렬:',org_array)\n",
        "#ndarray.sort()로 정렬\n",
        "sort_array2=org_array.sort()\n",
        "print('org_array.sort() 호출 후 반환된 정렬 행렬:', sort_array2)\n",
        "print('org_array.sort() 호출 후 원본 행렬:',org_array)"
      ],
      "metadata": {
        "colab": {
          "base_uri": "https://localhost:8080/"
        },
        "id": "f0QlVFzlBJ3x",
        "outputId": "330af1ed-b6ea-4e88-87d8-88f512e7fc4e"
      },
      "execution_count": null,
      "outputs": [
        {
          "output_type": "stream",
          "name": "stdout",
          "text": [
            "원본 행렬: [3 1 9 5]\n",
            "np.sort() 호출 후 반환된 정렬 행렬: [1 3 5 9]\n",
            "np.sort() 호출 후 원본 행렬: [3 1 9 5]\n",
            "org_array.sort() 호출 후 반환된 정렬 행렬: None\n",
            "org_array.sort() 호출 후 원본 행렬: [1 3 5 9]\n"
          ]
        }
      ]
    },
    {
      "cell_type": "code",
      "source": [
        "sort_array1_desc=np.sort(org_array)[::-1]\n",
        "print('내림차순으로 정렬:', sort_array1_desc)"
      ],
      "metadata": {
        "colab": {
          "base_uri": "https://localhost:8080/"
        },
        "id": "mIM2lqlZBt16",
        "outputId": "d4627b82-8a76-4fc3-b546-558d574c8a4d"
      },
      "execution_count": null,
      "outputs": [
        {
          "output_type": "stream",
          "name": "stdout",
          "text": [
            "내림차순으로 정렬: [9 5 3 1]\n"
          ]
        }
      ]
    },
    {
      "cell_type": "code",
      "source": [
        "array2d=np.array([[8,12],\n",
        "                  [7,1 ]])\n",
        "sort_array2d_axis0=np.sort(array2d,axis=0)\n",
        "print('로우 방향으로 정렬:\\n',sort_array2d_axis0)\n",
        "\n",
        "sort_array2d_axis1=np.sort(array2d,axis=1)\n",
        "print('칼럼 방향으로 정렬:\\n',sort_array2d_axis1)"
      ],
      "metadata": {
        "colab": {
          "base_uri": "https://localhost:8080/"
        },
        "id": "XrlkliYHB433",
        "outputId": "31fafbad-78d4-4d54-a36c-e593a167591c"
      },
      "execution_count": null,
      "outputs": [
        {
          "output_type": "stream",
          "name": "stdout",
          "text": [
            "로우 방향으로 정렬:\n",
            " [[ 7  1]\n",
            " [ 8 12]]\n",
            "칼럼 방향으로 정렬:\n",
            " [[ 8 12]\n",
            " [ 1  7]]\n"
          ]
        }
      ]
    },
    {
      "cell_type": "markdown",
      "source": [
        "정렬된 행렬의 인덱스를 반환하기"
      ],
      "metadata": {
        "id": "sPFPFxHTCVWS"
      }
    },
    {
      "cell_type": "code",
      "source": [
        "org_array=np.array([3,1,9,5])\n",
        "sort_indices=np.argsort(org_array)\n",
        "print(type(sort_indices))\n",
        "print('행렬 정렬 시 원본 행렬의 인덱스:',sort_indices)"
      ],
      "metadata": {
        "colab": {
          "base_uri": "https://localhost:8080/"
        },
        "id": "NGc1jpTrCXIj",
        "outputId": "38ca9319-fb73-4127-c14d-e3b0a3e54bd0"
      },
      "execution_count": null,
      "outputs": [
        {
          "output_type": "stream",
          "name": "stdout",
          "text": [
            "<class 'numpy.ndarray'>\n",
            "행렬 정렬 시 원본 행렬의 인덱스: [1 0 3 2]\n"
          ]
        }
      ]
    },
    {
      "cell_type": "code",
      "source": [
        "org_array=np.array([3,1,9,5])\n",
        "sort_indices_desc=np.argsort(org_array)[::-1]\n",
        "print('행렬 내림차순 정렬 시 원본 행렬의 인덱스:',sort_indices_desc)"
      ],
      "metadata": {
        "colab": {
          "base_uri": "https://localhost:8080/"
        },
        "id": "eAhnGW-WCjkJ",
        "outputId": "246e0632-c9e1-4ef5-b024-664237906505"
      },
      "execution_count": null,
      "outputs": [
        {
          "output_type": "stream",
          "name": "stdout",
          "text": [
            "행렬 내림차순 정렬 시 원본 행렬의 인덱스: [2 3 0 1]\n"
          ]
        }
      ]
    },
    {
      "cell_type": "code",
      "source": [
        "import numpy as np\n",
        "\n",
        "name_array=np.array(['John','Mike','Sarah','Kate','Samuel'])\n",
        "score_array=np.array([78,95,84,98,88])\n",
        "\n",
        "sort_indices_asc=np.argsort(score_array)\n",
        "print('성적 오름차순 정렬 시 score_array의 인덱스:',sort_indices_asc)\n",
        "print('성적 오름차순으로 name_array의 이름 출력:',name_array[sort_indices_asc])"
      ],
      "metadata": {
        "colab": {
          "base_uri": "https://localhost:8080/"
        },
        "id": "oM9Ow8mUCtvx",
        "outputId": "e145c47f-2c9a-4e2d-bdc6-a0307ff4075b"
      },
      "execution_count": null,
      "outputs": [
        {
          "output_type": "stream",
          "name": "stdout",
          "text": [
            "성적 오름차순 정렬 시 score_array의 인덱스: [0 2 4 1 3]\n",
            "성적 오름차순으로 name_array의 이름 출력: ['John' 'Sarah' 'Samuel' 'Mike' 'Kate']\n"
          ]
        }
      ]
    },
    {
      "cell_type": "markdown",
      "source": [
        "선형대수 연산 -  행렬 내적과 전치 행렬 구하기"
      ],
      "metadata": {
        "id": "jiEYIxVjDQ1k"
      }
    },
    {
      "cell_type": "code",
      "source": [
        "A=np.array([[1,2,3],\n",
        "            [4,5,6]])\n",
        "B=np.array([[7,8],\n",
        "            [9,10],\n",
        "            [11,12]])\n",
        "dot_product=np.dot(A,B)\n",
        "print('행렬 내적 결과:\\n',dot_product)"
      ],
      "metadata": {
        "colab": {
          "base_uri": "https://localhost:8080/"
        },
        "id": "nx74Rx_mDT_G",
        "outputId": "682eff0c-fcad-4fc7-b04d-3d056d89b28c"
      },
      "execution_count": null,
      "outputs": [
        {
          "output_type": "stream",
          "name": "stdout",
          "text": [
            "행렬 내적 결과:\n",
            " [[ 58  64]\n",
            " [139 154]]\n"
          ]
        }
      ]
    },
    {
      "cell_type": "code",
      "source": [
        "A=np.array([[1,2],\n",
        "            [3,4]])\n",
        "transpose_mat=np.transpose(A)\n",
        "print('A의 전치 행렬:\\n',transpose_mat)"
      ],
      "metadata": {
        "colab": {
          "base_uri": "https://localhost:8080/"
        },
        "id": "Db8_5H-nDmzo",
        "outputId": "05ae53d9-a489-46b6-eaf9-18afb4688044"
      },
      "execution_count": null,
      "outputs": [
        {
          "output_type": "stream",
          "name": "stdout",
          "text": [
            "A의 전치 행렬:\n",
            " [[1 3]\n",
            " [2 4]]\n"
          ]
        }
      ]
    }
  ]
}