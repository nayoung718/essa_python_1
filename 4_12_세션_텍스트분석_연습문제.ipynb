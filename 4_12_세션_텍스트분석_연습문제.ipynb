{
  "nbformat": 4,
  "nbformat_minor": 0,
  "metadata": {
    "colab": {
      "provenance": [],
      "include_colab_link": true
    },
    "kernelspec": {
      "name": "python3",
      "display_name": "Python 3"
    },
    "language_info": {
      "name": "python"
    }
  },
  "cells": [
    {
      "cell_type": "markdown",
      "metadata": {
        "id": "view-in-github",
        "colab_type": "text"
      },
      "source": [
        "<a href=\"https://colab.research.google.com/github/nayoung718/essa_python_1/blob/main/4_12_%EC%84%B8%EC%85%98_%ED%85%8D%EC%8A%A4%ED%8A%B8%EB%B6%84%EC%84%9D_%EC%97%B0%EC%8A%B5%EB%AC%B8%EC%A0%9C.ipynb\" target=\"_parent\"><img src=\"https://colab.research.google.com/assets/colab-badge.svg\" alt=\"Open In Colab\"/></a>"
      ]
    },
    {
      "cell_type": "markdown",
      "source": [
        "# 1. 아래의 데이터를 이용하여 공부한 내용을 바탕으로 문제 2개를 만들고 답하세요."
      ],
      "metadata": {
        "id": "MbDTRcUQrUS3"
      }
    },
    {
      "cell_type": "code",
      "source": [
        "import nltk\n",
        "nltk.download(\"book\", quiet=True)\n",
        "from nltk.book import *"
      ],
      "metadata": {
        "id": "PNjdc83Bqdpd",
        "colab": {
          "base_uri": "https://localhost:8080/"
        },
        "outputId": "5b2cdf57-7edd-403f-aa2b-21c49323c9be"
      },
      "execution_count": 1,
      "outputs": [
        {
          "output_type": "stream",
          "name": "stdout",
          "text": [
            "*** Introductory Examples for the NLTK Book ***\n",
            "Loading text1, ..., text9 and sent1, ..., sent9\n",
            "Type the name of the text or sentence to view it.\n",
            "Type: 'texts()' or 'sents()' to list the materials.\n",
            "text1: Moby Dick by Herman Melville 1851\n",
            "text2: Sense and Sensibility by Jane Austen 1811\n",
            "text3: The Book of Genesis\n",
            "text4: Inaugural Address Corpus\n",
            "text5: Chat Corpus\n",
            "text6: Monty Python and the Holy Grail\n",
            "text7: Wall Street Journal\n",
            "text8: Personals Corpus\n",
            "text9: The Man Who Was Thursday by G . K . Chesterton 1908\n"
          ]
        }
      ]
    },
    {
      "cell_type": "code",
      "source": [
        "# 파일 목록 확인\n",
        "nltk.corpus.gutenberg.fileids()"
      ],
      "metadata": {
        "colab": {
          "base_uri": "https://localhost:8080/"
        },
        "id": "K9xoXfKzrbKv",
        "outputId": "7859b7fc-3626-450f-9bb5-3869f8aec81c"
      },
      "execution_count": 2,
      "outputs": [
        {
          "output_type": "execute_result",
          "data": {
            "text/plain": [
              "['austen-emma.txt',\n",
              " 'austen-persuasion.txt',\n",
              " 'austen-sense.txt',\n",
              " 'bible-kjv.txt',\n",
              " 'blake-poems.txt',\n",
              " 'bryant-stories.txt',\n",
              " 'burgess-busterbrown.txt',\n",
              " 'carroll-alice.txt',\n",
              " 'chesterton-ball.txt',\n",
              " 'chesterton-brown.txt',\n",
              " 'chesterton-thursday.txt',\n",
              " 'edgeworth-parents.txt',\n",
              " 'melville-moby_dick.txt',\n",
              " 'milton-paradise.txt',\n",
              " 'shakespeare-caesar.txt',\n",
              " 'shakespeare-hamlet.txt',\n",
              " 'shakespeare-macbeth.txt',\n",
              " 'whitman-leaves.txt']"
            ]
          },
          "metadata": {},
          "execution_count": 2
        }
      ]
    },
    {
      "cell_type": "code",
      "source": [
        "hamlet = nltk.corpus.gutenberg.raw('shakespeare-hamlet.txt')\n",
        "print(hamlet[:10000])"
      ],
      "metadata": {
        "colab": {
          "base_uri": "https://localhost:8080/"
        },
        "id": "jo9kzrrqqaNc",
        "outputId": "ab69b8be-cd9d-45a4-9044-4120c85dca93"
      },
      "execution_count": 3,
      "outputs": [
        {
          "output_type": "stream",
          "name": "stdout",
          "text": [
            "[The Tragedie of Hamlet by William Shakespeare 1599]\n",
            "\n",
            "\n",
            "Actus Primus. Scoena Prima.\n",
            "\n",
            "Enter Barnardo and Francisco two Centinels.\n",
            "\n",
            "  Barnardo. Who's there?\n",
            "  Fran. Nay answer me: Stand & vnfold\n",
            "your selfe\n",
            "\n",
            "   Bar. Long liue the King\n",
            "\n",
            "   Fran. Barnardo?\n",
            "  Bar. He\n",
            "\n",
            "   Fran. You come most carefully vpon your houre\n",
            "\n",
            "   Bar. 'Tis now strook twelue, get thee to bed Francisco\n",
            "\n",
            "   Fran. For this releefe much thankes: 'Tis bitter cold,\n",
            "And I am sicke at heart\n",
            "\n",
            "   Barn. Haue you had quiet Guard?\n",
            "  Fran. Not a Mouse stirring\n",
            "\n",
            "   Barn. Well, goodnight. If you do meet Horatio and\n",
            "Marcellus, the Riuals of my Watch, bid them make hast.\n",
            "Enter Horatio and Marcellus.\n",
            "\n",
            "  Fran. I thinke I heare them. Stand: who's there?\n",
            "  Hor. Friends to this ground\n",
            "\n",
            "   Mar. And Leige-men to the Dane\n",
            "\n",
            "   Fran. Giue you good night\n",
            "\n",
            "   Mar. O farwel honest Soldier, who hath relieu'd you?\n",
            "  Fra. Barnardo ha's my place: giue you goodnight.\n",
            "\n",
            "Exit Fran.\n",
            "\n",
            "  Mar. Holla Barnardo\n",
            "\n",
            "   Bar. Say, what is Horatio there?\n",
            "  Hor. A peece of him\n",
            "\n",
            "   Bar. Welcome Horatio, welcome good Marcellus\n",
            "\n",
            "   Mar. What, ha's this thing appear'd againe to night\n",
            "\n",
            "   Bar. I haue seene nothing\n",
            "\n",
            "   Mar. Horatio saies, 'tis but our Fantasie,\n",
            "And will not let beleefe take hold of him\n",
            "Touching this dreaded sight, twice seene of vs,\n",
            "Therefore I haue intreated him along\n",
            "With vs, to watch the minutes of this Night,\n",
            "That if againe this Apparition come,\n",
            "He may approue our eyes, and speake to it\n",
            "\n",
            "   Hor. Tush, tush, 'twill not appeare\n",
            "\n",
            "   Bar. Sit downe a-while,\n",
            "And let vs once againe assaile your eares,\n",
            "That are so fortified against our Story,\n",
            "What we two Nights haue seene\n",
            "\n",
            "   Hor. Well, sit we downe,\n",
            "And let vs heare Barnardo speake of this\n",
            "\n",
            "   Barn. Last night of all,\n",
            "When yond same Starre that's Westward from the Pole\n",
            "Had made his course t' illume that part of Heauen\n",
            "Where now it burnes, Marcellus and my selfe,\n",
            "The Bell then beating one\n",
            "\n",
            "   Mar. Peace, breake thee of:\n",
            "Enter the Ghost.\n",
            "\n",
            "Looke where it comes againe\n",
            "\n",
            "   Barn. In the same figure, like the King that's dead\n",
            "\n",
            "   Mar. Thou art a Scholler; speake to it Horatio\n",
            "\n",
            "   Barn. Lookes it not like the King? Marke it Horatio\n",
            "\n",
            "   Hora. Most like: It harrowes me with fear & wonder\n",
            "  Barn. It would be spoke too\n",
            "\n",
            "   Mar. Question it Horatio\n",
            "\n",
            "   Hor. What art thou that vsurp'st this time of night,\n",
            "Together with that Faire and Warlike forme\n",
            "In which the Maiesty of buried Denmarke\n",
            "Did sometimes march: By Heauen I charge thee speake\n",
            "\n",
            "   Mar. It is offended\n",
            "\n",
            "   Barn. See, it stalkes away\n",
            "\n",
            "   Hor. Stay: speake; speake: I Charge thee, speake.\n",
            "\n",
            "Exit the Ghost.\n",
            "\n",
            "  Mar. 'Tis gone, and will not answer\n",
            "\n",
            "   Barn. How now Horatio? You tremble & look pale:\n",
            "Is not this something more then Fantasie?\n",
            "What thinke you on't?\n",
            "  Hor. Before my God, I might not this beleeue\n",
            "Without the sensible and true auouch\n",
            "Of mine owne eyes\n",
            "\n",
            "   Mar. Is it not like the King?\n",
            "  Hor. As thou art to thy selfe,\n",
            "Such was the very Armour he had on,\n",
            "When th' Ambitious Norwey combatted:\n",
            "So frown'd he once, when in an angry parle\n",
            "He smot the sledded Pollax on the Ice.\n",
            "'Tis strange\n",
            "\n",
            "   Mar. Thus twice before, and iust at this dead houre,\n",
            "With Martiall stalke, hath he gone by our Watch\n",
            "\n",
            "   Hor. In what particular thought to work, I know not:\n",
            "But in the grosse and scope of my Opinion,\n",
            "This boades some strange erruption to our State\n",
            "\n",
            "   Mar. Good now sit downe, & tell me he that knowes\n",
            "Why this same strict and most obseruant Watch,\n",
            "So nightly toyles the subiect of the Land,\n",
            "And why such dayly Cast of Brazon Cannon\n",
            "And Forraigne Mart for Implements of warre:\n",
            "Why such impresse of Ship-wrights, whose sore Taske\n",
            "Do's not diuide the Sunday from the weeke,\n",
            "What might be toward, that this sweaty hast\n",
            "Doth make the Night ioynt-Labourer with the day:\n",
            "Who is't that can informe me?\n",
            "  Hor. That can I,\n",
            "At least the whisper goes so: Our last King,\n",
            "Whose Image euen but now appear'd to vs,\n",
            "Was (as you know) by Fortinbras of Norway,\n",
            "(Thereto prick'd on by a most emulate Pride)\n",
            "Dar'd to the Combate. In which, our Valiant Hamlet,\n",
            "(For so this side of our knowne world esteem'd him)\n",
            "Did slay this Fortinbras: who by a Seal'd Compact,\n",
            "Well ratified by Law, and Heraldrie,\n",
            "Did forfeite (with his life) all those his Lands\n",
            "Which he stood seiz'd on, to the Conqueror:\n",
            "Against the which, a Moity competent\n",
            "Was gaged by our King: which had return'd\n",
            "To the Inheritance of Fortinbras,\n",
            "Had he bin Vanquisher, as by the same Cou'nant\n",
            "And carriage of the Article designe,\n",
            "His fell to Hamlet. Now sir, young Fortinbras,\n",
            "Of vnimproued Mettle, hot and full,\n",
            "Hath in the skirts of Norway, heere and there,\n",
            "Shark'd vp a List of Landlesse Resolutes,\n",
            "For Foode and Diet, to some Enterprize\n",
            "That hath a stomacke in't: which is no other\n",
            "(And it doth well appeare vnto our State)\n",
            "But to recouer of vs by strong hand\n",
            "And termes Compulsatiue, those foresaid Lands\n",
            "So by his Father lost: and this (I take it)\n",
            "Is the maine Motiue of our Preparations,\n",
            "The Sourse of this our Watch, and the cheefe head\n",
            "Of this post-hast, and Romage in the Land.\n",
            "Enter Ghost againe.\n",
            "\n",
            "But soft, behold: Loe, where it comes againe:\n",
            "Ile crosse it, though it blast me. Stay Illusion:\n",
            "If thou hast any sound, or vse of Voyce,\n",
            "Speake to me. If there be any good thing to be done,\n",
            "That may to thee do ease, and grace to me; speak to me.\n",
            "If thou art priuy to thy Countries Fate\n",
            "(Which happily foreknowing may auoyd) Oh speake.\n",
            "Or, if thou hast vp-hoorded in thy life\n",
            "Extorted Treasure in the wombe of Earth,\n",
            "(For which, they say, you Spirits oft walke in death)\n",
            "Speake of it. Stay, and speake. Stop it Marcellus\n",
            "\n",
            "   Mar. Shall I strike at it with my Partizan?\n",
            "  Hor. Do, if it will not stand\n",
            "\n",
            "   Barn. 'Tis heere\n",
            "\n",
            "   Hor. 'Tis heere\n",
            "\n",
            "   Mar. 'Tis gone.\n",
            "\n",
            "Exit Ghost.\n",
            "\n",
            "We do it wrong, being so Maiesticall\n",
            "To offer it the shew of Violence,\n",
            "For it is as the Ayre, invulnerable,\n",
            "And our vaine blowes, malicious Mockery\n",
            "\n",
            "   Barn. It was about to speake, when the Cocke crew\n",
            "\n",
            "   Hor. And then it started, like a guilty thing\n",
            "Vpon a fearfull Summons. I haue heard,\n",
            "The Cocke that is the Trumpet to the day,\n",
            "Doth with his lofty and shrill-sounding Throate\n",
            "Awake the God of Day: and at his warning,\n",
            "Whether in Sea, or Fire, in Earth, or Ayre,\n",
            "Th' extrauagant, and erring Spirit, hyes\n",
            "To his Confine. And of the truth heerein,\n",
            "This present Obiect made probation\n",
            "\n",
            "   Mar. It faded on the crowing of the Cocke.\n",
            "Some sayes, that euer 'gainst that Season comes\n",
            "Wherein our Sauiours Birch is celebrated,\n",
            "The Bird of Dawning singeth all night long:\n",
            "And then (they say) no Spirit can walke abroad,\n",
            "The nights are wholsome, then no Planets strike,\n",
            "No Faiery talkes, nor Witch hath power to Charme:\n",
            "So hallow'd, and so gracious is the time\n",
            "\n",
            "   Hor. So haue I heard, and do in part beleeue it.\n",
            "But looke, the Morne in Russet mantle clad,\n",
            "Walkes o're the dew of yon high Easterne Hill,\n",
            "Breake we our Watch vp, and by my aduice\n",
            "Let vs impart what we haue seene to night\n",
            "Vnto yong Hamlet. For vpon my life,\n",
            "This Spirit dumbe to vs, will speake to him:\n",
            "Do you consent we shall acquaint him with it,\n",
            "As needfull in our Loues, fitting our Duty?\n",
            "  Mar. Let do't I pray, and I this morning know\n",
            "Where we shall finde him most conueniently.\n",
            "\n",
            "Exeunt.\n",
            "\n",
            "Scena Secunda.\n",
            "\n",
            "Enter Claudius King of Denmarke, Gertrude the Queene, Hamlet,\n",
            "Polonius,\n",
            "Laertes, and his Sister Ophelia, Lords Attendant.\n",
            "\n",
            "  King. Though yet of Hamlet our deere Brothers death\n",
            "The memory be greene: and that it vs befitted\n",
            "To beare our hearts in greefe, and our whole Kingdome\n",
            "To be contracted in one brow of woe:\n",
            "Yet so farre hath Discretion fought with Nature,\n",
            "That we with wisest sorrow thinke on him,\n",
            "Together with remembrance of our selues.\n",
            "Therefore our sometimes Sister, now our Queene,\n",
            "Th' imperiall Ioyntresse of this warlike State,\n",
            "Haue we, as 'twere, with a defeated ioy,\n",
            "With one Auspicious, and one Dropping eye,\n",
            "With mirth in Funerall, and with Dirge in Marriage,\n",
            "In equall Scale weighing Delight and Dole\n",
            "Taken to Wife; nor haue we heerein barr'd\n",
            "Your better Wisedomes, which haue freely gone\n",
            "With this affaire along, for all our Thankes.\n",
            "Now followes, that you know young Fortinbras,\n",
            "Holding a weake supposall of our worth;\n",
            "Or thinking by our late deere Brothers death,\n",
            "Our State to be disioynt, and out of Frame,\n",
            "Colleagued with the dreame of his Aduantage;\n",
            "He hath not fayl'd to pester vs with Message,\n",
            "Importing the surrender of those Lands\n",
            "Lost by his Father: with all Bonds of Law\n",
            "To our most valiant Brother. So much for him.\n",
            "Enter Voltemand and Cornelius.\n",
            "\n",
            "Now for our selfe, and for this time of meeting\n",
            "Thus much the businesse is. We haue heere writ\n",
            "To Norway, Vncle of young Fortinbras,\n",
            "Who Impotent and Bedrid, scarsely heares\n",
            "Of this his Nephewes purpose, to suppresse\n",
            "His further gate heerein. In that the Leuies,\n",
            "The Lists, and full proportions are all made\n",
            "Out of his subiect: and we heere dispatch\n",
            "You good Cornelius, and you Voltemand,\n",
            "For bearing of this greeting to old Norway,\n",
            "Giuing to you no further personall power\n",
            "To businesse with the King, more then the scope\n",
            "Of these dilated Articles allow:\n",
            "Farewell, and let your hast commend your duty\n",
            "\n",
            "   Volt. In that, and all things, will we shew our duty\n",
            "\n",
            "   King. We doubt it nothing, heartily farewell.\n",
            "\n",
            "Exit Voltemand and Cornelius.\n",
            "\n",
            "And now Laertes, what's the newes with you?\n",
            "You told vs of some suite. What is't Laertes?\n",
            "You cannot speake of Reason to the Dane,\n",
            "And loose your voyce. What would'st thou beg Laertes,\n",
            "That shall not be my Offer, not thy Asking?\n",
            "The Head is not more Natiue to the Heart,\n",
            "The Hand more instrumentall to the Mouth,\n",
            "Then is the Throne of Denmarke to thy Father.\n",
            "What would'st thou haue Laertes?\n",
            "  Laer. Dread my Lord,\n",
            "Your leaue and fauour to returne to France,\n",
            "From whence, though willingly I came to Denmarke\n",
            "To shew my duty in your Coronation,\n",
            "Yet now I must confesse, that duty done,\n",
            "My thoughts and wishes bend againe towards France,\n",
            "And bow them to your gracious leaue and pardon\n",
            "\n",
            "   King. Haue you your Fathers leaue?\n",
            "What sayes Pollonius?\n",
            "  Pol. He hath my Lord:\n",
            "I do beseech you giue him leaue to go\n",
            "\n",
            "   King. Take thy\n"
          ]
        }
      ]
    },
    {
      "cell_type": "markdown",
      "source": [
        "- VADER를 이용한 감성 분석\n",
        "\n",
        "VADER : 소셜 미디어의 감성 분석 용도로 만들어진 룰 기반의 Lexicon"
      ],
      "metadata": {
        "id": "mvLP7tDx-Vhr"
      }
    },
    {
      "cell_type": "markdown",
      "source": [
        "### (1) 문제 1 : 주어진 텍스트 데이터를 사용하여 VADER 감성 분석을 수행하시오. (polarity_scores()를 사용해 감성 점수 계산)"
      ],
      "metadata": {
        "id": "iNftR22-riz3"
      }
    },
    {
      "cell_type": "code",
      "source": [
        "import nltk\n",
        "from nltk.sentiment.vader import SentimentIntensityAnalyzer\n",
        "\n",
        "# NLTK의 VADER 감성 분석 도구 초기화\n",
        "nltk.download('vader_lexicon')\n",
        "sid = SentimentIntensityAnalyzer()"
      ],
      "metadata": {
        "id": "mLLGn_Rxrkxk"
      },
      "execution_count": null,
      "outputs": []
    },
    {
      "cell_type": "code",
      "source": [
        "# VADER를 사용하여 감성 분석 수행\n",
        "scores = sid.polarity_scores(hamlet)\n",
        "\n",
        "# 결과 출력\n",
        "print(scores)"
      ],
      "metadata": {
        "id": "rqidjKSFrl-2",
        "colab": {
          "base_uri": "https://localhost:8080/"
        },
        "outputId": "d6bd5187-5b9f-4c49-a096-b8031cbb9542"
      },
      "execution_count": 5,
      "outputs": [
        {
          "output_type": "stream",
          "name": "stdout",
          "text": [
            "{'neg': 0.074, 'neu': 0.808, 'pos': 0.117, 'compound': 1.0}\n"
          ]
        }
      ]
    },
    {
      "cell_type": "markdown",
      "source": [
        "neg 부정적 : 0.074, neu 중립적 : 0.808, pos 긍정적 : 0.117, coumpound 종합 감성 지수 : 1.0\n",
        "\n",
        "-> 종합 감정 점수가 높을수록 긍정적 -> 긍정적"
      ],
      "metadata": {
        "id": "RZYDIdR4tCYW"
      }
    },
    {
      "cell_type": "markdown",
      "source": [
        "### (2) 문제 2 : 주어진 텍스트 데이터를 vader_polarity 함수를 사용하여 특정 임계값을 기준으로 긍정적 또는 부정적 감성으로 분류하시오."
      ],
      "metadata": {
        "id": "F6fES2kkrmP0"
      }
    },
    {
      "cell_type": "code",
      "source": [
        "# vader_polarity 함수 정의\n",
        "def vader_polarity(text, threshold=0.1):\n",
        "    scores = sid.polarity_scores(text)\n",
        "    agg_score = scores[\"compound\"]\n",
        "    final_sentiment = 1 if agg_score >= threshold else 0\n",
        "    return final_sentiment\n",
        "\n",
        "# vader_polarity 함수를 이용하여 감성 분석 수행\n",
        "hamlet_sentiment = vader_polarity(hamlet, threshold=0.1)\n",
        "\n",
        "# 결과 출력\n",
        "if hamlet_sentiment == 1:\n",
        "    print(\"긍정적인 감성\")\n",
        "else:\n",
        "    print(\"부정적인 감성\")"
      ],
      "metadata": {
        "id": "a9vmAhP1rnIi",
        "colab": {
          "base_uri": "https://localhost:8080/"
        },
        "outputId": "a1fae41d-053c-4ed2-d1e2-0c194b24155b"
      },
      "execution_count": 6,
      "outputs": [
        {
          "output_type": "stream",
          "name": "stdout",
          "text": [
            "긍정적인 감성\n"
          ]
        }
      ]
    },
    {
      "cell_type": "markdown",
      "source": [
        "# 2. 조원들과 만든 문제와 답을 공유해보세요."
      ],
      "metadata": {
        "id": "2EvgMg6VsMz0"
      }
    }
  ]
}