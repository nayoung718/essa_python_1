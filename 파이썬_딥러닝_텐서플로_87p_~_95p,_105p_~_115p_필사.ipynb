{
  "nbformat": 4,
  "nbformat_minor": 0,
  "metadata": {
    "colab": {
      "provenance": [],
      "authorship_tag": "ABX9TyNB5ZwvxTLv67euNTlaqenJ",
      "include_colab_link": true
    },
    "kernelspec": {
      "name": "python3",
      "display_name": "Python 3"
    },
    "language_info": {
      "name": "python"
    }
  },
  "cells": [
    {
      "cell_type": "markdown",
      "metadata": {
        "id": "view-in-github",
        "colab_type": "text"
      },
      "source": [
        "<a href=\"https://colab.research.google.com/github/nayoung718/essa_python_1/blob/main/%ED%8C%8C%EC%9D%B4%EC%8D%AC_%EB%94%A5%EB%9F%AC%EB%8B%9D_%ED%85%90%EC%84%9C%ED%94%8C%EB%A1%9C_87p_~_95p%2C_105p_~_115p_%ED%95%84%EC%82%AC.ipynb\" target=\"_parent\"><img src=\"https://colab.research.google.com/assets/colab-badge.svg\" alt=\"Open In Colab\"/></a>"
      ]
    },
    {
      "cell_type": "markdown",
      "source": [
        "파이썬 딥러닝 텐서플로 ch3.4, 6 ~ 7 87p ~ 95p, 105p ~ 115p 필사"
      ],
      "metadata": {
        "id": "E-crf0h6JI_s"
      }
    },
    {
      "cell_type": "markdown",
      "source": [
        "87 ~ 95 pg\n",
        "\n",
        "04. 모델 세부 설정"
      ],
      "metadata": {
        "id": "W1MAygxZAOm0"
      }
    },
    {
      "cell_type": "code",
      "execution_count": 2,
      "metadata": {
        "id": "FHdIxlQXJIbr",
        "colab": {
          "base_uri": "https://localhost:8080/"
        },
        "outputId": "cfee027b-b39e-40e0-bf44-6000d8f8d777"
      },
      "outputs": [
        {
          "output_type": "stream",
          "name": "stdout",
          "text": [
            "Downloading data from https://storage.googleapis.com/tensorflow/tf-keras-datasets/mnist.npz\n",
            "11490434/11490434 [==============================] - 0s 0us/step\n",
            "train set:  (60000, 28, 28) (60000,)\n",
            "test set:  (10000, 28, 28) (10000,)\n"
          ]
        }
      ],
      "source": [
        "import tensorflow as tf\n",
        "\n",
        "# 케라스의 내장 데이터셋에서 mnist 데이터셋 로드\n",
        "mnist = tf.keras.datasets.mnist\n",
        "\n",
        "# load_data()로 데이터셋 로드\n",
        "(x_train, y_train), (x_test, y_test) = mnist.load_data()\n",
        "\n",
        "# 로드된 데이터셋 확인\n",
        "print('train set: ', x_train.shape, y_train.shape)\n",
        "print('test set: ', x_test.shape, y_test.shape)\n",
        "\n",
        "# 데이터 정규화\n",
        "x_train = x_train / x_train.max() # max : 255.0\n",
        "x_test = x_test / x_test.max() # max: 255.0"
      ]
    },
    {
      "cell_type": "markdown",
      "source": [
        "4-1. 초기값 설정\n"
      ],
      "metadata": {
        "id": "WovbtW-WAtTu"
      }
    },
    {
      "cell_type": "code",
      "source": [
        "dense = tf.keras.layers.Dense(256, activation='relu')\n",
        "dense.get_config()['kernel_initializer']"
      ],
      "metadata": {
        "colab": {
          "base_uri": "https://localhost:8080/"
        },
        "id": "zwXioQeFAzPq",
        "outputId": "d7f2724d-fc9a-425d-df24-9fff52da525a"
      },
      "execution_count": 3,
      "outputs": [
        {
          "output_type": "execute_result",
          "data": {
            "text/plain": [
              "{'module': 'keras.initializers',\n",
              " 'class_name': 'GlorotUniform',\n",
              " 'config': {'seed': None},\n",
              " 'registered_name': None}"
            ]
          },
          "metadata": {},
          "execution_count": 3
        }
      ]
    },
    {
      "cell_type": "code",
      "source": [
        "#기본값 glorotuniform 초기화 방법 henormal로 변경 -> kernel_initializer 매개변수에 설정\n",
        "# 문자열 초기화\n",
        "dense = tf.keras.layers.Dense(256, activation='relu', kernel_initializer='he_normal')\n",
        "dense.get_config()['kernel_initializer']\n",
        "\n",
        "# 클래스 인스턴스 초기화\n",
        "he_normal = tf.keras.initializers.HeNormal()\n",
        "dense = tf.keras.layers.Dense(256, activation='relu', kernel_initializer=he_normal)\n",
        "dense.get_config()['kernel_initializer']"
      ],
      "metadata": {
        "colab": {
          "base_uri": "https://localhost:8080/"
        },
        "id": "qhDXuf7yA8m7",
        "outputId": "fa279146-3d06-450d-80a0-83bbc0fa243a"
      },
      "execution_count": 4,
      "outputs": [
        {
          "output_type": "execute_result",
          "data": {
            "text/plain": [
              "{'module': 'keras.initializers',\n",
              " 'class_name': 'HeNormal',\n",
              " 'config': {'seed': None},\n",
              " 'registered_name': None}"
            ]
          },
          "metadata": {},
          "execution_count": 4
        }
      ]
    },
    {
      "cell_type": "markdown",
      "source": [
        "4-2. 규제"
      ],
      "metadata": {
        "id": "q5TKqdnpBKzD"
      }
    },
    {
      "cell_type": "code",
      "source": [
        "# 기본값\n",
        "dense = tf.keras.layers.Dense(256, activation='relu')\n",
        "dense.get_config()"
      ],
      "metadata": {
        "colab": {
          "base_uri": "https://localhost:8080/"
        },
        "id": "FYq4g3b5BMWo",
        "outputId": "c852ce59-81c9-4371-a7e6-91aa1308521f"
      },
      "execution_count": 5,
      "outputs": [
        {
          "output_type": "execute_result",
          "data": {
            "text/plain": [
              "{'name': 'dense_3',\n",
              " 'trainable': True,\n",
              " 'dtype': 'float32',\n",
              " 'units': 256,\n",
              " 'activation': 'relu',\n",
              " 'use_bias': True,\n",
              " 'kernel_initializer': {'module': 'keras.initializers',\n",
              "  'class_name': 'GlorotUniform',\n",
              "  'config': {'seed': None},\n",
              "  'registered_name': None},\n",
              " 'bias_initializer': {'module': 'keras.initializers',\n",
              "  'class_name': 'Zeros',\n",
              "  'config': {},\n",
              "  'registered_name': None},\n",
              " 'kernel_regularizer': None,\n",
              " 'bias_regularizer': None,\n",
              " 'activity_regularizer': None,\n",
              " 'kernel_constraint': None,\n",
              " 'bias_constraint': None}"
            ]
          },
          "metadata": {},
          "execution_count": 5
        }
      ]
    },
    {
      "cell_type": "code",
      "source": [
        "#l1 규제 적용\n",
        "dense = tf.keras.layers.Dense(256, activation='relu', kernel_regularizer='l1')\n",
        "print(dense.get_config()['kernel_regularizer'])\n",
        "\n",
        "# 클래스 인스턴스 적용, alpha = 0.1 변경\n",
        "regularizer = tf.keras.regularizers.l1(0.1)\n",
        "dense = tf.keras.layers.Dense(256, activation='relu', kernel_regularizer=regularizer)\n",
        "print(dense.get_config()['kernel_regularizer'])\n"
      ],
      "metadata": {
        "colab": {
          "base_uri": "https://localhost:8080/"
        },
        "id": "g5-8uQu4BRJq",
        "outputId": "fe3f87f1-3549-42d9-e9b6-9219de7ea102"
      },
      "execution_count": 7,
      "outputs": [
        {
          "output_type": "stream",
          "name": "stdout",
          "text": [
            "{'module': 'keras.regularizers', 'class_name': 'L1', 'config': {'l1': 0.009999999776482582}, 'registered_name': None}\n",
            "{'module': 'keras.regularizers', 'class_name': 'L1', 'config': {'l1': 0.10000000149011612}, 'registered_name': None}\n"
          ]
        }
      ]
    },
    {
      "cell_type": "markdown",
      "source": [
        "4-3. 드롭아웃\n",
        "\n",
        "딥러닝 -> 과대적합 문제 : 드롭아웃"
      ],
      "metadata": {
        "id": "8QmQtqqxBi6Z"
      }
    },
    {
      "cell_type": "code",
      "source": [
        "# dropout 25% 비율 적용(25%의 노드가 삭제)\n",
        "tf.keras.layers.Dropout(0.25)"
      ],
      "metadata": {
        "colab": {
          "base_uri": "https://localhost:8080/"
        },
        "id": "UcCf2uLhBouO",
        "outputId": "ee87c365-84e4-40f1-d6ae-2b4e6d7d0339"
      },
      "execution_count": 8,
      "outputs": [
        {
          "output_type": "execute_result",
          "data": {
            "text/plain": [
              "<keras.src.layers.regularization.dropout.Dropout at 0x7b61d40a7940>"
            ]
          },
          "metadata": {},
          "execution_count": 8
        }
      ]
    },
    {
      "cell_type": "markdown",
      "source": [
        "4-4. 배치 정규화"
      ],
      "metadata": {
        "id": "m7rHItOuBuR6"
      }
    },
    {
      "cell_type": "code",
      "source": [
        "# model a : dense + reLu\n",
        "model_a = tf.keras.models.Sequential([\n",
        "    tf.keras.layers.Flatten(input_shape=(28, 28)),\n",
        "    tf.keras.layers.Dense(64, activation='relu'),\n",
        "    tf.keras.layers.Dense(32, activation='relu'),\n",
        "    tf.keras.layers.Dense(10, activation='softmax'),])\n",
        "model_a.summary()"
      ],
      "metadata": {
        "colab": {
          "base_uri": "https://localhost:8080/"
        },
        "id": "-45qJNi0BwMn",
        "outputId": "a26b7b83-885e-450b-bc2f-24817a90fc7c"
      },
      "execution_count": 9,
      "outputs": [
        {
          "output_type": "stream",
          "name": "stdout",
          "text": [
            "Model: \"sequential\"\n",
            "_________________________________________________________________\n",
            " Layer (type)                Output Shape              Param #   \n",
            "=================================================================\n",
            " flatten (Flatten)           (None, 784)               0         \n",
            "                                                                 \n",
            " dense_6 (Dense)             (None, 64)                50240     \n",
            "                                                                 \n",
            " dense_7 (Dense)             (None, 32)                2080      \n",
            "                                                                 \n",
            " dense_8 (Dense)             (None, 10)                330       \n",
            "                                                                 \n",
            "=================================================================\n",
            "Total params: 52650 (205.66 KB)\n",
            "Trainable params: 52650 (205.66 KB)\n",
            "Non-trainable params: 0 (0.00 Byte)\n",
            "_________________________________________________________________\n"
          ]
        }
      ]
    },
    {
      "cell_type": "code",
      "source": [
        "# model b : dense + batchnorm + relu\n",
        "model_b = tf.keras.models.Sequential([\n",
        "    tf.keras.layers.Flatten(input_shape=(28, 28)),\n",
        "    tf.keras.layers.Dense(64),\n",
        "    # 배치 정규화 적용\n",
        "    tf.keras.layers.BatchNormalization(),\n",
        "    # 배치 정규화 후 활성화 함수 적용\n",
        "    tf.keras.layers.Activation('relu'),\n",
        "    tf.keras.layers.Dense(32),\n",
        "    # 배치 정규화 적용\n",
        "    tf.keras.layers.BatchNormalization(),\n",
        "    # 배치 정규화 후 활성화 함수 적용\n",
        "    tf.keras.layers.Activation('relu'),\n",
        "    tf.keras.layers.Dense(10, activation='softmax'),])\n",
        "model_b.summary()"
      ],
      "metadata": {
        "colab": {
          "base_uri": "https://localhost:8080/"
        },
        "id": "xVp9Rpx4CAFh",
        "outputId": "a63309ea-0eba-4ec7-844d-ae0a79a6783b"
      },
      "execution_count": 10,
      "outputs": [
        {
          "output_type": "stream",
          "name": "stdout",
          "text": [
            "Model: \"sequential_1\"\n",
            "_________________________________________________________________\n",
            " Layer (type)                Output Shape              Param #   \n",
            "=================================================================\n",
            " flatten_1 (Flatten)         (None, 784)               0         \n",
            "                                                                 \n",
            " dense_9 (Dense)             (None, 64)                50240     \n",
            "                                                                 \n",
            " batch_normalization (Batch  (None, 64)                256       \n",
            " Normalization)                                                  \n",
            "                                                                 \n",
            " activation (Activation)     (None, 64)                0         \n",
            "                                                                 \n",
            " dense_10 (Dense)            (None, 32)                2080      \n",
            "                                                                 \n",
            " batch_normalization_1 (Bat  (None, 32)                128       \n",
            " chNormalization)                                                \n",
            "                                                                 \n",
            " activation_1 (Activation)   (None, 32)                0         \n",
            "                                                                 \n",
            " dense_11 (Dense)            (None, 10)                330       \n",
            "                                                                 \n",
            "=================================================================\n",
            "Total params: 53034 (207.16 KB)\n",
            "Trainable params: 52842 (206.41 KB)\n",
            "Non-trainable params: 192 (768.00 Byte)\n",
            "_________________________________________________________________\n"
          ]
        }
      ]
    },
    {
      "cell_type": "markdown",
      "source": [
        "배치 정규화만 추가해도 손실 이전에 비해 더 안정적이고 빠르게 수렴\n",
        "\n",
        "4-5. 활성화 함수\n"
      ],
      "metadata": {
        "id": "Rr98ViEVCZ1u"
      }
    },
    {
      "cell_type": "code",
      "source": [
        "# leakyReLU 기본 설정\n",
        "tf.keras.layers.LeakyReLU()\n",
        "\n",
        "# LeakyReLU, alpha = 0.2 로 변경\n",
        "tf.keras.layers.LeakyReLU(alpha=0.2)"
      ],
      "metadata": {
        "colab": {
          "base_uri": "https://localhost:8080/"
        },
        "id": "-KZFmVfKCVf6",
        "outputId": "42c0df4a-fd17-4d98-e534-de41cf6278b5"
      },
      "execution_count": 11,
      "outputs": [
        {
          "output_type": "execute_result",
          "data": {
            "text/plain": [
              "<keras.src.layers.activation.leaky_relu.LeakyReLU at 0x7b61d35c0760>"
            ]
          },
          "metadata": {},
          "execution_count": 11
        }
      ]
    },
    {
      "cell_type": "code",
      "source": [
        "# model c : dense + batchnorm + leakyReLU(0.2)\n",
        "model_c = tf.keras.Sequential([\n",
        "    tf.keras.layers.Flatten(input_shape=(28, 28)),\n",
        "    tf.keras.layers.Dense(64),\n",
        "    # 배치 정규화 적용\n",
        "    tf.keras.layers.BatchNormalization(),\n",
        "    # leakyReLU, alpha = 0.2 적용\n",
        "    tf.keras.layers.LeakyReLU(alpha=0.2),\n",
        "\n",
        "    tf.keras.layers.Dense(32),\n",
        "    #배치 정규화 적용\n",
        "    tf.keras.layers.BatchNormalization(),\n",
        "    # leakyReLU, alpha = 0.2 적용\n",
        "    tf.keras.layers.LeakyReLU(alpha=0.2),\n",
        "\n",
        "    tf.keras.layers.Dense(10, activation='softmax'),])\n",
        "\n",
        "# 모델 요약\n",
        "model_c.summary()"
      ],
      "metadata": {
        "colab": {
          "base_uri": "https://localhost:8080/"
        },
        "id": "7Uwltj_YCk5w",
        "outputId": "feeeb19e-f451-4033-b5bf-ccb2175716fe"
      },
      "execution_count": 12,
      "outputs": [
        {
          "output_type": "stream",
          "name": "stdout",
          "text": [
            "Model: \"sequential_2\"\n",
            "_________________________________________________________________\n",
            " Layer (type)                Output Shape              Param #   \n",
            "=================================================================\n",
            " flatten_2 (Flatten)         (None, 784)               0         \n",
            "                                                                 \n",
            " dense_12 (Dense)            (None, 64)                50240     \n",
            "                                                                 \n",
            " batch_normalization_2 (Bat  (None, 64)                256       \n",
            " chNormalization)                                                \n",
            "                                                                 \n",
            " leaky_re_lu_2 (LeakyReLU)   (None, 64)                0         \n",
            "                                                                 \n",
            " dense_13 (Dense)            (None, 32)                2080      \n",
            "                                                                 \n",
            " batch_normalization_3 (Bat  (None, 32)                128       \n",
            " chNormalization)                                                \n",
            "                                                                 \n",
            " leaky_re_lu_3 (LeakyReLU)   (None, 32)                0         \n",
            "                                                                 \n",
            " dense_14 (Dense)            (None, 10)                330       \n",
            "                                                                 \n",
            "=================================================================\n",
            "Total params: 53034 (207.16 KB)\n",
            "Trainable params: 52842 (206.41 KB)\n",
            "Non-trainable params: 192 (768.00 Byte)\n",
            "_________________________________________________________________\n"
          ]
        }
      ]
    },
    {
      "cell_type": "code",
      "source": [
        "# model a, b, c 수렴속도 확인\n",
        "model_a.compile(optimizer='adam', loss='sparse_categorical_crossentropy', metrics=['accuracy'])\n",
        "model_b.compile(optimizer='adam', loss='sparse_categorical_crossentropy', metrics=['accuracy'])\n",
        "model_c.compile(optimizer='adam', loss='sparse_categorical_crossentropy', metrics=['accuracy'])\n",
        "\n",
        "# model a : dense + relu\n",
        "history_a = model_a.fit(x_train, y_train, validation_data=(x_test, y_test), epochs=10)\n",
        "\n",
        "# model b : dense + batchnorm + relu\n",
        "history_b = model_b.fit(x_train, y_train, validation_data=(x_test, y_test), epochs=10)\n",
        "\n",
        "# model c : dense + batchnorm + leakyReLU(0.2)\n",
        "history_c = model_c.fit(x_train, y_train, validation_data=(x_test, y_test), epochs=10)"
      ],
      "metadata": {
        "colab": {
          "base_uri": "https://localhost:8080/"
        },
        "id": "43UQ83QPC7kF",
        "outputId": "37d0c5f1-e78f-4db2-c859-52df24f91f87"
      },
      "execution_count": 13,
      "outputs": [
        {
          "output_type": "stream",
          "name": "stdout",
          "text": [
            "Epoch 1/10\n",
            "1875/1875 [==============================] - 7s 3ms/step - loss: 0.2886 - accuracy: 0.9162 - val_loss: 0.1539 - val_accuracy: 0.9538\n",
            "Epoch 2/10\n",
            "1875/1875 [==============================] - 18s 10ms/step - loss: 0.1312 - accuracy: 0.9605 - val_loss: 0.1094 - val_accuracy: 0.9673\n",
            "Epoch 3/10\n",
            "1875/1875 [==============================] - 15s 8ms/step - loss: 0.0957 - accuracy: 0.9709 - val_loss: 0.1000 - val_accuracy: 0.9727\n",
            "Epoch 4/10\n",
            "1875/1875 [==============================] - 14s 7ms/step - loss: 0.0760 - accuracy: 0.9767 - val_loss: 0.0930 - val_accuracy: 0.9744\n",
            "Epoch 5/10\n",
            "1875/1875 [==============================] - 11s 6ms/step - loss: 0.0643 - accuracy: 0.9796 - val_loss: 0.0949 - val_accuracy: 0.9720\n",
            "Epoch 6/10\n",
            "1875/1875 [==============================] - 12s 6ms/step - loss: 0.0536 - accuracy: 0.9827 - val_loss: 0.1017 - val_accuracy: 0.9732\n",
            "Epoch 7/10\n",
            "1875/1875 [==============================] - 11s 6ms/step - loss: 0.0457 - accuracy: 0.9857 - val_loss: 0.0984 - val_accuracy: 0.9727\n",
            "Epoch 8/10\n",
            "1875/1875 [==============================] - 10s 5ms/step - loss: 0.0396 - accuracy: 0.9870 - val_loss: 0.0876 - val_accuracy: 0.9763\n",
            "Epoch 9/10\n",
            "1875/1875 [==============================] - 6s 3ms/step - loss: 0.0351 - accuracy: 0.9885 - val_loss: 0.0980 - val_accuracy: 0.9748\n",
            "Epoch 10/10\n",
            "1875/1875 [==============================] - 12s 6ms/step - loss: 0.0299 - accuracy: 0.9902 - val_loss: 0.1027 - val_accuracy: 0.9745\n",
            "Epoch 1/10\n",
            "1875/1875 [==============================] - 15s 7ms/step - loss: 0.3216 - accuracy: 0.9105 - val_loss: 0.1338 - val_accuracy: 0.9594\n",
            "Epoch 2/10\n",
            "1875/1875 [==============================] - 10s 5ms/step - loss: 0.1435 - accuracy: 0.9566 - val_loss: 0.1000 - val_accuracy: 0.9694\n",
            "Epoch 3/10\n",
            "1875/1875 [==============================] - 10s 6ms/step - loss: 0.1120 - accuracy: 0.9650 - val_loss: 0.0943 - val_accuracy: 0.9712\n",
            "Epoch 4/10\n",
            "1875/1875 [==============================] - 8s 4ms/step - loss: 0.0947 - accuracy: 0.9701 - val_loss: 0.0810 - val_accuracy: 0.9740\n",
            "Epoch 5/10\n",
            "1875/1875 [==============================] - 11s 6ms/step - loss: 0.0846 - accuracy: 0.9736 - val_loss: 0.0839 - val_accuracy: 0.9738\n",
            "Epoch 6/10\n",
            "1875/1875 [==============================] - 8s 4ms/step - loss: 0.0766 - accuracy: 0.9751 - val_loss: 0.0790 - val_accuracy: 0.9769\n",
            "Epoch 7/10\n",
            "1875/1875 [==============================] - 8s 4ms/step - loss: 0.0691 - accuracy: 0.9778 - val_loss: 0.0713 - val_accuracy: 0.9775\n",
            "Epoch 8/10\n",
            "1875/1875 [==============================] - 8s 4ms/step - loss: 0.0627 - accuracy: 0.9792 - val_loss: 0.0771 - val_accuracy: 0.9756\n",
            "Epoch 9/10\n",
            "1875/1875 [==============================] - 8s 4ms/step - loss: 0.0587 - accuracy: 0.9804 - val_loss: 0.0714 - val_accuracy: 0.9780\n",
            "Epoch 10/10\n",
            "1875/1875 [==============================] - 7s 4ms/step - loss: 0.0558 - accuracy: 0.9818 - val_loss: 0.0749 - val_accuracy: 0.9769\n",
            "Epoch 1/10\n",
            "1875/1875 [==============================] - 12s 6ms/step - loss: 0.3285 - accuracy: 0.9093 - val_loss: 0.1504 - val_accuracy: 0.9547\n",
            "Epoch 2/10\n",
            "1875/1875 [==============================] - 8s 4ms/step - loss: 0.1570 - accuracy: 0.9533 - val_loss: 0.1093 - val_accuracy: 0.9671\n",
            "Epoch 3/10\n",
            "1875/1875 [==============================] - 8s 4ms/step - loss: 0.1228 - accuracy: 0.9625 - val_loss: 0.1071 - val_accuracy: 0.9688\n",
            "Epoch 4/10\n",
            "1875/1875 [==============================] - 9s 5ms/step - loss: 0.1062 - accuracy: 0.9672 - val_loss: 0.0976 - val_accuracy: 0.9695\n",
            "Epoch 5/10\n",
            "1875/1875 [==============================] - 8s 4ms/step - loss: 0.0934 - accuracy: 0.9709 - val_loss: 0.0945 - val_accuracy: 0.9711\n",
            "Epoch 6/10\n",
            "1875/1875 [==============================] - 8s 4ms/step - loss: 0.0857 - accuracy: 0.9730 - val_loss: 0.0921 - val_accuracy: 0.9726\n",
            "Epoch 7/10\n",
            "1875/1875 [==============================] - 7s 4ms/step - loss: 0.0795 - accuracy: 0.9737 - val_loss: 0.0881 - val_accuracy: 0.9734\n",
            "Epoch 8/10\n",
            "1875/1875 [==============================] - 7s 4ms/step - loss: 0.0722 - accuracy: 0.9764 - val_loss: 0.0839 - val_accuracy: 0.9733\n",
            "Epoch 9/10\n",
            "1875/1875 [==============================] - 7s 4ms/step - loss: 0.0678 - accuracy: 0.9779 - val_loss: 0.0826 - val_accuracy: 0.9754\n",
            "Epoch 10/10\n",
            "1875/1875 [==============================] - 6s 3ms/step - loss: 0.0648 - accuracy: 0.9789 - val_loss: 0.0830 - val_accuracy: 0.9759\n"
          ]
        }
      ]
    },
    {
      "cell_type": "code",
      "source": [
        "import matplotlib.pyplot as plt\n",
        "import numpy as np\n",
        "\n",
        "plt.figure(figsize=(12, 9))\n",
        "plt.plot(np.arange(1,11), history_a.history['val_loss'], color='navy', linestyle=':')\n",
        "plt.plot(np.arange(1,11), history_b.history['val_loss'], color='tomato', linestyle='-.')\n",
        "plt.plot(np.arange(1,11), history_c.history['val_loss'], color='green', linestyle='-')\n",
        "\n",
        "plt.title('Losses', fontsize=20)\n",
        "plt.xlabel('epochs')\n",
        "plt.ylabel('losses')\n",
        "plt.legend(['ReLU','BatchNorm + ReLU','batchnorm+ LeakyReLU'], fontsize=12)\n",
        "plt.show()"
      ],
      "metadata": {
        "colab": {
          "base_uri": "https://localhost:8080/",
          "height": 803
        },
        "id": "4XRdmC82DSEj",
        "outputId": "049b39f3-f5d1-4d60-a0ee-02753c729ce8"
      },
      "execution_count": 15,
      "outputs": [
        {
          "output_type": "display_data",
          "data": {
            "text/plain": [
              "<Figure size 1200x900 with 1 Axes>"
            ],
            "image/png": "[encoded data removed]"
          },
          "metadata": {}
        }
      ]
    },
    {
      "cell_type": "markdown",
      "source": [
        "105p ~ 115p\n",
        "\n",
        "06. 모델 저장 및 불러오기\n"
      ],
      "metadata": {
        "id": "fi2t36nVD_MW"
      }
    },
    {
      "cell_type": "code",
      "source": [
        "import tensorflow as tf\n",
        "\n",
        "# 케라스의 내장 데이터셋에서 mnist 데이터셋 로드\n",
        "mnist = tf.keras.datasets.mnist\n",
        "\n",
        "# load_data()로 데이터셋 로드\n",
        "(x_train, y_train), (x_test, y_test) = mnist.load_data()\n",
        "\n",
        "# 로드된 데이터셋 확인\n",
        "print('train set: ', x_train.shape, y_train.shape)\n",
        "print('test set: ', x_test.shape, y_test.shape)\n",
        "\n",
        "# 데이터 정규화\n",
        "x_train = x_train / x_train.max() # max : 255.0\n",
        "x_test = x_test / x_test.max() # max: 255.0"
      ],
      "metadata": {
        "colab": {
          "base_uri": "https://localhost:8080/"
        },
        "id": "wtEovXw8EPRf",
        "outputId": "fdf08f3c-331d-4573-be0e-1841c2a8d6e4"
      },
      "execution_count": 16,
      "outputs": [
        {
          "output_type": "stream",
          "name": "stdout",
          "text": [
            "train set:  (60000, 28, 28) (60000,)\n",
            "test set:  (10000, 28, 28) (10000,)\n"
          ]
        }
      ]
    },
    {
      "cell_type": "markdown",
      "source": [
        "6-1. 모델을 파일로 저장"
      ],
      "metadata": {
        "id": "olAKE5tEEGn5"
      }
    },
    {
      "cell_type": "code",
      "source": [
        "model = tf.keras.models.Sequential([\n",
        "    tf.keras.layers.Flatten(input_shape=(28, 28)),\n",
        "    tf.keras.layers.Dense(256, activation='relu'),\n",
        "    tf.keras.layers.Dense(64, activation='relu'),\n",
        "    tf.keras.layers.Dense(32, activation='relu'),\n",
        "    tf.keras.layers.Dense(10, activation='softmax'),])"
      ],
      "metadata": {
        "id": "sPlhghwwFVeN"
      },
      "execution_count": 18,
      "outputs": []
    },
    {
      "cell_type": "code",
      "source": [
        "# 모델을 h5 포맷으로 저장\n",
        "model.save('h5_model.h5')"
      ],
      "metadata": {
        "colab": {
          "base_uri": "https://localhost:8080/"
        },
        "id": "u7t11ujMEQ40",
        "outputId": "f1342466-7fdb-4f07-a5dc-2977813cfcee"
      },
      "execution_count": 20,
      "outputs": [
        {
          "output_type": "stream",
          "name": "stderr",
          "text": [
            "/usr/local/lib/python3.10/dist-packages/keras/src/engine/training.py:3103: UserWarning: You are saving your model as an HDF5 file via `model.save()`. This file format is considered legacy. We recommend using instead the native Keras format, e.g. `model.save('my_model.keras')`.\n",
            "  saving_api.save_model(\n",
            "WARNING:tensorflow:Compiled the loaded model, but the compiled metrics have yet to be built. `model.compile_metrics` will be empty until you train or evaluate the model.\n"
          ]
        }
      ]
    },
    {
      "cell_type": "markdown",
      "source": [
        "6-2. 저장된 모델 복원"
      ],
      "metadata": {
        "id": "1neJF8Z1EVx3"
      }
    },
    {
      "cell_type": "code",
      "source": [
        "# 모델 복원\n",
        "h5_model = tf.keras.models.load_model('h5_model.h5')\n",
        "h5_model.summary()"
      ],
      "metadata": {
        "colab": {
          "base_uri": "https://localhost:8080/"
        },
        "id": "ZvMUHR7TFhRr",
        "outputId": "465a2b9f-ef47-4900-b278-fe1f856622c4"
      },
      "execution_count": 21,
      "outputs": [
        {
          "output_type": "stream",
          "name": "stderr",
          "text": [
            "WARNING:tensorflow:No training configuration found in the save file, so the model was *not* compiled. Compile it manually.\n"
          ]
        },
        {
          "output_type": "stream",
          "name": "stdout",
          "text": [
            "Model: \"sequential_3\"\n",
            "_________________________________________________________________\n",
            " Layer (type)                Output Shape              Param #   \n",
            "=================================================================\n",
            " flatten_3 (Flatten)         (None, 784)               0         \n",
            "                                                                 \n",
            " dense_15 (Dense)            (None, 256)               200960    \n",
            "                                                                 \n",
            " dense_16 (Dense)            (None, 64)                16448     \n",
            "                                                                 \n",
            " dense_17 (Dense)            (None, 32)                2080      \n",
            "                                                                 \n",
            " dense_18 (Dense)            (None, 10)                330       \n",
            "                                                                 \n",
            "=================================================================\n",
            "Total params: 219818 (858.66 KB)\n",
            "Trainable params: 219818 (858.66 KB)\n",
            "Non-trainable params: 0 (0.00 Byte)\n",
            "_________________________________________________________________\n"
          ]
        }
      ]
    },
    {
      "cell_type": "code",
      "source": [
        "h5_model.compile(optimizer='adam', loss='sparse_categorical_crossentropy', metrics=['accuracy'])"
      ],
      "metadata": {
        "id": "02AWj3UbF4Sa"
      },
      "execution_count": 25,
      "outputs": []
    },
    {
      "cell_type": "code",
      "source": [
        "# 모델 검증\n",
        "loss, acc = h5_model.evaluate(x_test, y_test, verbose = 0)\n",
        "print(f'h5 model] loss: {loss}, acc: {acc}')"
      ],
      "metadata": {
        "colab": {
          "base_uri": "https://localhost:8080/"
        },
        "id": "XeP--sOfFo6z",
        "outputId": "aee5e61e-e27a-4de1-80e8-f770f9416684"
      },
      "execution_count": 26,
      "outputs": [
        {
          "output_type": "stream",
          "name": "stdout",
          "text": [
            "h5 model] loss: 2.3163297176361084, acc: 0.08569999784231186\n"
          ]
        }
      ]
    },
    {
      "cell_type": "code",
      "source": [
        "# 모델을 savedmodel 포맷으로 저장\n",
        "model.save('saved-model')"
      ],
      "metadata": {
        "id": "edms3_RrGHTX"
      },
      "execution_count": 28,
      "outputs": []
    },
    {
      "cell_type": "code",
      "source": [
        "# 모델 복원\n",
        "saved_model = tf.keras.models.load_model('saved-model')\n",
        "saved_model.summary()"
      ],
      "metadata": {
        "colab": {
          "base_uri": "https://localhost:8080/"
        },
        "id": "927kM3X-GNxc",
        "outputId": "4e5338f5-65ef-42e9-d200-8e9165f7a6ab"
      },
      "execution_count": 29,
      "outputs": [
        {
          "output_type": "stream",
          "name": "stdout",
          "text": [
            "Model: \"sequential_3\"\n",
            "_________________________________________________________________\n",
            " Layer (type)                Output Shape              Param #   \n",
            "=================================================================\n",
            " flatten_3 (Flatten)         (None, 784)               0         \n",
            "                                                                 \n",
            " dense_15 (Dense)            (None, 256)               200960    \n",
            "                                                                 \n",
            " dense_16 (Dense)            (None, 64)                16448     \n",
            "                                                                 \n",
            " dense_17 (Dense)            (None, 32)                2080      \n",
            "                                                                 \n",
            " dense_18 (Dense)            (None, 10)                330       \n",
            "                                                                 \n",
            "=================================================================\n",
            "Total params: 219818 (858.66 KB)\n",
            "Trainable params: 219818 (858.66 KB)\n",
            "Non-trainable params: 0 (0.00 Byte)\n",
            "_________________________________________________________________\n"
          ]
        }
      ]
    },
    {
      "cell_type": "code",
      "source": [
        "# 모델 검증(HDF5 포맷)\n",
        "loss, acc = saved_model.evaluate(x_test, y_test, verbose = 0)\n",
        "print(f'H5 model] loss: {loss:.5f}, acc: {acc:.5f}')\n",
        "\n",
        "# 모델 검증(savedmodel 포맷)\n",
        "loss, acc = saved_model.evaluate(x_test, y_test, verbose = 0)\n",
        "print(f'saved model] loss: {loss:.5f}, acc: {acc:.5f}')"
      ],
      "metadata": {
        "colab": {
          "base_uri": "https://localhost:8080/"
        },
        "id": "lcIMmfHiGRc9",
        "outputId": "27698547-9b58-4bd0-96a9-1cc22833d47e"
      },
      "execution_count": 30,
      "outputs": [
        {
          "output_type": "stream",
          "name": "stdout",
          "text": [
            "H5 model] loss: 2.31633, acc: 0.00450\n",
            "saved model] loss: 2.31633, acc: 0.00450\n"
          ]
        }
      ]
    },
    {
      "cell_type": "markdown",
      "source": [
        "07. 복잡한 모델 생성\n",
        "\n",
        "7-1. 함수형 API\n",
        "![image.png](data:image/png;base64,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)\n",
        "\n",
        "Sequential API : 단방향 모델만 구현 가능 : 제약 -> 특정 레이어 건너뛰거나 병합/분리 구조 모델 구현 불가능"
      ],
      "metadata": {
        "id": "gtsk4PFwGlwK"
      }
    },
    {
      "cell_type": "code",
      "source": [
        "import tensorflow as tf\n",
        "\n",
        "# 케라스의 내장 데이터셋에서 mnist 데이터셋 로드\n",
        "mnist = tf.keras.datasets.mnist\n",
        "\n",
        "# load_data()로 데이터셋 로드\n",
        "(x_train, y_train), (x_test, y_test) = mnist.load_data()\n",
        "\n",
        "# 로드된 데이터셋 확인\n",
        "print('train set: ', x_train.shape, y_train.shape)\n",
        "print('test set: ', x_test.shape, y_test.shape)\n",
        "\n",
        "# 데이터 정규화\n",
        "x_train = x_train / x_train.max() # max : 255.0\n",
        "x_test = x_test / x_test.max() # max: 255.0"
      ],
      "metadata": {
        "colab": {
          "base_uri": "https://localhost:8080/"
        },
        "id": "DVp5G5ZeHwi-",
        "outputId": "ae1f4dff-761a-4fb7-be38-d9106a4748dd"
      },
      "execution_count": 31,
      "outputs": [
        {
          "output_type": "stream",
          "name": "stdout",
          "text": [
            "train set:  (60000, 28, 28) (60000,)\n",
            "test set:  (10000, 28, 28) (10000,)\n"
          ]
        }
      ]
    },
    {
      "cell_type": "code",
      "source": [
        "# 모델의 레이어를 체인 구조로 연결 INPUT 레이어 정의\n",
        "input_layer = tf.keras.Input(shape=(28, 28), name = 'InputLayer')\n",
        "\n",
        "# 모델의 레이어를 체인구조로 연결\n",
        "x1 = tf.keras.layers.Flatten(name = 'Flatten')(input_layer)\n",
        "x2 = tf.keras.layers.Dense(256, activation='relu', name = 'Dense1')(x1)\n",
        "x3 = tf.keras.layers.Dense(64, activation='relu', name = 'Dense2')(x2)\n",
        "x4 = tf.keras.layers.Dense(10, activation='softmax', name = 'OutputLayer')(x3)\n",
        "\n",
        "# 모델  생성\n",
        "func_model = tf.keras.Model(inputs = input_layer, outputs = x4, name = 'FunctionalModel')\n",
        "# 모델 요약\n",
        "func_model.summary()"
      ],
      "metadata": {
        "colab": {
          "base_uri": "https://localhost:8080/"
        },
        "id": "H6vqOXvBH1AS",
        "outputId": "a1df56ed-c7d6-4aa8-9acf-1637cc76a6a0"
      },
      "execution_count": 33,
      "outputs": [
        {
          "output_type": "stream",
          "name": "stdout",
          "text": [
            "Model: \"FunctionalModel\"\n",
            "_________________________________________________________________\n",
            " Layer (type)                Output Shape              Param #   \n",
            "=================================================================\n",
            " InputLayer (InputLayer)     [(None, 28, 28)]          0         \n",
            "                                                                 \n",
            " Flatten (Flatten)           (None, 784)               0         \n",
            "                                                                 \n",
            " Dense1 (Dense)              (None, 256)               200960    \n",
            "                                                                 \n",
            " Dense2 (Dense)              (None, 64)                16448     \n",
            "                                                                 \n",
            " OutputLayer (Dense)         (None, 10)                650       \n",
            "                                                                 \n",
            "=================================================================\n",
            "Total params: 218058 (851.79 KB)\n",
            "Trainable params: 218058 (851.79 KB)\n",
            "Non-trainable params: 0 (0.00 Byte)\n",
            "_________________________________________________________________\n"
          ]
        }
      ]
    },
    {
      "cell_type": "code",
      "source": [
        "# 모델 구조도 시각화\n",
        "from tensorflow.keras.utils import plot_model\n",
        "# 구조도 시각화\n",
        "plot_model(func_model, show_shapes=True, show_layer_names=True, to_file='model.png')"
      ],
      "metadata": {
        "colab": {
          "base_uri": "https://localhost:8080/",
          "height": 533
        },
        "id": "FtjOPJFCQ12I",
        "outputId": "da29b96e-8152-4343-f7e5-eb6d7012fca2"
      },
      "execution_count": 34,
      "outputs": [
        {
          "output_type": "execute_result",
          "data": {
            "image/png": "[encoded data removed]",
            "text/plain": [
              "<IPython.core.display.Image object>"
            ]
          },
          "metadata": {},
          "execution_count": 34
        }
      ]
    },
    {
      "cell_type": "markdown",
      "source": [
        "show_shapes = true : 데이터 입출력 shape\n",
        "\n",
        "show_layer_names = true : 레이어 이름 출력\n",
        "\n",
        "to_file : 이미지 파일로 저장"
      ],
      "metadata": {
        "id": "fIwjDrdeRCE_"
      }
    },
    {
      "cell_type": "code",
      "source": [
        "# 컴파일\n",
        "func_model.compile(optimizer='adam', loss='sparse_categorical_crossentropy', metrics=['accuracy'])\n",
        "\n",
        "#훈련\n",
        "func_model.fit(x_train, y_train, epochs=3)\n",
        "\n",
        "# 검증\n",
        "loss, acc = func_model.evaluate(x_test, y_test, verbose=0)\n",
        "print(f'Functional Model] loss: {loss: .5f}, acc: {acc:.5f}')"
      ],
      "metadata": {
        "colab": {
          "base_uri": "https://localhost:8080/"
        },
        "id": "usRlRmUWRJMe",
        "outputId": "9dc68eb7-8f3a-4a88-d976-92e97eb395e4"
      },
      "execution_count": 35,
      "outputs": [
        {
          "output_type": "stream",
          "name": "stdout",
          "text": [
            "Epoch 1/3\n",
            "1875/1875 [==============================] - 12s 6ms/step - loss: 0.2145 - accuracy: 0.9358\n",
            "Epoch 2/3\n",
            "1875/1875 [==============================] - 12s 7ms/step - loss: 0.0874 - accuracy: 0.9731\n",
            "Epoch 3/3\n",
            "1875/1875 [==============================] - 11s 6ms/step - loss: 0.0611 - accuracy: 0.9805\n",
            "Functional Model] loss:  0.09098, acc: 0.97160\n"
          ]
        }
      ]
    },
    {
      "cell_type": "markdown",
      "source": [
        "7-2. 모델 서브클래싱\n",
        "\n",
        "클래스 상속받아 사용자가 직접 서브클래스로 딥러닝 모델 만들어"
      ],
      "metadata": {
        "id": "4kODRjk-Ra3P"
      }
    },
    {
      "cell_type": "code",
      "source": [
        "class MyModel(tf.keras.Model):\n",
        "  def __init__(self):\n",
        "    super(MyModel, self).__init__()\n",
        "    #초기값 설정\n",
        "    self.flatten = tf.keras.layers.Flatten()\n",
        "    self.dense1 = tf.keras.layers.Dense(256, activation='relu')\n",
        "    self.dense2 = tf.keras.layers.Dense(64, activation='relu')\n",
        "    self.dense3 = tf.keras.layers.Dense(10, activation='softmax')\n",
        "\n",
        "  # method overiding\n",
        "  # 훈련용 함수 정의\n",
        "  # x 는 input\n",
        "  def call(self, x):\n",
        "    x = self.flatten(x)\n",
        "    x = self.dense1(x)\n",
        "    x = self.dense2(x)\n",
        "    x = self.dense3(x)\n",
        "    return x"
      ],
      "metadata": {
        "id": "g7NQNOG2Rhow"
      },
      "execution_count": 37,
      "outputs": []
    },
    {
      "cell_type": "code",
      "source": [
        "# 모델 생성\n",
        "mymodel = MyModel()\n",
        "\n",
        "# 모델의 이름 설정\n",
        "mymodel._name = 'subclass_model'\n",
        "\n",
        "# 모델 input 정의\n",
        "mymodel(tf.keras.layers.Input(shape=(28,28)))\n",
        "\n",
        "# 모델 요약\n",
        "mymodel.summary()"
      ],
      "metadata": {
        "colab": {
          "base_uri": "https://localhost:8080/"
        },
        "id": "_AjAo_y4R0EU",
        "outputId": "60b02f35-b3f9-4866-9c72-648352ac25b8"
      },
      "execution_count": 38,
      "outputs": [
        {
          "output_type": "stream",
          "name": "stdout",
          "text": [
            "Model: \"subclass_model\"\n",
            "_________________________________________________________________\n",
            " Layer (type)                Output Shape              Param #   \n",
            "=================================================================\n",
            " flatten_4 (Flatten)         multiple                  0         \n",
            "                                                                 \n",
            " dense_19 (Dense)            multiple                  200960    \n",
            "                                                                 \n",
            " dense_20 (Dense)            multiple                  16448     \n",
            "                                                                 \n",
            " dense_21 (Dense)            multiple                  650       \n",
            "                                                                 \n",
            "=================================================================\n",
            "Total params: 218058 (851.79 KB)\n",
            "Trainable params: 218058 (851.79 KB)\n",
            "Non-trainable params: 0 (0.00 Byte)\n",
            "_________________________________________________________________\n"
          ]
        }
      ]
    },
    {
      "cell_type": "code",
      "source": [
        "# 컴파일\n",
        "mymodel.compile(optimizer='adam', loss='sparse_categorical_crossentropy', metrics=['accuracy'])\n",
        "\n",
        "# 훈련\n",
        "mymodel.fit(x_train, y_train, epochs=3)\n",
        "\n",
        "# 검증\n",
        "loss, acc = mymodel.evaluate(x_test, y_test, verbose=0)\n",
        "print(f'Subclass Model] loss: {loss: .5f}, acc: {acc:.5f}')"
      ],
      "metadata": {
        "colab": {
          "base_uri": "https://localhost:8080/"
        },
        "id": "0As3YvWWSAtO",
        "outputId": "c7e72d18-0773-44e4-a831-f43ad8844e1e"
      },
      "execution_count": 39,
      "outputs": [
        {
          "output_type": "stream",
          "name": "stdout",
          "text": [
            "Epoch 1/3\n",
            "1875/1875 [==============================] - 12s 6ms/step - loss: 0.2120 - accuracy: 0.9372\n",
            "Epoch 2/3\n",
            "1875/1875 [==============================] - 15s 8ms/step - loss: 0.0858 - accuracy: 0.9741\n",
            "Epoch 3/3\n",
            "1875/1875 [==============================] - 13s 7ms/step - loss: 0.0588 - accuracy: 0.9811\n",
            "Subclass Model] loss:  0.08667, acc: 0.97220\n"
          ]
        }
      ]
    },
    {
      "cell_type": "markdown",
      "source": [
        "7-3. 서브클래싱 모델 파라미터를 활용한 생성\n"
      ],
      "metadata": {
        "id": "gdxxTJuuSE_p"
      }
    },
    {
      "cell_type": "code",
      "source": [
        "class MyModel(tf.keras.Model):\n",
        "  def __init__(self, units, num_classes):\n",
        "    super(MyModel, self).__init__()\n",
        "    #초기값 설정\n",
        "    self.flatten = tf.keras.layers.Flatten()\n",
        "    self.dense1 = tf.keras.layers.Dense(units, activation='relu')\n",
        "    self.dense2 = tf.keras.layers.Dense(units/4, activation='relu')\n",
        "    self.dense3 = tf.keras.layers.Dense(num_classes, activation='softmax')\n",
        "\n",
        "  # class overiding\n",
        "  # 훈련용 함수 정의\n",
        "  # x 는 input\n",
        "  def call(self, x):\n",
        "    x = self.flatten(x)\n",
        "    x = self.dense1(x)\n",
        "    x = self.dense2(x)\n",
        "    x = self.dense3(x)\n",
        "    return x"
      ],
      "metadata": {
        "id": "oxKlqr2gSIQp"
      },
      "execution_count": 40,
      "outputs": []
    },
    {
      "cell_type": "code",
      "source": [
        "# 모델 생성\n",
        "mymodel = MyModel(256,10)\n",
        "\n",
        "# 모델 input 정의\n",
        "mymodel(tf.keras.layers.Input(shape=(28,28)))\n",
        "\n",
        "# 모델 요약\n",
        "mymodel.summary()"
      ],
      "metadata": {
        "colab": {
          "base_uri": "https://localhost:8080/"
        },
        "id": "rGKyY8WMSX4b",
        "outputId": "195cee1f-5e09-4bb4-9bc5-5f5342eeaf95"
      },
      "execution_count": 41,
      "outputs": [
        {
          "output_type": "stream",
          "name": "stdout",
          "text": [
            "Model: \"my_model_1\"\n",
            "_________________________________________________________________\n",
            " Layer (type)                Output Shape              Param #   \n",
            "=================================================================\n",
            " flatten_5 (Flatten)         multiple                  0         \n",
            "                                                                 \n",
            " dense_22 (Dense)            multiple                  200960    \n",
            "                                                                 \n",
            " dense_23 (Dense)            multiple                  16448     \n",
            "                                                                 \n",
            " dense_24 (Dense)            multiple                  650       \n",
            "                                                                 \n",
            "=================================================================\n",
            "Total params: 218058 (851.79 KB)\n",
            "Trainable params: 218058 (851.79 KB)\n",
            "Non-trainable params: 0 (0.00 Byte)\n",
            "_________________________________________________________________\n"
          ]
        }
      ]
    },
    {
      "cell_type": "code",
      "source": [
        "# 컴파일\n",
        "mymodel.compile(optimizer='adam', loss='sparse_categorical_crossentropy', metrics=['accuracy'])\n",
        "\n",
        "# 훈련\n",
        "mymodel.fit(x_train, y_train, epochs=3)\n",
        "\n",
        "# 검증\n",
        "loss, acc = mymodel.evaluate(x_test, y_test, verbose=0)\n",
        "print(f'Subclass Model w.parameters] loss: {loss: .5f}, acc: {acc:.5f}')"
      ],
      "metadata": {
        "colab": {
          "base_uri": "https://localhost:8080/"
        },
        "id": "jmimRCbuSha_",
        "outputId": "9111d61a-dcac-45fb-c1a9-e668ef1abb6c"
      },
      "execution_count": 42,
      "outputs": [
        {
          "output_type": "stream",
          "name": "stdout",
          "text": [
            "Epoch 1/3\n",
            "1875/1875 [==============================] - 14s 7ms/step - loss: 0.2128 - accuracy: 0.9357\n",
            "Epoch 2/3\n",
            "1875/1875 [==============================] - 10s 5ms/step - loss: 0.0870 - accuracy: 0.9736\n",
            "Epoch 3/3\n",
            "1875/1875 [==============================] - 10s 5ms/step - loss: 0.0615 - accuracy: 0.9801\n",
            "Subclass Model] loss:  0.07436, acc: 0.97720\n"
          ]
        }
      ]
    }
  ]
}