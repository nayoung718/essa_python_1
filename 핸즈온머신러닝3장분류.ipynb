{
  "nbformat": 4,
  "nbformat_minor": 0,
  "metadata": {
    "colab": {
      "provenance": [],
      "authorship_tag": "ABX9TyOGIQ6LuCr+ct7c6mjAtdrS",
      "include_colab_link": true
    },
    "kernelspec": {
      "name": "python3",
      "display_name": "Python 3"
    },
    "language_info": {
      "name": "python"
    }
  },
  "cells": [
    {
      "cell_type": "markdown",
      "metadata": {
        "id": "view-in-github",
        "colab_type": "text"
      },
      "source": [
        "<a href=\"https://colab.research.google.com/github/nayoung718/essa_python_1/blob/main/%ED%95%B8%EC%A6%88%EC%98%A8%EB%A8%B8%EC%8B%A0%EB%9F%AC%EB%8B%9D3%EC%9E%A5%EB%B6%84%EB%A5%98.ipynb\" target=\"_parent\"><img src=\"https://colab.research.google.com/assets/colab-badge.svg\" alt=\"Open In Colab\"/></a>"
      ]
    },
    {
      "cell_type": "markdown",
      "source": [
        "#CHAP3 분류\n",
        "\n",
        "##3.1 MNIST"
      ],
      "metadata": {
        "id": "gfRGnaAdKKMk"
      }
    },
    {
      "cell_type": "code",
      "execution_count": 15,
      "metadata": {
        "colab": {
          "base_uri": "https://localhost:8080/"
        },
        "id": "J0OcJKkcIjXl",
        "outputId": "18bb3b33-3314-46e4-8df8-d24ca7533583"
      },
      "outputs": [
        {
          "output_type": "stream",
          "name": "stderr",
          "text": [
            "/usr/local/lib/python3.10/dist-packages/sklearn/datasets/_openml.py:968: FutureWarning: The default value of `parser` will change from `'liac-arff'` to `'auto'` in 1.4. You can set `parser='auto'` to silence this warning. Therefore, an `ImportError` will be raised from 1.4 if the dataset is dense and pandas is not installed. Note that the pandas parser may return different data types. See the Notes Section in fetch_openml's API doc for details.\n",
            "  warn(\n"
          ]
        },
        {
          "output_type": "execute_result",
          "data": {
            "text/plain": [
              "dict_keys(['data', 'target', 'frame', 'categories', 'feature_names', 'target_names', 'DESCR', 'details', 'url'])"
            ]
          },
          "metadata": {},
          "execution_count": 15
        }
      ],
      "source": [
        "from sklearn.datasets import fetch_openml\n",
        "mnist=fetch_openml('mnist_784',version=1, as_frame=False)\n",
        "mnist.keys()"
      ]
    },
    {
      "cell_type": "markdown",
      "source": [
        "-딕셔너리 구조: DESCR(데이터셋 설명) + data(샘플, 특성이 행렬) + target(레이블 배열)"
      ],
      "metadata": {
        "id": "Kn_ZkHvxKpjr"
      }
    },
    {
      "cell_type": "code",
      "source": [
        "X, y=mnist['data'], mnist['target']\n",
        "print(X.shape)\n",
        "print(y.shape)"
      ],
      "metadata": {
        "colab": {
          "base_uri": "https://localhost:8080/"
        },
        "id": "LT7TwxkTKJyF",
        "outputId": "5ebad44b-c048-4c9f-fb16-c51693724654"
      },
      "execution_count": 16,
      "outputs": [
        {
          "output_type": "stream",
          "name": "stdout",
          "text": [
            "(70000, 784)\n",
            "(70000,)\n"
          ]
        }
      ]
    },
    {
      "cell_type": "code",
      "source": [
        "import matplotlib as mpl\n",
        "import matplotlib.pyplot as plt\n",
        "\n",
        "some_digit = X[0]\n",
        "some_digit_image = some_digit.reshape(28,28)\n",
        "\n",
        "plt.imshow(some_digit_image, cmap='binary')\n",
        "plt.axis(\"off\")\n",
        "plt.show"
      ],
      "metadata": {
        "colab": {
          "base_uri": "https://localhost:8080/",
          "height": 576
        },
        "id": "3sDX7XpCKJwN",
        "outputId": "6479b8ce-3a07-4ef5-9fef-611c35ecd9cd"
      },
      "execution_count": 17,
      "outputs": [
        {
          "output_type": "execute_result",
          "data": {
            "text/plain": [
              "<function matplotlib.pyplot.show(close=None, block=None)>"
            ],
            "text/html": [
              "<div style=\"max-width:800px; border: 1px solid var(--colab-border-color);\"><style>\n",
              "      pre.function-repr-contents {\n",
              "        overflow-x: auto;\n",
              "        padding: 8px 12px;\n",
              "        max-height: 500px;\n",
              "      }\n",
              "\n",
              "      pre.function-repr-contents.function-repr-contents-collapsed {\n",
              "        cursor: pointer;\n",
              "        max-height: 100px;\n",
              "      }\n",
              "    </style>\n",
              "    <pre style=\"white-space: initial; background:\n",
              "         var(--colab-secondary-surface-color); padding: 8px 12px;\n",
              "         border-bottom: 1px solid var(--colab-border-color);\"><b>matplotlib.pyplot.show</b><br/>def show(*args, **kwargs)</pre><pre class=\"function-repr-contents function-repr-contents-collapsed\" style=\"\"><a class=\"filepath\" style=\"display:none\" href=\"#\">/usr/local/lib/python3.10/dist-packages/matplotlib/pyplot.py</a>Display all open figures.\n",
              "\n",
              "Parameters\n",
              "----------\n",
              "block : bool, optional\n",
              "    Whether to wait for all figures to be closed before returning.\n",
              "\n",
              "    If `True` block and run the GUI main loop until all figure windows\n",
              "    are closed.\n",
              "\n",
              "    If `False` ensure that all figure windows are displayed and return\n",
              "    immediately.  In this case, you are responsible for ensuring\n",
              "    that the event loop is running to have responsive figures.\n",
              "\n",
              "    Defaults to True in non-interactive mode and to False in interactive\n",
              "    mode (see `.pyplot.isinteractive`).\n",
              "\n",
              "See Also\n",
              "--------\n",
              "ion : Enable interactive mode, which shows / updates the figure after\n",
              "      every plotting command, so that calling ``show()`` is not necessary.\n",
              "ioff : Disable interactive mode.\n",
              "savefig : Save the figure to an image file instead of showing it on screen.\n",
              "\n",
              "Notes\n",
              "-----\n",
              "**Saving figures to file and showing a window at the same time**\n",
              "\n",
              "If you want an image file as well as a user interface window, use\n",
              "`.pyplot.savefig` before `.pyplot.show`. At the end of (a blocking)\n",
              "``show()`` the figure is closed and thus unregistered from pyplot. Calling\n",
              "`.pyplot.savefig` afterwards would save a new and thus empty figure. This\n",
              "limitation of command order does not apply if the show is non-blocking or\n",
              "if you keep a reference to the figure and use `.Figure.savefig`.\n",
              "\n",
              "**Auto-show in jupyter notebooks**\n",
              "\n",
              "The jupyter backends (activated via ``%matplotlib inline``,\n",
              "``%matplotlib notebook``, or ``%matplotlib widget``), call ``show()`` at\n",
              "the end of every cell by default. Thus, you usually don&#x27;t have to call it\n",
              "explicitly there.</pre>\n",
              "      <script>\n",
              "      if (google.colab.kernel.accessAllowed && google.colab.files && google.colab.files.view) {\n",
              "        for (const element of document.querySelectorAll('.filepath')) {\n",
              "          element.style.display = 'block'\n",
              "          element.onclick = (event) => {\n",
              "            event.preventDefault();\n",
              "            event.stopPropagation();\n",
              "            google.colab.files.view(element.textContent, 401);\n",
              "          };\n",
              "        }\n",
              "      }\n",
              "      for (const element of document.querySelectorAll('.function-repr-contents')) {\n",
              "        element.onclick = (event) => {\n",
              "          event.preventDefault();\n",
              "          event.stopPropagation();\n",
              "          element.classList.toggle('function-repr-contents-collapsed');\n",
              "        };\n",
              "      }\n",
              "      </script>\n",
              "      </div>"
            ]
          },
          "metadata": {},
          "execution_count": 17
        },
        {
          "output_type": "display_data",
          "data": {
            "text/plain": [
              "<Figure size 640x480 with 1 Axes>"
            ],
            "image/png": "[encoded data removed]"
          },
          "metadata": {}
        }
      ]
    },
    {
      "cell_type": "code",
      "source": [
        "import numpy as np\n",
        "\n",
        "print(y[0])\n",
        "y=y.astype(np.uint8)"
      ],
      "metadata": {
        "colab": {
          "base_uri": "https://localhost:8080/"
        },
        "id": "8-dx6waGKJt2",
        "outputId": "a5d5acb4-a0f3-416e-e42d-519503b7d61a"
      },
      "execution_count": 20,
      "outputs": [
        {
          "output_type": "stream",
          "name": "stdout",
          "text": [
            "5\n"
          ]
        }
      ]
    },
    {
      "cell_type": "code",
      "source": [
        "#테스트 세트 만들고 따로 떼어놓기\n",
        "X_train, X_test, y_train, y_test=X[:60000],X[60000:],y[:60000],y[60000:]"
      ],
      "metadata": {
        "id": "aIDxBKW_KJrh"
      },
      "execution_count": 21,
      "outputs": []
    },
    {
      "cell_type": "markdown",
      "source": [
        "##3.2 이진 분류기 훈련\n",
        "\n",
        "5-감지기로 5와 5아님 두개의 클래스를 구분하는 이진 분류기"
      ],
      "metadata": {
        "id": "AyBxG5FjNwRF"
      }
    },
    {
      "cell_type": "code",
      "source": [
        "y_train_5=(y_train==5) #5는 True고, 다른 숫자는 모두 false\n",
        "y_test_5=(y_test==5)"
      ],
      "metadata": {
        "id": "VXBcz5qkKJpO"
      },
      "execution_count": 22,
      "outputs": []
    },
    {
      "cell_type": "markdown",
      "source": [
        "분류 모델 선택해서 훈련시키기\n",
        "\n",
        "\n",
        "-> 사이킷런의 SGDClassifier 클래스 이용해 확률적 경사 하강법 분류기로 시작(큰 데이터셋 효율적 처리)"
      ],
      "metadata": {
        "id": "9pZh_SYVOdVZ"
      }
    },
    {
      "cell_type": "code",
      "source": [
        "from sklearn.linear_model import SGDClassifier\n",
        "\n",
        "sgd_clf=SGDClassifier(random_state=42)\n",
        "sgd_clf.fit(X_train, y_train_5)"
      ],
      "metadata": {
        "colab": {
          "base_uri": "https://localhost:8080/",
          "height": 75
        },
        "id": "B14uaoSVKJmP",
        "outputId": "4c92c201-e813-44bf-a7dd-07bd45ab4903"
      },
      "execution_count": 23,
      "outputs": [
        {
          "output_type": "execute_result",
          "data": {
            "text/plain": [
              "SGDClassifier(random_state=42)"
            ],
            "text/html": [
              "<style>#sk-container-id-1 {color: black;background-color: white;}#sk-container-id-1 pre{padding: 0;}#sk-container-id-1 div.sk-toggleable {background-color: white;}#sk-container-id-1 label.sk-toggleable__label {cursor: pointer;display: block;width: 100%;margin-bottom: 0;padding: 0.3em;box-sizing: border-box;text-align: center;}#sk-container-id-1 label.sk-toggleable__label-arrow:before {content: \"▸\";float: left;margin-right: 0.25em;color: #696969;}#sk-container-id-1 label.sk-toggleable__label-arrow:hover:before {color: black;}#sk-container-id-1 div.sk-estimator:hover label.sk-toggleable__label-arrow:before {color: black;}#sk-container-id-1 div.sk-toggleable__content {max-height: 0;max-width: 0;overflow: hidden;text-align: left;background-color: #f0f8ff;}#sk-container-id-1 div.sk-toggleable__content pre {margin: 0.2em;color: black;border-radius: 0.25em;background-color: #f0f8ff;}#sk-container-id-1 input.sk-toggleable__control:checked~div.sk-toggleable__content {max-height: 200px;max-width: 100%;overflow: auto;}#sk-container-id-1 input.sk-toggleable__control:checked~label.sk-toggleable__label-arrow:before {content: \"▾\";}#sk-container-id-1 div.sk-estimator input.sk-toggleable__control:checked~label.sk-toggleable__label {background-color: #d4ebff;}#sk-container-id-1 div.sk-label input.sk-toggleable__control:checked~label.sk-toggleable__label {background-color: #d4ebff;}#sk-container-id-1 input.sk-hidden--visually {border: 0;clip: rect(1px 1px 1px 1px);clip: rect(1px, 1px, 1px, 1px);height: 1px;margin: -1px;overflow: hidden;padding: 0;position: absolute;width: 1px;}#sk-container-id-1 div.sk-estimator {font-family: monospace;background-color: #f0f8ff;border: 1px dotted black;border-radius: 0.25em;box-sizing: border-box;margin-bottom: 0.5em;}#sk-container-id-1 div.sk-estimator:hover {background-color: #d4ebff;}#sk-container-id-1 div.sk-parallel-item::after {content: \"\";width: 100%;border-bottom: 1px solid gray;flex-grow: 1;}#sk-container-id-1 div.sk-label:hover label.sk-toggleable__label {background-color: #d4ebff;}#sk-container-id-1 div.sk-serial::before {content: \"\";position: absolute;border-left: 1px solid gray;box-sizing: border-box;top: 0;bottom: 0;left: 50%;z-index: 0;}#sk-container-id-1 div.sk-serial {display: flex;flex-direction: column;align-items: center;background-color: white;padding-right: 0.2em;padding-left: 0.2em;position: relative;}#sk-container-id-1 div.sk-item {position: relative;z-index: 1;}#sk-container-id-1 div.sk-parallel {display: flex;align-items: stretch;justify-content: center;background-color: white;position: relative;}#sk-container-id-1 div.sk-item::before, #sk-container-id-1 div.sk-parallel-item::before {content: \"\";position: absolute;border-left: 1px solid gray;box-sizing: border-box;top: 0;bottom: 0;left: 50%;z-index: -1;}#sk-container-id-1 div.sk-parallel-item {display: flex;flex-direction: column;z-index: 1;position: relative;background-color: white;}#sk-container-id-1 div.sk-parallel-item:first-child::after {align-self: flex-end;width: 50%;}#sk-container-id-1 div.sk-parallel-item:last-child::after {align-self: flex-start;width: 50%;}#sk-container-id-1 div.sk-parallel-item:only-child::after {width: 0;}#sk-container-id-1 div.sk-dashed-wrapped {border: 1px dashed gray;margin: 0 0.4em 0.5em 0.4em;box-sizing: border-box;padding-bottom: 0.4em;background-color: white;}#sk-container-id-1 div.sk-label label {font-family: monospace;font-weight: bold;display: inline-block;line-height: 1.2em;}#sk-container-id-1 div.sk-label-container {text-align: center;}#sk-container-id-1 div.sk-container {/* jupyter's `normalize.less` sets `[hidden] { display: none; }` but bootstrap.min.css set `[hidden] { display: none !important; }` so we also need the `!important` here to be able to override the default hidden behavior on the sphinx rendered scikit-learn.org. See: https://github.com/scikit-learn/scikit-learn/issues/21755 */display: inline-block !important;position: relative;}#sk-container-id-1 div.sk-text-repr-fallback {display: none;}</style><div id=\"sk-container-id-1\" class=\"sk-top-container\"><div class=\"sk-text-repr-fallback\"><pre>SGDClassifier(random_state=42)</pre><b>In a Jupyter environment, please rerun this cell to show the HTML representation or trust the notebook. <br />On GitHub, the HTML representation is unable to render, please try loading this page with nbviewer.org.</b></div><div class=\"sk-container\" hidden><div class=\"sk-item\"><div class=\"sk-estimator sk-toggleable\"><input class=\"sk-toggleable__control sk-hidden--visually\" id=\"sk-estimator-id-1\" type=\"checkbox\" checked><label for=\"sk-estimator-id-1\" class=\"sk-toggleable__label sk-toggleable__label-arrow\">SGDClassifier</label><div class=\"sk-toggleable__content\"><pre>SGDClassifier(random_state=42)</pre></div></div></div></div></div>"
            ]
          },
          "metadata": {},
          "execution_count": 23
        }
      ]
    },
    {
      "cell_type": "markdown",
      "source": [
        "-SGDClassifier는 훈련시 무작위성 사용하므로 결과 재현하고 싶으면 random_state 매개변수 지정 필요"
      ],
      "metadata": {
        "id": "GXGxK1UcOxVN"
      }
    },
    {
      "cell_type": "code",
      "source": [
        "sgd_clf.predict([some_digit])"
      ],
      "metadata": {
        "colab": {
          "base_uri": "https://localhost:8080/"
        },
        "id": "ym7GLiPIKJjw",
        "outputId": "c5509fed-c3de-4edc-fa28-d99c3be402e9"
      },
      "execution_count": 24,
      "outputs": [
        {
          "output_type": "execute_result",
          "data": {
            "text/plain": [
              "array([ True])"
            ]
          },
          "metadata": {},
          "execution_count": 24
        }
      ]
    },
    {
      "cell_type": "markdown",
      "source": [
        "##3.3 성능 측정\n",
        "\n",
        "###3.3.1 교차 검증을 사용한 정확도 측정\n",
        "\n",
        "cross_val_score() 함수와 거의 같은 작업 수행후 동일한 결과 출력"
      ],
      "metadata": {
        "id": "VdZ7oHx2O2zA"
      }
    },
    {
      "cell_type": "code",
      "source": [
        "from sklearn.model_selection import StratifiedKFold\n",
        "from sklearn.base import clone\n",
        "\n",
        "skfolds=StratifiedKFold(n_splits=3)\n",
        "\n",
        "for train_index, test_index in skfolds.split(X_train, y_train_5):\n",
        "  clone_clf = clone(sgd_clf)\n",
        "  X_train_folds=X_train[train_index]\n",
        "  y_train_folds=y_train_5[train_index]\n",
        "  X_test_fold=X_train[test_index]\n",
        "  y_test_fold=y_train_5[test_index]\n",
        "\n",
        "  clone_clf.fit(X_train_folds, y_train_folds)\n",
        "  y_pred=clone_clf.predict(X_test_fold)\n",
        "  n_correct=sum(y_pred==y_test_fold)\n",
        "  print(n_correct/len(y_pred)) #0.9502, 0.96565, 0.96495 출력"
      ],
      "metadata": {
        "colab": {
          "base_uri": "https://localhost:8080/"
        },
        "id": "621tV5HEKJgS",
        "outputId": "6359038a-97de-4656-e72d-e584b6d98053"
      },
      "execution_count": 29,
      "outputs": [
        {
          "output_type": "stream",
          "name": "stdout",
          "text": [
            "0.95035\n",
            "0.96035\n",
            "0.9604\n"
          ]
        }
      ]
    },
    {
      "cell_type": "markdown",
      "source": [
        "StratifiedKFold는 클래스별 비율 유지되도록 폴드 만들기 위해 계층적 샘플링 수행\n",
        "\n",
        "매 반복서 분류기 객체 복제해 훈련 폴드로 훈련시키고 테스트 폴드로 예측 만들어\n",
        "\n",
        "-> cross_val_score() 함수로 폴드 3개인 k겹 교차 검증 사용해 SGDClassifier 모델 평가"
      ],
      "metadata": {
        "id": "4y511tTtP64N"
      }
    },
    {
      "cell_type": "code",
      "source": [
        "from sklearn.model_selection import cross_val_score\n",
        "cross_val_score(sgd_clf, X_train,y_train_5, cv=3, scoring=\"accuracy\")"
      ],
      "metadata": {
        "colab": {
          "base_uri": "https://localhost:8080/"
        },
        "id": "BTqAfXzBQLOP",
        "outputId": "e2c86c15-73cd-499a-ece6-642142774876"
      },
      "execution_count": 31,
      "outputs": [
        {
          "output_type": "execute_result",
          "data": {
            "text/plain": [
              "array([0.95035, 0.96035, 0.9604 ])"
            ]
          },
          "metadata": {},
          "execution_count": 31
        }
      ]
    },
    {
      "cell_type": "code",
      "source": [
        "from sklearn.base import BaseEstimator\n",
        "\n",
        "class Never5Classifier(BaseEstimator):\n",
        "  def fit(self, X, y=None):\n",
        "    return self\n",
        "  def predict(self, X):\n",
        "    return np.zeros((len(X),1),dtype=bool)"
      ],
      "metadata": {
        "id": "KQ_tQBJ_QLzV"
      },
      "execution_count": 32,
      "outputs": []
    },
    {
      "cell_type": "code",
      "source": [
        "never_5_clf=Never5Classifier()\n",
        "cross_val_score(never_5_clf, X_train, y_train_5, cv=3, scoring=\"accuracy\")"
      ],
      "metadata": {
        "colab": {
          "base_uri": "https://localhost:8080/"
        },
        "id": "3fcPpF53QLwj",
        "outputId": "ced1e7a5-ebe3-4e8f-c5bb-3f615c4f3392"
      },
      "execution_count": 33,
      "outputs": [
        {
          "output_type": "execute_result",
          "data": {
            "text/plain": [
              "array([0.91125, 0.90855, 0.90915])"
            ]
          },
          "metadata": {},
          "execution_count": 33
        }
      ]
    },
    {
      "cell_type": "markdown",
      "source": [
        "-> 정확도를 분류기의 성능 측정 지표로 선호하지 않는 이유를 볼 수 있었음\n",
        "\n",
        "불균형 데이터셋 다룰때 특히 그럼\n",
        "\n",
        "###3.3.2 오차행렬\n",
        "\n",
        "오차행렬: 분류기 성능 평가에 좋음"
      ],
      "metadata": {
        "id": "ymqq_ndyQq9a"
      }
    },
    {
      "cell_type": "code",
      "source": [
        "from sklearn.model_selection import cross_val_predict\n",
        "\n",
        "y_train_pred=cross_val_predict(sgd_clf, X_train, y_train_5, cv=3)"
      ],
      "metadata": {
        "id": "IBoL2W8nQLuF"
      },
      "execution_count": 34,
      "outputs": []
    },
    {
      "cell_type": "markdown",
      "source": [
        "cross_val_score() 처럼 cross_val_predict()는 k겹 교차 검증 수행하지만 평가 점수 반환안하고 각 테스트 폴드서 얻은 예측 반환\n",
        "\n",
        "confusion_matrix()로 오차행렬 만들어"
      ],
      "metadata": {
        "id": "Cc4hBkLDRBpl"
      }
    },
    {
      "cell_type": "code",
      "source": [
        "from sklearn.metrics import confusion_matrix\n",
        "confusion_matrix(y_train_5, y_train_pred)"
      ],
      "metadata": {
        "colab": {
          "base_uri": "https://localhost:8080/"
        },
        "id": "rsil4L-gQLre",
        "outputId": "fb00d993-dc2d-4bbc-b1b7-1a95c3f944db"
      },
      "execution_count": 35,
      "outputs": [
        {
          "output_type": "execute_result",
          "data": {
            "text/plain": [
              "array([[53892,   687],\n",
              "       [ 1891,  3530]])"
            ]
          },
          "metadata": {},
          "execution_count": 35
        }
      ]
    },
    {
      "cell_type": "markdown",
      "source": [
        "오차행렬의 행은 실제클래스, 열은 예측 클래스\n",
        "-> 완벽한 분류기: 진짜 양성+진짜 음성-> 오차행렬 주대각선만 0 아닌 값\n",
        "\n",
        "-정밀도: 양성 예측의 정확도 = TP/(TP+FP) : TP: 찐 양성, FP: 거짓 양성\n",
        "\n",
        "-재현율: 민감도, 진짜 양성 비율 = TP/(TP+FN) : FN: 거짓 음성\n",
        "\n",
        "###3.3.3 정밀도와 재현율"
      ],
      "metadata": {
        "id": "J2-CMUdhRRmW"
      }
    },
    {
      "cell_type": "code",
      "source": [
        "from sklearn.metrics import precision_score, recall_score\n",
        "precision_score(y_train_5, y_train_pred)"
      ],
      "metadata": {
        "colab": {
          "base_uri": "https://localhost:8080/"
        },
        "id": "rrLI8J87QLop",
        "outputId": "fec95e1c-c61d-4e3e-8be8-d7ad2bd8e182"
      },
      "execution_count": 36,
      "outputs": [
        {
          "output_type": "execute_result",
          "data": {
            "text/plain": [
              "0.8370879772350012"
            ]
          },
          "metadata": {},
          "execution_count": 36
        }
      ]
    },
    {
      "cell_type": "code",
      "source": [
        "recall_score(y_train_5, y_train_pred)"
      ],
      "metadata": {
        "colab": {
          "base_uri": "https://localhost:8080/"
        },
        "id": "IDhuReC8ScyA",
        "outputId": "211a9742-d6d6-4089-d14e-1525ffe9c9f9"
      },
      "execution_count": 37,
      "outputs": [
        {
          "output_type": "execute_result",
          "data": {
            "text/plain": [
              "0.6511713705958311"
            ]
          },
          "metadata": {},
          "execution_count": 37
        }
      ]
    },
    {
      "cell_type": "markdown",
      "source": [
        "F1점수: 정밀도와 재현율의 조화 평균 = 2/(1/정밀도+1/재현율) : f1_score()"
      ],
      "metadata": {
        "id": "E6Af_pkiShvu"
      }
    },
    {
      "cell_type": "code",
      "source": [
        "from sklearn.metrics import f1_score\n",
        "f1_score(y_train_5, y_train_pred)"
      ],
      "metadata": {
        "colab": {
          "base_uri": "https://localhost:8080/"
        },
        "id": "vCXvqdViScvS",
        "outputId": "c84674b4-f505-4e6d-8975-3c58baa93fe2"
      },
      "execution_count": 38,
      "outputs": [
        {
          "output_type": "execute_result",
          "data": {
            "text/plain": [
              "0.7325171197343846"
            ]
          },
          "metadata": {},
          "execution_count": 38
        }
      ]
    },
    {
      "cell_type": "markdown",
      "source": [
        "-나쁜 동영상 몇개 노출되는 것보다 좋은 동영상 제외되더라도 나쁜 동영상 안나오도록-> 낮은 재현율 높은 정밀도\n",
        "\n",
        "-감시카메라로 좀도둑 잡아내는 분류기 훈련시 재현율이 높으면 정확도가 낮아도 될 것\n",
        "\n",
        "-정밀도/재현율 트레이드오프 : 둘 모두를 얻을수 없음 하나 올리면 하나 줄어\n",
        "\n",
        "###3.3.4 정밀도/재현율 트레이드오프\n",
        "\n",
        "SGDClassifier 결정함수 사용해 각 샘플 점수 계산\n",
        "\n",
        "결정 임계값: 가운데 화살표 <- 음성예측 (재현율 높, 정밀도 낮) | 여러가지 임계값 | 양성예측-> (정밀도 높, 재현율 낮)"
      ],
      "metadata": {
        "id": "wr5_Q7wfS6C5"
      }
    },
    {
      "cell_type": "code",
      "source": [
        "#원하는 임계값 정해 예측 만들기\n",
        "y_scores=sgd_clf.decision_function([some_digit])\n",
        "y_scores"
      ],
      "metadata": {
        "colab": {
          "base_uri": "https://localhost:8080/"
        },
        "id": "Kw12CfbgScrh",
        "outputId": "fdcea1c0-c74c-43d0-b1d3-cd7962fa5008"
      },
      "execution_count": 39,
      "outputs": [
        {
          "output_type": "execute_result",
          "data": {
            "text/plain": [
              "array([2164.22030239])"
            ]
          },
          "metadata": {},
          "execution_count": 39
        }
      ]
    },
    {
      "cell_type": "code",
      "source": [
        "threshold=0\n",
        "y_some_digit_pred = (y_scores>threshold) #true"
      ],
      "metadata": {
        "id": "ZVMnPdHMScpQ"
      },
      "execution_count": 41,
      "outputs": []
    },
    {
      "cell_type": "code",
      "source": [
        "threshold=8000\n",
        "y_some_digit_pred=(y_scores>threshold)\n",
        "y_some_digit_pred"
      ],
      "metadata": {
        "colab": {
          "base_uri": "https://localhost:8080/"
        },
        "id": "l_KBrDcAScmx",
        "outputId": "6bea897a-81d2-4691-9051-d57e97b777f5"
      },
      "execution_count": 42,
      "outputs": [
        {
          "output_type": "execute_result",
          "data": {
            "text/plain": [
              "array([False])"
            ]
          },
          "metadata": {},
          "execution_count": 42
        }
      ]
    },
    {
      "cell_type": "markdown",
      "source": [
        "임계값 높이면 재현율 줄어드는 것 확인-> 적절한 임계값 정하기(cross_val_predict() 사용해 훈련 셋에 있는 모든 샘플 점수 구하고 결정점수 반환 받고 precision_recall_curve()로 모든 임계값에 대한 정밀도, 재현율 계산 가능)"
      ],
      "metadata": {
        "id": "ytFvdlaKU5vj"
      }
    },
    {
      "cell_type": "code",
      "source": [
        "y_scores=cross_val_predict(sgd_clf, X_train, y_train_5, cv=3, method=\"decision_function\")"
      ],
      "metadata": {
        "id": "chusy4SuScke"
      },
      "execution_count": 43,
      "outputs": []
    },
    {
      "cell_type": "code",
      "source": [
        "from sklearn.metrics import precision_recall_curve\n",
        "\n",
        "precisions, recalls, thresholds=precision_recall_curve(y_train_5, y_scores)"
      ],
      "metadata": {
        "id": "kviZa79BVQ_g"
      },
      "execution_count": 44,
      "outputs": []
    },
    {
      "cell_type": "code",
      "source": [
        "#맷플롯립 이용해 임계값의 함수로 정밀도 재현율 그리기\n",
        "def plot_precision_recall_vs_threshold(precisions, recalls, thresholds):\n",
        "  plt.plot(thresholds, precisions[:-1],\"b--\",label=\"정밀도\")\n",
        "  plt.plot(thresholds, recalls[:-1],\"g-\",label=\"재현율\")\n",
        "\n",
        "plot_precision_recall_vs_threshold(precisions, recalls, thresholds)\n",
        "plt.show()"
      ],
      "metadata": {
        "colab": {
          "base_uri": "https://localhost:8080/",
          "height": 430
        },
        "id": "XyByoGNtVQ8w",
        "outputId": "deb13df9-1312-4900-81d5-78f587d0ccf3"
      },
      "execution_count": 46,
      "outputs": [
        {
          "output_type": "display_data",
          "data": {
            "text/plain": [
              "<Figure size 640x480 with 1 Axes>"
            ],
            "image/png": "[encoded data removed]"
          },
          "metadata": {}
        }
      ]
    },
    {
      "cell_type": "code",
      "source": [
        "#재현율에 대한 정밀도 곡선 그리기\n",
        "\n",
        "#정밀도 90% 목표 임계값 약 8000\n",
        "\n",
        "threshold_90_precision = thresholds[np.argmax(precisions >= 0.9)]\n",
        "y_train_pred_90 = (y_scores >= threshold_90_precision)\n",
        "\n",
        "#예측에 대한 정밀도 재현율 확인\n",
        "print(precision_score(y_train_5, y_train_pred_90))\n",
        "print(recall_score(y_train_5, y_train_pred_90))"
      ],
      "metadata": {
        "colab": {
          "base_uri": "https://localhost:8080/"
        },
        "id": "B-IuzJUdVQ5z",
        "outputId": "00c78e63-e2fa-4b57-ca09-9b3c0aac80d3"
      },
      "execution_count": 47,
      "outputs": [
        {
          "output_type": "stream",
          "name": "stdout",
          "text": [
            "0.9000345901072293\n",
            "0.4799852425751706\n"
          ]
        }
      ]
    },
    {
      "cell_type": "markdown",
      "source": [
        "###3.3.5 ROC 곡선\n",
        "\n",
        "수신기 조작 특성 곡선: 거짓 양성 비율에 대한 진짜 양성 비율의 곡선 -> 1-특이도 그래프\n",
        "\n",
        "roc_curve()함수로 여러 임계값에서 TPR(재현율)과 FPR(거짓양성비율)을 계산해야함"
      ],
      "metadata": {
        "id": "HOmkEXJ1WhZW"
      }
    },
    {
      "cell_type": "code",
      "source": [
        "from sklearn.metrics import roc_curve\n",
        "\n",
        "fpr, tpr, thresholds = roc_curve(y_train_5, y_scores)\n",
        "\n",
        "#맷플롯립 이용해 TPR에 대한 FPR 곡선 그리기\n",
        "\n",
        "def plot_roc_curve(fpr, tpr, label=None):\n",
        "  plt.plot(fpr, tpr, linewidth=2, label=label)\n",
        "  plt.plot([0, 1], [0, 1], 'k--')\n",
        "\n",
        "plot_roc_curve(fpr, tpr)\n",
        "plt.show()"
      ],
      "metadata": {
        "colab": {
          "base_uri": "https://localhost:8080/",
          "height": 430
        },
        "id": "WSUVdoX-VQ23",
        "outputId": "e19253ca-68e1-401d-c7e6-c7c03bc2a4c8"
      },
      "execution_count": 48,
      "outputs": [
        {
          "output_type": "display_data",
          "data": {
            "text/plain": [
              "<Figure size 640x480 with 1 Axes>"
            ],
            "image/png": "[encoded data removed]"
          },
          "metadata": {}
        }
      ]
    },
    {
      "cell_type": "code",
      "source": [
        "#트레이드오프 존재 -> TPR 높을수록 분류기가 만드는 FPR 증가 : 점선이 완전한 랜덤 분류기의 ROC곡선-> 좋을수록 떨어져야\n",
        "#곡선아래 면적 AUC 측정해 분류기 비교 가능: 완벽한 분류기는 ROC의 AUC가 1, 완전 랜덤 분류기는 0.5\n",
        "\n",
        "from sklearn.metrics import roc_auc_score\n",
        "roc_auc_score(y_train_5, y_scores)"
      ],
      "metadata": {
        "colab": {
          "base_uri": "https://localhost:8080/"
        },
        "id": "DPIWNEScW946",
        "outputId": "ca112d0c-e3b5-49f2-9f93-6aab8c2393eb"
      },
      "execution_count": 49,
      "outputs": [
        {
          "output_type": "execute_result",
          "data": {
            "text/plain": [
              "0.9604938554008616"
            ]
          },
          "metadata": {},
          "execution_count": 49
        }
      ]
    },
    {
      "cell_type": "markdown",
      "source": [
        "RandomForestClassifier 훈련시켜 SGDClassifier의 ROC곡선과 ROC AUC점수 비교해보자"
      ],
      "metadata": {
        "id": "VWBR-rezXW6g"
      }
    },
    {
      "cell_type": "code",
      "source": [
        "from sklearn.ensemble import RandomForestClassifier\n",
        "\n",
        "forest_clf=RandomForestClassifier(random_state=42)\n",
        "y_probas_forest=cross_val_predict(forest_clf, X_train, y_train_5, cv=3, method=\"predict_proba\")\n",
        "\n",
        "y_scores_forest=y_probas_forest[:,1] #양성 클래스에 대한 확률을 점수로 사용\n",
        "fpr_forest, tpr_forest, thresholds_forest = roc_curve(y_train_5, y_scores_forest)"
      ],
      "metadata": {
        "id": "gf5P3iKaW915"
      },
      "execution_count": 51,
      "outputs": []
    },
    {
      "cell_type": "code",
      "source": [
        "#ROC 곡선 그리기\n",
        "plt.plot(fpr, tpr, \"b:\", label=\"SGD\")\n",
        "plot_roc_curve(fpr_forest, tpr_forest, \"랜덤포레스트\")\n",
        "plt.legend(loc=\"lower right\")\n",
        "plt.show()"
      ],
      "metadata": {
        "colab": {
          "base_uri": "https://localhost:8080/",
          "height": 671
        },
        "id": "TCOaefbIW9zI",
        "outputId": "59410cae-20ef-4469-a1c4-86d68d8aaa75"
      },
      "execution_count": 52,
      "outputs": [
        {
          "output_type": "stream",
          "name": "stderr",
          "text": [
            "/usr/local/lib/python3.10/dist-packages/IPython/core/pylabtools.py:151: UserWarning: Glyph 47004 (\\N{HANGUL SYLLABLE RAEN}) missing from current font.\n",
            "  fig.canvas.print_figure(bytes_io, **kw)\n",
            "/usr/local/lib/python3.10/dist-packages/IPython/core/pylabtools.py:151: UserWarning: Glyph 45924 (\\N{HANGUL SYLLABLE DEOM}) missing from current font.\n",
            "  fig.canvas.print_figure(bytes_io, **kw)\n",
            "/usr/local/lib/python3.10/dist-packages/IPython/core/pylabtools.py:151: UserWarning: Glyph 54252 (\\N{HANGUL SYLLABLE PO}) missing from current font.\n",
            "  fig.canvas.print_figure(bytes_io, **kw)\n",
            "/usr/local/lib/python3.10/dist-packages/IPython/core/pylabtools.py:151: UserWarning: Glyph 47112 (\\N{HANGUL SYLLABLE RE}) missing from current font.\n",
            "  fig.canvas.print_figure(bytes_io, **kw)\n",
            "/usr/local/lib/python3.10/dist-packages/IPython/core/pylabtools.py:151: UserWarning: Glyph 49828 (\\N{HANGUL SYLLABLE SEU}) missing from current font.\n",
            "  fig.canvas.print_figure(bytes_io, **kw)\n",
            "/usr/local/lib/python3.10/dist-packages/IPython/core/pylabtools.py:151: UserWarning: Glyph 53944 (\\N{HANGUL SYLLABLE TEU}) missing from current font.\n",
            "  fig.canvas.print_figure(bytes_io, **kw)\n"
          ]
        },
        {
          "output_type": "display_data",
          "data": {
            "text/plain": [
              "<Figure size 640x480 with 1 Axes>"
            ],
            "image/png": "[encoded data removed]"
          },
          "metadata": {}
        }
      ]
    },
    {
      "cell_type": "code",
      "source": [
        "#랜덤이 왼쪽 위 모서리에 더 가까워 더 좋아보임, rocauc 점수도 더 높음\n",
        "roc_auc_score(y_train_5, y_scores_forest)"
      ],
      "metadata": {
        "colab": {
          "base_uri": "https://localhost:8080/"
        },
        "id": "HdPRXs_aYJXI",
        "outputId": "f9bcf500-f346-4339-f433-6ee3dcc943d2"
      },
      "execution_count": 53,
      "outputs": [
        {
          "output_type": "execute_result",
          "data": {
            "text/plain": [
              "0.9983436731328145"
            ]
          },
          "metadata": {},
          "execution_count": 53
        }
      ]
    },
    {
      "cell_type": "markdown",
      "source": [
        "##3.4 다중 분류\n",
        "\n",
        "다중분류기: 둘이상의 클래스 구별\n",
        "\n",
        "이미지 분류시 각 분류기의 결정 점수 중 가장 높은 것을 클래스로 선택 : OvR 전략 / 각 숫자 조합마다 이진 분류기 훈련: OvO"
      ],
      "metadata": {
        "id": "bk7cQOIsScKk"
      }
    },
    {
      "cell_type": "code",
      "source": [
        "from sklearn.svm import SVC\n",
        "svm_clf=SVC()\n",
        "svm_clf.fit(X_train, y_train)\n",
        "svm_clf.predict([some_digit])"
      ],
      "metadata": {
        "colab": {
          "base_uri": "https://localhost:8080/"
        },
        "id": "Dvy-sy84QLmp",
        "outputId": "62945999-d1fa-4e7d-b774-a5e617be08e3"
      },
      "execution_count": 54,
      "outputs": [
        {
          "output_type": "execute_result",
          "data": {
            "text/plain": [
              "array([5], dtype=uint8)"
            ]
          },
          "metadata": {},
          "execution_count": 54
        }
      ]
    },
    {
      "cell_type": "code",
      "source": [
        "#decision_funcion() 호출시 샘플당 10개의 점수 반환: 클래스마다 점수 하나씩\n",
        "some_digit_scores=svm_clf.decision_function([some_digit])\n",
        "some_digit_scores"
      ],
      "metadata": {
        "colab": {
          "base_uri": "https://localhost:8080/"
        },
        "id": "dt88_AXwYpp4",
        "outputId": "f277b350-8fb1-4a92-e00a-25c9b5e73cb3"
      },
      "execution_count": 55,
      "outputs": [
        {
          "output_type": "execute_result",
          "data": {
            "text/plain": [
              "array([[ 1.72501977,  2.72809088,  7.2510018 ,  8.3076379 , -0.31087254,\n",
              "         9.3132482 ,  1.70975103,  2.76765202,  6.23049537,  4.84771048]])"
            ]
          },
          "metadata": {},
          "execution_count": 55
        }
      ]
    },
    {
      "cell_type": "code",
      "source": [
        "print(np.argmax(some_digit_scores))\n",
        "print(svm_clf.classes_)\n",
        "print(svm_clf.classes_[5])"
      ],
      "metadata": {
        "colab": {
          "base_uri": "https://localhost:8080/"
        },
        "id": "bjXwf3KJYqQe",
        "outputId": "e1bb2946-9593-46c1-ddd0-1a3079a3b97d"
      },
      "execution_count": 56,
      "outputs": [
        {
          "output_type": "stream",
          "name": "stdout",
          "text": [
            "5\n",
            "[0 1 2 3 4 5 6 7 8 9]\n",
            "5\n"
          ]
        }
      ]
    },
    {
      "cell_type": "code",
      "source": [
        "#OvO나 OvR 사용하려면 OneVsOneClassifier나 OneVsRestClassifier 사용\n",
        "from sklearn.multiclass import OneVsRestClassifier\n",
        "ovr_clf=OneVsRestClassifier(SVC())\n",
        "ovr_clf.fit(X_train, y_train)\n",
        "ovr_clf.predict([some_digit])\n",
        "len(ovr_clf.estimators_)"
      ],
      "metadata": {
        "colab": {
          "base_uri": "https://localhost:8080/"
        },
        "id": "utxGZHn3YqN7",
        "outputId": "bfd7879d-f04b-4eb8-fd67-cea63093f3c9"
      },
      "execution_count": 58,
      "outputs": [
        {
          "output_type": "execute_result",
          "data": {
            "text/plain": [
              "10"
            ]
          },
          "metadata": {},
          "execution_count": 58
        }
      ]
    },
    {
      "cell_type": "code",
      "source": [
        "#SGDClassifier 훈련\n",
        "sgd_clf.fit(X_train, y_train)\n",
        "sgd_clf.predict([some_digit])"
      ],
      "metadata": {
        "colab": {
          "base_uri": "https://localhost:8080/"
        },
        "id": "iQOCyV42YqK2",
        "outputId": "7335628c-03f5-435c-9002-68ec20cd1807"
      },
      "execution_count": 59,
      "outputs": [
        {
          "output_type": "execute_result",
          "data": {
            "text/plain": [
              "array([3], dtype=uint8)"
            ]
          },
          "metadata": {},
          "execution_count": 59
        }
      ]
    },
    {
      "cell_type": "code",
      "source": [
        "#sgd 분류기가 클래스마다 부여한 점수 확인\n",
        "#큰 음수-> 예측결과에 강한 확신, 큰 양수: 의심\n",
        "sgd_clf.decision_function([some_digit])"
      ],
      "metadata": {
        "colab": {
          "base_uri": "https://localhost:8080/"
        },
        "id": "fiJs782NYqIO",
        "outputId": "fb874fc8-ac6e-4959-ff10-eb038f059881"
      },
      "execution_count": 60,
      "outputs": [
        {
          "output_type": "execute_result",
          "data": {
            "text/plain": [
              "array([[-31893.03095419, -34419.69069632,  -9530.63950739,\n",
              "          1823.73154031, -22320.14822878,  -1385.80478895,\n",
              "        -26188.91070951, -16147.51323997,  -4604.35491274,\n",
              "        -12050.767298  ]])"
            ]
          },
          "metadata": {},
          "execution_count": 60
        }
      ]
    },
    {
      "cell_type": "code",
      "source": [
        "#교차검증으로 정확도 평가\n",
        "cross_val_score(sgd_clf, X_train, y_train, cv=3, scoring=\"accuracy\")"
      ],
      "metadata": {
        "id": "xLfIauz9YqFh"
      },
      "execution_count": null,
      "outputs": []
    },
    {
      "cell_type": "code",
      "source": [
        "#입력 스케일 조정해 정확도 높이기\n",
        "from sklearn.preprocessing import StandardScaler\n",
        "scaler=StandardScaler()\n",
        "X_train_scaled=scaler.fit_trainsform(X_train.astype(np.float64))\n",
        "cross_val_score(sgd_clf, X_train_scaled, y_train, cv=3, scoring=\"accuracy\")"
      ],
      "metadata": {
        "id": "lTZYapaSYqDJ"
      },
      "execution_count": null,
      "outputs": []
    },
    {
      "cell_type": "markdown",
      "source": [
        "##3.5 에러 분석\n",
        "\n",
        "그리드서치로 하이퍼파라미터 튜닝, 오차행렬 보기"
      ],
      "metadata": {
        "id": "v57du3e6aPV-"
      }
    },
    {
      "cell_type": "code",
      "source": [
        "y_train_pred=cross_val_predict(sgd_clf, X_train_scaled, y_train, cv=3)\n",
        "conf_mx=confusion_matrix(y_train, y_train_pred)\n",
        "conf_mx"
      ],
      "metadata": {
        "id": "8f-zn53Baq3g"
      },
      "execution_count": null,
      "outputs": []
    },
    {
      "cell_type": "code",
      "source": [
        "#맷플롯립의 matshow()이용해 이미지로 표현\n",
        "plt.matshow(conf_mx, cmap=plt.cm.gray)\n",
        "plt.show()"
      ],
      "metadata": {
        "id": "U5PzvALsaq0G"
      },
      "execution_count": null,
      "outputs": []
    },
    {
      "cell_type": "code",
      "source": [
        "#주대각선 밝으면 잘 분류된거-> 5가 좀 어두우면 이미지가 적거나 잘 분류 못한다는 것\n",
        "\n",
        "row_sums=conf_mx.sum(axis=1, keepdims=True)\n",
        "norm_conf_mx=conf_mx/row_sums\n",
        "\n",
        "#주대각선만 0으로 채워 그래프 그리기\n",
        "np.fill_diagonal(norm_conf_mx, 0)\n",
        "plt.matshow(norm_conf_mx, cmap=plt.cm.gray)\n",
        "plt.show()"
      ],
      "metadata": {
        "id": "7awbSnRSaqxO"
      },
      "execution_count": null,
      "outputs": []
    },
    {
      "cell_type": "markdown",
      "source": [
        "분류기가 만든 에러 볼수 있음, 행은 실제 클래스 열은 예측 클래스임 기억하기\n",
        "\n",
        "-오차 행렬 분석해 분류기의 성능 향상 방안에 대한 통찰 얻을 수 있음-> 8로 잘못 분류되는 것 줄이도록 개선 필요: 8 데이터 보강"
      ],
      "metadata": {
        "id": "ONUCB7h3bihc"
      }
    },
    {
      "cell_type": "code",
      "source": [
        "cl_a, cl_b=3, 5\n",
        "X_aa=X_train[(y_train==cl_a)&(y_train_pred==cl_a)]\n",
        "X_ab=X_train[(y_train==cl_a)&(y_train_pred==cl_b)]\n",
        "X_ba=X_train[(y_train==cl_b)&(y_train_pred==cl_a)]\n",
        "X_bb=X_train[(y_train==cl_b)&(y_train_pred==cl_b)]"
      ],
      "metadata": {
        "id": "E6UtHe9XbyhG"
      },
      "execution_count": null,
      "outputs": []
    },
    {
      "cell_type": "code",
      "source": [
        "plt.figure(figsize=(8,8))\n",
        "plt.subplot(221); plot_digits(X_aa[:25],images_per_row=5)\n",
        "plt.subplot(222); plot_digits(X_ab[:25],images_per_row=5)\n",
        "plt.subplot(223); plot_digits(X_ba[:25],images_per_row=5)\n",
        "plt.subplot(224); plot_digits(X_bb[:25],images_per_row=5)\n",
        "plt.show()"
      ],
      "metadata": {
        "id": "LD7unluAcojs"
      },
      "execution_count": null,
      "outputs": []
    },
    {
      "cell_type": "markdown",
      "source": [
        "선형모델인 SGDClassifier를 사용해서 잘못 분류-> 선형분류기는 클래스마다 픽셀에 가중치 할당, 새 이미지에 대해 단순히 픽셀 강도의 가중치 합을 클래스 점수로 계산하여 3과 5를 쉽게 혼동 가능\n",
        "\n",
        "-에러 줄이려면 이미지를 중앙에 위치시키고 회전되어 있지 않도록 전처리\n",
        "\n",
        "##3.6 다중 레이블 분류\n",
        "\n",
        "다중 레이블 분류: 여러개의 이진 꼬리표 출력하는 분류 시스템"
      ],
      "metadata": {
        "id": "OeB8_sKIc06P"
      }
    },
    {
      "cell_type": "code",
      "source": [
        "from sklearn.neighbors import KNeighborsClassifier\n",
        "\n",
        "y_train_large=(y_train>=7)\n",
        "y_train_odd=(y_train%2==1)\n",
        "y_multilabel=np.c_[y_train_large, y_train_odd]\n",
        "\n",
        "knn_clf=KNeighborsClassifier()\n",
        "knn_clf.fit(X_train, y_multilabel)"
      ],
      "metadata": {
        "id": "nuhozW1HdiQK"
      },
      "execution_count": null,
      "outputs": []
    },
    {
      "cell_type": "code",
      "source": [
        "#올바르게 분류됨: 숫자 5는 크지않고 false, 홀수 true\n",
        "knn_clf.predict([some_digit])"
      ],
      "metadata": {
        "id": "X8hqL1CTdi38"
      },
      "execution_count": null,
      "outputs": []
    },
    {
      "cell_type": "code",
      "source": [
        "#모든 레이블에 대한 f1 점수의 평균 계산\n",
        "y_train_knn_pred=cross_val_predict(knn_clf, X_train, y_multilabel, cv=3)\n",
        "f1_score(y_multilabel, y_train_knn_pred, average=\"macro\")"
      ],
      "metadata": {
        "id": "tuFatUKLd-FD"
      },
      "execution_count": null,
      "outputs": []
    },
    {
      "cell_type": "markdown",
      "source": [
        "레이블에 클래스의 지지도를 가중치로 주기(average=\"weighted\"로 설정)\n",
        "\n",
        "##3.7 다중출력분류\n",
        "\n",
        "다중출력분류: 다중레이블분류에서 한 레이블이 다중 클래스가 될 수 있도록 일반화(즉 값을 두개 이상 가질 수 있음)\n",
        "\n",
        "-> 이를 위해 이미지 잡음 제거 시스템 만들기"
      ],
      "metadata": {
        "id": "OEOLmU-WeMDb"
      }
    },
    {
      "cell_type": "code",
      "source": [
        "#randint(): 픽셀강도에 잡음 추가 : 타깃이 원본이미지됨\n",
        "noise=np.random.randint(0,100,(len(X_train), 784))\n",
        "X_train_mod=X_train+noise\n",
        "noise=np.random.randint(0,100,(len(X_test),784))\n",
        "X_test_mod=X_test+noise\n",
        "y_train_mod=X_train\n",
        "y_test_mod=X_test"
      ],
      "metadata": {
        "id": "hRO26nFgelnP"
      },
      "execution_count": null,
      "outputs": []
    },
    {
      "cell_type": "code",
      "source": [
        "#분류기를 훈련시켜 이미지 깨끗하도록\n",
        "knn_clf.fit(X_train_mod, y_train_mod)\n",
        "clean_digit=knn_clf.predict([X_test_mod[some_index]])\n",
        "plot_digit(clean_digit)"
      ],
      "metadata": {
        "id": "KZaCxBwge6En"
      },
      "execution_count": null,
      "outputs": []
    }
  ]
}